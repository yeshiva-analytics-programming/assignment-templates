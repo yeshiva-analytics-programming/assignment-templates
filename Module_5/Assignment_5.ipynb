{
 "cells": [
  {
   "cell_type": "markdown",
   "metadata": {},
   "source": [
    "# Assignment 5\n",
    "\n",
    "\n",
    "This time, I'm working with student grades!  I'm going to create some fake student data and work with it, to practice working with `pandas` Series and DataFrames."
   ]
  },
  {
   "cell_type": "markdown",
   "metadata": {},
   "source": [
    "## Setup and Preparation\n",
    "\n",
    "As always, I begin by importing the libraries I need!"
   ]
  },
  {
   "cell_type": "code",
   "execution_count": 1,
   "metadata": {},
   "outputs": [],
   "source": [
    "import numpy as np\n",
    "import pandas as pd"
   ]
  },
  {
   "cell_type": "markdown",
   "metadata": {},
   "source": [
    "If I'm not sure how to do someting, I can use a question mark, as seen below.  If I'm in a Jupyter notebook, the help file will show up below my code.  I forgot how to do `randint`, so I needed a little help."
   ]
  },
  {
   "cell_type": "code",
   "execution_count": 2,
   "metadata": {},
   "outputs": [],
   "source": [
    "?np.random.randint"
   ]
  },
  {
   "cell_type": "markdown",
   "metadata": {},
   "source": [
    "Now that I remember how to do a (pseudo)random integer generator, I'm ready to create a pandas DataFrame.  I'm going to name my DataFrame and its columns well, so that they're \"self-documenting\" -- it's obvious what they are.  \n",
    "\n",
    "## Creating a DataFrame\n",
    "\n",
    "First, I'll create some lists that I'll then include in my DataFrame.  I could create my DataFrame in various different ways, but this, to me, is the most clear. "
   ]
  },
  {
   "cell_type": "code",
   "execution_count": 3,
   "metadata": {},
   "outputs": [],
   "source": [
    "student_ids = np.random.randint(low = 12345, high = 99999, size = 10)\n",
    "first_names = [\"Susan\", \"Wendy\", \"Xu\", \"Jorge\", \"Jacob\", \n",
    "               \"Melita\", \"Jose María\", \"Nguyet\", \"Jesse\", \"Nechama\"]\n",
    "last_names = [\"Thompson\", \"Goldman\", \"Zhang\", \"Nuñez\", \"Felmeister\",\n",
    "              \"Robles\", \"Delgado\", \"Vu\", \"Carter\", \"Cohen\"]\n",
    "last_term_math = np.random.randint(low=70, high=100, size = 10)\n",
    "this_term_math = np.random.randint(low=70, high=100, size = 10)\n",
    "last_term_language = np.random.randint(low=70, high=100, size = 10)\n",
    "this_term_language = np.random.randint(low=70, high=100, size = 10)"
   ]
  },
  {
   "cell_type": "code",
   "execution_count": 4,
   "metadata": {},
   "outputs": [],
   "source": [
    "student_performance = pd.DataFrame({'first' : first_names,\n",
    "                                    'last' : last_names,\n",
    "                                    'last_math' : last_term_math,\n",
    "                                    'current_math' : this_term_math,\n",
    "                                    'last_language' : last_term_language,\n",
    "                                    'current_language' : this_term_language},\n",
    "                                   index = student_ids)"
   ]
  },
  {
   "cell_type": "markdown",
   "metadata": {},
   "source": [
    "Let's check out what this data frame looks like, to make sure there were no weird mistakes and I have what looks like a student gradebook:"
   ]
  },
  {
   "cell_type": "code",
   "execution_count": 5,
   "metadata": {},
   "outputs": [
    {
     "data": {
      "text/html": [
       "<div>\n",
       "<style scoped>\n",
       "    .dataframe tbody tr th:only-of-type {\n",
       "        vertical-align: middle;\n",
       "    }\n",
       "\n",
       "    .dataframe tbody tr th {\n",
       "        vertical-align: top;\n",
       "    }\n",
       "\n",
       "    .dataframe thead th {\n",
       "        text-align: right;\n",
       "    }\n",
       "</style>\n",
       "<table border=\"1\" class=\"dataframe\">\n",
       "  <thead>\n",
       "    <tr style=\"text-align: right;\">\n",
       "      <th></th>\n",
       "      <th>first</th>\n",
       "      <th>last</th>\n",
       "      <th>last_math</th>\n",
       "      <th>current_math</th>\n",
       "      <th>last_language</th>\n",
       "      <th>current_language</th>\n",
       "    </tr>\n",
       "  </thead>\n",
       "  <tbody>\n",
       "    <tr>\n",
       "      <th>33488</th>\n",
       "      <td>Susan</td>\n",
       "      <td>Thompson</td>\n",
       "      <td>74</td>\n",
       "      <td>70</td>\n",
       "      <td>93</td>\n",
       "      <td>85</td>\n",
       "    </tr>\n",
       "    <tr>\n",
       "      <th>70363</th>\n",
       "      <td>Wendy</td>\n",
       "      <td>Goldman</td>\n",
       "      <td>75</td>\n",
       "      <td>75</td>\n",
       "      <td>79</td>\n",
       "      <td>80</td>\n",
       "    </tr>\n",
       "    <tr>\n",
       "      <th>97942</th>\n",
       "      <td>Xu</td>\n",
       "      <td>Zhang</td>\n",
       "      <td>98</td>\n",
       "      <td>99</td>\n",
       "      <td>88</td>\n",
       "      <td>71</td>\n",
       "    </tr>\n",
       "    <tr>\n",
       "      <th>90989</th>\n",
       "      <td>Jorge</td>\n",
       "      <td>Nuñez</td>\n",
       "      <td>96</td>\n",
       "      <td>73</td>\n",
       "      <td>75</td>\n",
       "      <td>96</td>\n",
       "    </tr>\n",
       "    <tr>\n",
       "      <th>73736</th>\n",
       "      <td>Jacob</td>\n",
       "      <td>Felmeister</td>\n",
       "      <td>84</td>\n",
       "      <td>90</td>\n",
       "      <td>79</td>\n",
       "      <td>77</td>\n",
       "    </tr>\n",
       "    <tr>\n",
       "      <th>81923</th>\n",
       "      <td>Melita</td>\n",
       "      <td>Robles</td>\n",
       "      <td>96</td>\n",
       "      <td>94</td>\n",
       "      <td>72</td>\n",
       "      <td>87</td>\n",
       "    </tr>\n",
       "    <tr>\n",
       "      <th>28240</th>\n",
       "      <td>Jose María</td>\n",
       "      <td>Delgado</td>\n",
       "      <td>83</td>\n",
       "      <td>80</td>\n",
       "      <td>71</td>\n",
       "      <td>79</td>\n",
       "    </tr>\n",
       "    <tr>\n",
       "      <th>79831</th>\n",
       "      <td>Nguyet</td>\n",
       "      <td>Vu</td>\n",
       "      <td>89</td>\n",
       "      <td>91</td>\n",
       "      <td>78</td>\n",
       "      <td>74</td>\n",
       "    </tr>\n",
       "    <tr>\n",
       "      <th>40367</th>\n",
       "      <td>Jesse</td>\n",
       "      <td>Carter</td>\n",
       "      <td>86</td>\n",
       "      <td>73</td>\n",
       "      <td>71</td>\n",
       "      <td>75</td>\n",
       "    </tr>\n",
       "    <tr>\n",
       "      <th>64075</th>\n",
       "      <td>Nechama</td>\n",
       "      <td>Cohen</td>\n",
       "      <td>73</td>\n",
       "      <td>99</td>\n",
       "      <td>95</td>\n",
       "      <td>72</td>\n",
       "    </tr>\n",
       "  </tbody>\n",
       "</table>\n",
       "</div>"
      ],
      "text/plain": [
       "            first        last  last_math  current_math  last_language  \\\n",
       "33488       Susan    Thompson         74            70             93   \n",
       "70363       Wendy     Goldman         75            75             79   \n",
       "97942          Xu       Zhang         98            99             88   \n",
       "90989       Jorge       Nuñez         96            73             75   \n",
       "73736       Jacob  Felmeister         84            90             79   \n",
       "81923      Melita      Robles         96            94             72   \n",
       "28240  Jose María     Delgado         83            80             71   \n",
       "79831      Nguyet          Vu         89            91             78   \n",
       "40367       Jesse      Carter         86            73             71   \n",
       "64075     Nechama       Cohen         73            99             95   \n",
       "\n",
       "       current_language  \n",
       "33488                85  \n",
       "70363                80  \n",
       "97942                71  \n",
       "90989                96  \n",
       "73736                77  \n",
       "81923                87  \n",
       "28240                79  \n",
       "79831                74  \n",
       "40367                75  \n",
       "64075                72  "
      ]
     },
     "execution_count": 5,
     "metadata": {},
     "output_type": "execute_result"
    }
   ],
   "source": [
    "student_performance"
   ]
  },
  {
   "cell_type": "markdown",
   "metadata": {},
   "source": [
    "Okay, I'm happy with my fake data, so now on to analysis!\n",
    "\n",
    "## Grade Trends\n",
    "\n",
    "I want to identify:\n",
    "\n",
    "* Highest and lowest math grade\n",
    "* Overall (mean) change in math grades from last term to this term\n",
    "* Highest and lowest language grade\n",
    "* Overall (mean) change in language grades from last term to this term\n",
    "\n",
    "We'll do this step by step.\n",
    "\n",
    "### Math Grades: High and Low\n",
    "\n",
    "Let's start by finding the highest and lowest math grade (in both terms!)\n",
    "\n",
    "Again, there are lots of ways to do this, but I'm going to do it using this algorithm:\n",
    "\n",
    "* Find the lowest math grade last term\n",
    "* Find the lowest math grade this term\n",
    "* Find the lowest of those two\n",
    "\n",
    "And similarly for the highest math grade."
   ]
  },
  {
   "cell_type": "code",
   "execution_count": 6,
   "metadata": {},
   "outputs": [
    {
     "name": "stdout",
     "output_type": "stream",
     "text": [
      "The lowest math grade is: 70\n"
     ]
    }
   ],
   "source": [
    "low_math_last = student_performance['last_math'].min()\n",
    "low_math_current = student_performance['current_math'].min()\n",
    "lowest_math = min(low_math_last, low_math_current)\n",
    "print(\"The lowest math grade is: \" + str(lowest_math))"
   ]
  },
  {
   "cell_type": "code",
   "execution_count": 7,
   "metadata": {},
   "outputs": [
    {
     "name": "stdout",
     "output_type": "stream",
     "text": [
      "The highest math grade is: 99\n"
     ]
    }
   ],
   "source": [
    "high_math_last = student_performance['last_math'].max()\n",
    "high_math_current = student_performance['current_math'].max()\n",
    "highest_math = max(high_math_last, high_math_current)\n",
    "print(\"The highest math grade is: \" + str(highest_math))"
   ]
  },
  {
   "cell_type": "markdown",
   "metadata": {},
   "source": [
    "### Languge Grades: High and Low\n",
    "\n",
    "I'm going to do the same for language grades:"
   ]
  },
  {
   "cell_type": "code",
   "execution_count": 8,
   "metadata": {},
   "outputs": [
    {
     "name": "stdout",
     "output_type": "stream",
     "text": [
      "The lowest language grade is: 71\n",
      "The highest language grade is: 96\n"
     ]
    }
   ],
   "source": [
    "low_language_last = student_performance['last_language'].min()\n",
    "low_language_current = student_performance['current_language'].min()\n",
    "lowest_language = min(low_language_last, low_language_current)\n",
    "print(\"The lowest language grade is: \" + str(lowest_language))\n",
    "\n",
    "\n",
    "high_language_last = student_performance['last_language'].max()\n",
    "high_language_current = student_performance['current_language'].max()\n",
    "highest_language = max(high_language_last, high_language_current)\n",
    "print(\"The highest language grade is: \" + str(highest_language))"
   ]
  },
  {
   "cell_type": "markdown",
   "metadata": {},
   "source": [
    "### Math Grades: Student Improvement\n",
    "\n",
    "We'll do some vectorized math to find each student's improvement (current - last term grades) in math.  Then we'll take the average of all those improvement amounts to find the overall (mean) improvement.  If the number is negative, that means we are actually going down in grades, on average!"
   ]
  },
  {
   "cell_type": "code",
   "execution_count": 9,
   "metadata": {},
   "outputs": [
    {
     "name": "stdout",
     "output_type": "stream",
     "text": [
      "The overall, or average, math improvement from last term to this term is: -1.0 points.\n"
     ]
    }
   ],
   "source": [
    "math_improvement = student_performance['current_math'] - student_performance['last_math']\n",
    "average_math_improvement = math_improvement.mean()\n",
    "print(\"The overall, or average, math improvement from last term to this term is: \" + \n",
    "      str(average_math_improvement) +\n",
    "     \" points.\")"
   ]
  },
  {
   "cell_type": "markdown",
   "metadata": {},
   "source": [
    "### Language Grades: Student Improvement\n",
    "\n",
    "We'll do the same thing for language grades:"
   ]
  },
  {
   "cell_type": "code",
   "execution_count": 10,
   "metadata": {},
   "outputs": [
    {
     "name": "stdout",
     "output_type": "stream",
     "text": [
      "The overall, or average, language improvement from last term to this term is: -0.5 points.\n"
     ]
    }
   ],
   "source": [
    "language_improvement = student_performance['current_language'] - student_performance['last_language']\n",
    "average_language_improvement = language_improvement.mean()\n",
    "print(\"The overall, or average, language improvement from last term to this term is: \" + \n",
    "      str(average_language_improvement) +\n",
    "     \" points.\")"
   ]
  },
  {
   "cell_type": "markdown",
   "metadata": {},
   "source": [
    "## Finding Data\n",
    "\n",
    "We now want to use `.loc` and `.iloc` to find specific data.  \n",
    "\n",
    "### Using `.loc`\n",
    "\n",
    "Let's say, for example, we want to find the current math grade for a specific id.  This is how we'll do that:\n",
    "\n",
    "* Select an id number (say, the fifth id in my list of ids)\n",
    "* Look up the current math grade for that id number, using `.loc`."
   ]
  },
  {
   "cell_type": "code",
   "execution_count": 11,
   "metadata": {},
   "outputs": [
    {
     "name": "stdout",
     "output_type": "stream",
     "text": [
      "The ID I'm looking for is:  73736\n"
     ]
    }
   ],
   "source": [
    "my_id = student_ids[4]\n",
    "print(\"The ID I'm looking for is: \", str(my_id))"
   ]
  },
  {
   "cell_type": "markdown",
   "metadata": {},
   "source": [
    "Let's look at the whole record:"
   ]
  },
  {
   "cell_type": "code",
   "execution_count": 12,
   "metadata": {},
   "outputs": [
    {
     "data": {
      "text/plain": [
       "first                    Jacob\n",
       "last                Felmeister\n",
       "last_math                   84\n",
       "current_math                90\n",
       "last_language               79\n",
       "current_language            77\n",
       "Name: 73736, dtype: object"
      ]
     },
     "execution_count": 12,
     "metadata": {},
     "output_type": "execute_result"
    }
   ],
   "source": [
    "student_performance.loc[my_id]"
   ]
  },
  {
   "cell_type": "markdown",
   "metadata": {},
   "source": [
    "But what if I want to identify just the current math grade?"
   ]
  },
  {
   "cell_type": "code",
   "execution_count": 13,
   "metadata": {},
   "outputs": [
    {
     "data": {
      "text/plain": [
       "90"
      ]
     },
     "execution_count": 13,
     "metadata": {},
     "output_type": "execute_result"
    }
   ],
   "source": [
    "student_performance.loc[my_id]['current_math']"
   ]
  },
  {
   "cell_type": "markdown",
   "metadata": {},
   "source": [
    "### Using `.iloc`\n",
    "\n",
    "Using `.iloc` is just based on numbers.  So let's find the 6th column (current language grade) of the 2nd row.  We recall that in Python, we start counting at zero!"
   ]
  },
  {
   "cell_type": "code",
   "execution_count": 14,
   "metadata": {},
   "outputs": [
    {
     "data": {
      "text/plain": [
       "80"
      ]
     },
     "execution_count": 14,
     "metadata": {},
     "output_type": "execute_result"
    }
   ],
   "source": [
    "student_performance.iloc[1,5]"
   ]
  },
  {
   "cell_type": "markdown",
   "metadata": {},
   "source": [
    "## Sorting Data\n",
    "\n",
    "Currently, our data is in random order.  Let's say we want to organize our data by last name."
   ]
  },
  {
   "cell_type": "code",
   "execution_count": 15,
   "metadata": {},
   "outputs": [
    {
     "data": {
      "text/html": [
       "<div>\n",
       "<style scoped>\n",
       "    .dataframe tbody tr th:only-of-type {\n",
       "        vertical-align: middle;\n",
       "    }\n",
       "\n",
       "    .dataframe tbody tr th {\n",
       "        vertical-align: top;\n",
       "    }\n",
       "\n",
       "    .dataframe thead th {\n",
       "        text-align: right;\n",
       "    }\n",
       "</style>\n",
       "<table border=\"1\" class=\"dataframe\">\n",
       "  <thead>\n",
       "    <tr style=\"text-align: right;\">\n",
       "      <th></th>\n",
       "      <th>first</th>\n",
       "      <th>last</th>\n",
       "      <th>last_math</th>\n",
       "      <th>current_math</th>\n",
       "      <th>last_language</th>\n",
       "      <th>current_language</th>\n",
       "    </tr>\n",
       "  </thead>\n",
       "  <tbody>\n",
       "    <tr>\n",
       "      <th>40367</th>\n",
       "      <td>Jesse</td>\n",
       "      <td>Carter</td>\n",
       "      <td>86</td>\n",
       "      <td>73</td>\n",
       "      <td>71</td>\n",
       "      <td>75</td>\n",
       "    </tr>\n",
       "    <tr>\n",
       "      <th>64075</th>\n",
       "      <td>Nechama</td>\n",
       "      <td>Cohen</td>\n",
       "      <td>73</td>\n",
       "      <td>99</td>\n",
       "      <td>95</td>\n",
       "      <td>72</td>\n",
       "    </tr>\n",
       "    <tr>\n",
       "      <th>28240</th>\n",
       "      <td>Jose María</td>\n",
       "      <td>Delgado</td>\n",
       "      <td>83</td>\n",
       "      <td>80</td>\n",
       "      <td>71</td>\n",
       "      <td>79</td>\n",
       "    </tr>\n",
       "    <tr>\n",
       "      <th>73736</th>\n",
       "      <td>Jacob</td>\n",
       "      <td>Felmeister</td>\n",
       "      <td>84</td>\n",
       "      <td>90</td>\n",
       "      <td>79</td>\n",
       "      <td>77</td>\n",
       "    </tr>\n",
       "    <tr>\n",
       "      <th>70363</th>\n",
       "      <td>Wendy</td>\n",
       "      <td>Goldman</td>\n",
       "      <td>75</td>\n",
       "      <td>75</td>\n",
       "      <td>79</td>\n",
       "      <td>80</td>\n",
       "    </tr>\n",
       "    <tr>\n",
       "      <th>90989</th>\n",
       "      <td>Jorge</td>\n",
       "      <td>Nuñez</td>\n",
       "      <td>96</td>\n",
       "      <td>73</td>\n",
       "      <td>75</td>\n",
       "      <td>96</td>\n",
       "    </tr>\n",
       "    <tr>\n",
       "      <th>81923</th>\n",
       "      <td>Melita</td>\n",
       "      <td>Robles</td>\n",
       "      <td>96</td>\n",
       "      <td>94</td>\n",
       "      <td>72</td>\n",
       "      <td>87</td>\n",
       "    </tr>\n",
       "    <tr>\n",
       "      <th>33488</th>\n",
       "      <td>Susan</td>\n",
       "      <td>Thompson</td>\n",
       "      <td>74</td>\n",
       "      <td>70</td>\n",
       "      <td>93</td>\n",
       "      <td>85</td>\n",
       "    </tr>\n",
       "    <tr>\n",
       "      <th>79831</th>\n",
       "      <td>Nguyet</td>\n",
       "      <td>Vu</td>\n",
       "      <td>89</td>\n",
       "      <td>91</td>\n",
       "      <td>78</td>\n",
       "      <td>74</td>\n",
       "    </tr>\n",
       "    <tr>\n",
       "      <th>97942</th>\n",
       "      <td>Xu</td>\n",
       "      <td>Zhang</td>\n",
       "      <td>98</td>\n",
       "      <td>99</td>\n",
       "      <td>88</td>\n",
       "      <td>71</td>\n",
       "    </tr>\n",
       "  </tbody>\n",
       "</table>\n",
       "</div>"
      ],
      "text/plain": [
       "            first        last  last_math  current_math  last_language  \\\n",
       "40367       Jesse      Carter         86            73             71   \n",
       "64075     Nechama       Cohen         73            99             95   \n",
       "28240  Jose María     Delgado         83            80             71   \n",
       "73736       Jacob  Felmeister         84            90             79   \n",
       "70363       Wendy     Goldman         75            75             79   \n",
       "90989       Jorge       Nuñez         96            73             75   \n",
       "81923      Melita      Robles         96            94             72   \n",
       "33488       Susan    Thompson         74            70             93   \n",
       "79831      Nguyet          Vu         89            91             78   \n",
       "97942          Xu       Zhang         98            99             88   \n",
       "\n",
       "       current_language  \n",
       "40367                75  \n",
       "64075                72  \n",
       "28240                79  \n",
       "73736                77  \n",
       "70363                80  \n",
       "90989                96  \n",
       "81923                87  \n",
       "33488                85  \n",
       "79831                74  \n",
       "97942                71  "
      ]
     },
     "execution_count": 15,
     "metadata": {},
     "output_type": "execute_result"
    }
   ],
   "source": [
    "student_performance.sort_values(by = 'last')"
   ]
  }
 ],
 "metadata": {
  "kernelspec": {
   "display_name": "Python 3",
   "language": "python",
   "name": "python3"
  },
  "language_info": {
   "codemirror_mode": {
    "name": "ipython",
    "version": 3
   },
   "file_extension": ".py",
   "mimetype": "text/x-python",
   "name": "python",
   "nbconvert_exporter": "python",
   "pygments_lexer": "ipython3",
   "version": "3.7.1"
  }
 },
 "nbformat": 4,
 "nbformat_minor": 2
}
