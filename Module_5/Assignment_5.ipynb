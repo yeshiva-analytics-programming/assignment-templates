{
 "cells": [
  {
   "cell_type": "markdown",
   "metadata": {},
   "source": [
    "# Assignment 5\n",
    "\n",
    "Jane Programmer\n",
    "\n",
    "## Description\n",
    "\n",
    "This time, we're working with New York City gas consumption data. More information can be found at https://data.cityofnewyork.us/Environment/Natural-Gas-Consumption-by-ZIP-Code-2010/uedp-fegm/data .\n",
    "\n",
    "As a data analyst working to improve energy efficiency in NYC, my first job is to ingest and explore this data.  That's what we'll do here.\n",
    "\n",
    "## Data Ingestion\n",
    "\n",
    "We'll bring the data into my local environment using a pandas command called `read_csv`.  This might take awhile!"
   ]
  },
  {
   "cell_type": "code",
   "execution_count": 1,
   "metadata": {},
   "outputs": [],
   "source": [
    "import pandas as pd\n",
    "nyc_gas =  pd.read_csv(\"https://data.cityofnewyork.us/api/views/uedp-fegm/rows.csv?accessType=DOWNLOAD\")"
   ]
  },
  {
   "cell_type": "markdown",
   "metadata": {},
   "source": [
    "## Quick Data Preview\n",
    "\n",
    "Sometimes the best way to get an idea of what data looks like is, well, to look at it.  Let's look at the first ten rows."
   ]
  },
  {
   "cell_type": "code",
   "execution_count": 2,
   "metadata": {},
   "outputs": [
    {
     "data": {
      "text/html": [
       "<div>\n",
       "<style scoped>\n",
       "    .dataframe tbody tr th:only-of-type {\n",
       "        vertical-align: middle;\n",
       "    }\n",
       "\n",
       "    .dataframe tbody tr th {\n",
       "        vertical-align: top;\n",
       "    }\n",
       "\n",
       "    .dataframe thead th {\n",
       "        text-align: right;\n",
       "    }\n",
       "</style>\n",
       "<table border=\"1\" class=\"dataframe\">\n",
       "  <thead>\n",
       "    <tr style=\"text-align: right;\">\n",
       "      <th></th>\n",
       "      <th>Zip Code</th>\n",
       "      <th>Building type (service class</th>\n",
       "      <th>Consumption (therms)</th>\n",
       "      <th>Consumption (GJ)</th>\n",
       "      <th>Utility/Data Source</th>\n",
       "    </tr>\n",
       "  </thead>\n",
       "  <tbody>\n",
       "    <tr>\n",
       "      <th>0</th>\n",
       "      <td>10300</td>\n",
       "      <td>Commercial</td>\n",
       "      <td>470.0</td>\n",
       "      <td>50.0</td>\n",
       "      <td>National Grid</td>\n",
       "    </tr>\n",
       "    <tr>\n",
       "      <th>1</th>\n",
       "      <td>10335</td>\n",
       "      <td>Commercial</td>\n",
       "      <td>647.0</td>\n",
       "      <td>68.0</td>\n",
       "      <td>National Grid</td>\n",
       "    </tr>\n",
       "    <tr>\n",
       "      <th>2</th>\n",
       "      <td>10360</td>\n",
       "      <td>Large residential</td>\n",
       "      <td>33762.0</td>\n",
       "      <td>3562.0</td>\n",
       "      <td>National Grid</td>\n",
       "    </tr>\n",
       "    <tr>\n",
       "      <th>3</th>\n",
       "      <td>11200</td>\n",
       "      <td>Commercial</td>\n",
       "      <td>32125.0</td>\n",
       "      <td>3389.0</td>\n",
       "      <td>National Grid</td>\n",
       "    </tr>\n",
       "    <tr>\n",
       "      <th>4</th>\n",
       "      <td>11200</td>\n",
       "      <td>Institutional</td>\n",
       "      <td>3605.0</td>\n",
       "      <td>380.0</td>\n",
       "      <td>National Grid</td>\n",
       "    </tr>\n",
       "    <tr>\n",
       "      <th>5</th>\n",
       "      <td>11200</td>\n",
       "      <td>Small residential</td>\n",
       "      <td>3960.0</td>\n",
       "      <td>418.0</td>\n",
       "      <td>National Grid</td>\n",
       "    </tr>\n",
       "    <tr>\n",
       "      <th>6</th>\n",
       "      <td>11254</td>\n",
       "      <td>Small residential</td>\n",
       "      <td>1896.0</td>\n",
       "      <td>200.0</td>\n",
       "      <td>National Grid</td>\n",
       "    </tr>\n",
       "    <tr>\n",
       "      <th>7</th>\n",
       "      <td>11274</td>\n",
       "      <td>Commercial</td>\n",
       "      <td>8364.0</td>\n",
       "      <td>882.0</td>\n",
       "      <td>National Grid</td>\n",
       "    </tr>\n",
       "    <tr>\n",
       "      <th>8</th>\n",
       "      <td>11279</td>\n",
       "      <td>Commercial</td>\n",
       "      <td>2579.0</td>\n",
       "      <td>272.0</td>\n",
       "      <td>National Grid</td>\n",
       "    </tr>\n",
       "    <tr>\n",
       "      <th>9</th>\n",
       "      <td>11279</td>\n",
       "      <td>Large residential</td>\n",
       "      <td>301.0</td>\n",
       "      <td>32.0</td>\n",
       "      <td>National Grid</td>\n",
       "    </tr>\n",
       "  </tbody>\n",
       "</table>\n",
       "</div>"
      ],
      "text/plain": [
       "  Zip Code Building type (service class   Consumption (therms)   \\\n",
       "0    10300                   Commercial                   470.0   \n",
       "1    10335                   Commercial                   647.0   \n",
       "2    10360            Large residential                 33762.0   \n",
       "3    11200                   Commercial                 32125.0   \n",
       "4    11200                Institutional                  3605.0   \n",
       "5    11200            Small residential                  3960.0   \n",
       "6    11254            Small residential                  1896.0   \n",
       "7    11274                   Commercial                  8364.0   \n",
       "8    11279                   Commercial                  2579.0   \n",
       "9    11279            Large residential                   301.0   \n",
       "\n",
       "    Consumption (GJ)  Utility/Data Source  \n",
       "0                50.0       National Grid  \n",
       "1                68.0       National Grid  \n",
       "2              3562.0       National Grid  \n",
       "3              3389.0       National Grid  \n",
       "4               380.0       National Grid  \n",
       "5               418.0       National Grid  \n",
       "6               200.0       National Grid  \n",
       "7               882.0       National Grid  \n",
       "8               272.0       National Grid  \n",
       "9                32.0       National Grid  "
      ]
     },
     "execution_count": 3,
     "metadata": {},
     "output_type": "execute_result"
    }
   ],
   "source": [
    "nyc_gas.head(10)"
   ]
  },
  {
   "cell_type": "markdown",
   "metadata": {},
   "source": [
    "So, it seems that we have five columns of data, which represent:\n",
    "\n",
    "* ZIP code (postal code)\n",
    "* Building type\n",
    "* Consumption in therms (some kind of measurement of energy use?)\n",
    "* Consumption in GJ (not sure what a GJ is, but looks like some sort of energy measure)\n",
    "* Utility that reported this data\n",
    "\n",
    "\n",
    "## Data Size and Labels\n",
    "\n",
    "Let's get additional basic details about our data: how many columns and the label names for our data."
   ]
  },
  {
   "cell_type": "code",
   "execution_count": 4,
   "metadata": {},
   "outputs": [
    {
     "data": {
      "text/plain": [
       "(1015, 5)"
      ]
     },
     "execution_count": 4,
     "metadata": {},
     "output_type": "execute_result"
    }
   ],
   "source": [
    "nyc_gas.# add some keyword here that tells you the number of rows and columns"
   ]
  },
  {
   "cell_type": "code",
   "execution_count": 5,
   "metadata": {},
   "outputs": [
    {
     "data": {
      "text/plain": [
       "['Zip Code',\n",
       " 'Building type (service class',\n",
       " ' Consumption (therms) ',\n",
       " ' Consumption (GJ) ',\n",
       " 'Utility/Data Source']"
      ]
     },
     "execution_count": 5,
     "metadata": {},
     "output_type": "execute_result"
    }
   ],
   "source": [
    "list(nyc_gas.# add some keyword here)  \n",
    "# We can use list combined with 'columns' to make a nicer list appearance than just using 'columns' alone."
   ]
  },
  {
   "cell_type": "markdown",
   "metadata": {},
   "source": [
    "We have ______ rows.  As we already established, we have ___ columns.  When looking at the column labels, we notice a few things that might affect how easy it is to use them in code:\n",
    "\n",
    "* First thing you notice\n",
    "* Another thing?\n",
    "* Maybe a third?\n",
    "\n",
    "I will find it useful to reindex my DataFrame and give different column names.  I prefer to use labels that are all lowercase and have no punctuation save the underscore (_). "
   ]
  },
  {
   "cell_type": "code",
   "execution_count": 6,
   "metadata": {},
   "outputs": [],
   "source": [
    "new_labels = {'Zip Code' : \"zip\",\n",
    "              'Building type (service class' : \"building_type\",\n",
    "              ' Consumption (therms) ' : \"consumption_therms\",\n",
    "              # Finish this dictionary of tuples! }\n",
    "nyc_gas = nyc_gas.rename(# What goes inside?)"
   ]
  },
  {
   "cell_type": "markdown",
   "metadata": {},
   "source": [
    "Let's peek at our renamed DataFrame to see if it's a bit easier to work with, as far as computationally-friendly but human-readable column names:"
   ]
  },
  {
   "cell_type": "code",
   "execution_count": 7,
   "metadata": {},
   "outputs": [
    {
     "data": {
      "text/html": [
       "<div>\n",
       "<style scoped>\n",
       "    .dataframe tbody tr th:only-of-type {\n",
       "        vertical-align: middle;\n",
       "    }\n",
       "\n",
       "    .dataframe tbody tr th {\n",
       "        vertical-align: top;\n",
       "    }\n",
       "\n",
       "    .dataframe thead th {\n",
       "        text-align: right;\n",
       "    }\n",
       "</style>\n",
       "<table border=\"1\" class=\"dataframe\">\n",
       "  <thead>\n",
       "    <tr style=\"text-align: right;\">\n",
       "      <th></th>\n",
       "      <th>zip</th>\n",
       "      <th>building_type</th>\n",
       "      <th>consumption_therms</th>\n",
       "      <th>consumption_gj</th>\n",
       "      <th>utility_reporter</th>\n",
       "    </tr>\n",
       "  </thead>\n",
       "  <tbody>\n",
       "    <tr>\n",
       "      <th>0</th>\n",
       "      <td>10300</td>\n",
       "      <td>Commercial</td>\n",
       "      <td>470.0</td>\n",
       "      <td>50.0</td>\n",
       "      <td>National Grid</td>\n",
       "    </tr>\n",
       "    <tr>\n",
       "      <th>1</th>\n",
       "      <td>10335</td>\n",
       "      <td>Commercial</td>\n",
       "      <td>647.0</td>\n",
       "      <td>68.0</td>\n",
       "      <td>National Grid</td>\n",
       "    </tr>\n",
       "    <tr>\n",
       "      <th>2</th>\n",
       "      <td>10360</td>\n",
       "      <td>Large residential</td>\n",
       "      <td>33762.0</td>\n",
       "      <td>3562.0</td>\n",
       "      <td>National Grid</td>\n",
       "    </tr>\n",
       "    <tr>\n",
       "      <th>3</th>\n",
       "      <td>11200</td>\n",
       "      <td>Commercial</td>\n",
       "      <td>32125.0</td>\n",
       "      <td>3389.0</td>\n",
       "      <td>National Grid</td>\n",
       "    </tr>\n",
       "    <tr>\n",
       "      <th>4</th>\n",
       "      <td>11200</td>\n",
       "      <td>Institutional</td>\n",
       "      <td>3605.0</td>\n",
       "      <td>380.0</td>\n",
       "      <td>National Grid</td>\n",
       "    </tr>\n",
       "  </tbody>\n",
       "</table>\n",
       "</div>"
      ],
      "text/plain": [
       "     zip      building_type  consumption_therms  consumption_gj  \\\n",
       "0  10300         Commercial               470.0            50.0   \n",
       "1  10335         Commercial               647.0            68.0   \n",
       "2  10360  Large residential             33762.0          3562.0   \n",
       "3  11200         Commercial             32125.0          3389.0   \n",
       "4  11200      Institutional              3605.0           380.0   \n",
       "\n",
       "  utility_reporter  \n",
       "0    National Grid  \n",
       "1    National Grid  \n",
       "2    National Grid  \n",
       "3    National Grid  \n",
       "4    National Grid  "
      ]
     },
     "execution_count": 7,
     "metadata": {},
     "output_type": "execute_result"
    }
   ],
   "source": [
    "nyc_gas.head()"
   ]
  },
  {
   "cell_type": "markdown",
   "metadata": {},
   "source": [
    "Now we want to do some actual data analysis to explore the data!  We'll start with building types.\n",
    "\n",
    "## Building Types\n",
    "\n",
    "We have a few questions we want to answer here, including:\n",
    "\n",
    "* How many distinct building types are included?  \n",
    "* What is the median energy consumption for each type?  \n",
    "* How do building types compare?\n",
    "\n",
    "We'll start by looking at the number of unique building types:"
   ]
  },
  {
   "cell_type": "code",
   "execution_count": 8,
   "metadata": {},
   "outputs": [
    {
     "data": {
      "text/plain": [
       "array(['Commercial', 'Large residential', 'Institutional',\n",
       "       'Small residential', 'Industrial', 'Residential',\n",
       "       'Large Residential'], dtype=object)"
      ]
     },
     "execution_count": 8,
     "metadata": {},
     "output_type": "execute_result"
    }
   ],
   "source": [
    "nyc_gas['building_type'].unique()"
   ]
  },
  {
   "cell_type": "markdown",
   "metadata": {},
   "source": [
    "I see that there are seven kinds of buildings, but two of them seem to be the same thing, just written differently, with different capitalization.  I want to combine \"Large residential\" and \"Large Residential\" into one group!  Also, it's unclear what \"Residential\" is -- is it small? Large?  I'll leave just plain \"Residential\" on its own until we get more information.\n",
    "\n",
    "There are many ways to accomplish what I want to do here.  One way is to filter the DataFrame so that I get several smaller DataFrames, one for each type of building.  That's what I'll do here, doing a quick peek to make sure I have the right data.  Then I can find median values on the columns, in my case the `consumption_gj` column!"
   ]
  },
  {
   "cell_type": "code",
   "execution_count": 9,
   "metadata": {},
   "outputs": [
    {
     "data": {
      "text/html": [
       "<div>\n",
       "<style scoped>\n",
       "    .dataframe tbody tr th:only-of-type {\n",
       "        vertical-align: middle;\n",
       "    }\n",
       "\n",
       "    .dataframe tbody tr th {\n",
       "        vertical-align: top;\n",
       "    }\n",
       "\n",
       "    .dataframe thead th {\n",
       "        text-align: right;\n",
       "    }\n",
       "</style>\n",
       "<table border=\"1\" class=\"dataframe\">\n",
       "  <thead>\n",
       "    <tr style=\"text-align: right;\">\n",
       "      <th></th>\n",
       "      <th>zip</th>\n",
       "      <th>building_type</th>\n",
       "      <th>consumption_therms</th>\n",
       "      <th>consumption_gj</th>\n",
       "      <th>utility_reporter</th>\n",
       "    </tr>\n",
       "  </thead>\n",
       "  <tbody>\n",
       "    <tr>\n",
       "      <th>0</th>\n",
       "      <td>10300</td>\n",
       "      <td>Commercial</td>\n",
       "      <td>470.0</td>\n",
       "      <td>50.0</td>\n",
       "      <td>National Grid</td>\n",
       "    </tr>\n",
       "    <tr>\n",
       "      <th>1</th>\n",
       "      <td>10335</td>\n",
       "      <td>Commercial</td>\n",
       "      <td>647.0</td>\n",
       "      <td>68.0</td>\n",
       "      <td>National Grid</td>\n",
       "    </tr>\n",
       "    <tr>\n",
       "      <th>3</th>\n",
       "      <td>11200</td>\n",
       "      <td>Commercial</td>\n",
       "      <td>32125.0</td>\n",
       "      <td>3389.0</td>\n",
       "      <td>National Grid</td>\n",
       "    </tr>\n",
       "    <tr>\n",
       "      <th>7</th>\n",
       "      <td>11274</td>\n",
       "      <td>Commercial</td>\n",
       "      <td>8364.0</td>\n",
       "      <td>882.0</td>\n",
       "      <td>National Grid</td>\n",
       "    </tr>\n",
       "    <tr>\n",
       "      <th>8</th>\n",
       "      <td>11279</td>\n",
       "      <td>Commercial</td>\n",
       "      <td>2579.0</td>\n",
       "      <td>272.0</td>\n",
       "      <td>National Grid</td>\n",
       "    </tr>\n",
       "  </tbody>\n",
       "</table>\n",
       "</div>"
      ],
      "text/plain": [
       "     zip building_type  consumption_therms  consumption_gj utility_reporter\n",
       "0  10300    Commercial               470.0            50.0    National Grid\n",
       "1  10335    Commercial               647.0            68.0    National Grid\n",
       "3  11200    Commercial             32125.0          3389.0    National Grid\n",
       "7  11274    Commercial              8364.0           882.0    National Grid\n",
       "8  11279    Commercial              2579.0           272.0    National Grid"
      ]
     },
     "execution_count": 9,
     "metadata": {},
     "output_type": "execute_result"
    }
   ],
   "source": [
    "commercial_df = nyc_gas[nyc_gas[\"building_type\"] # Put something here!]\n",
    "commercial_df.head()"
   ]
  },
  {
   "cell_type": "code",
   "execution_count": 10,
   "metadata": {},
   "outputs": [
    {
     "data": {
      "text/plain": [
       "189413.0"
      ]
     },
     "execution_count": 10,
     "metadata": {},
     "output_type": "execute_result"
    }
   ],
   "source": [
    "commercial_df[\"consumption_gj\"].# add something here to find the median value!"
   ]
  },
  {
   "cell_type": "markdown",
   "metadata": {},
   "source": [
    "I'll do the same for the other building types, and make sure to include both \"large\" types when I create that data frame!"
   ]
  },
  {
   "cell_type": "code",
   "execution_count": 11,
   "metadata": {},
   "outputs": [
    {
     "data": {
      "text/html": [
       "<div>\n",
       "<style scoped>\n",
       "    .dataframe tbody tr th:only-of-type {\n",
       "        vertical-align: middle;\n",
       "    }\n",
       "\n",
       "    .dataframe tbody tr th {\n",
       "        vertical-align: top;\n",
       "    }\n",
       "\n",
       "    .dataframe thead th {\n",
       "        text-align: right;\n",
       "    }\n",
       "</style>\n",
       "<table border=\"1\" class=\"dataframe\">\n",
       "  <thead>\n",
       "    <tr style=\"text-align: right;\">\n",
       "      <th></th>\n",
       "      <th>zip</th>\n",
       "      <th>building_type</th>\n",
       "      <th>consumption_therms</th>\n",
       "      <th>consumption_gj</th>\n",
       "      <th>utility_reporter</th>\n",
       "    </tr>\n",
       "  </thead>\n",
       "  <tbody>\n",
       "    <tr>\n",
       "      <th>4</th>\n",
       "      <td>11200</td>\n",
       "      <td>Institutional</td>\n",
       "      <td>3605.0</td>\n",
       "      <td>380.0</td>\n",
       "      <td>National Grid</td>\n",
       "    </tr>\n",
       "    <tr>\n",
       "      <th>15</th>\n",
       "      <td>11315</td>\n",
       "      <td>Institutional</td>\n",
       "      <td>339.0</td>\n",
       "      <td>36.0</td>\n",
       "      <td>National Grid</td>\n",
       "    </tr>\n",
       "    <tr>\n",
       "      <th>27</th>\n",
       "      <td>11400</td>\n",
       "      <td>Institutional</td>\n",
       "      <td>93140.0</td>\n",
       "      <td>9827.0</td>\n",
       "      <td>National Grid</td>\n",
       "    </tr>\n",
       "    <tr>\n",
       "      <th>32</th>\n",
       "      <td>11438</td>\n",
       "      <td>Institutional</td>\n",
       "      <td>1770.0</td>\n",
       "      <td>187.0</td>\n",
       "      <td>National Grid</td>\n",
       "    </tr>\n",
       "    <tr>\n",
       "      <th>36</th>\n",
       "      <td>11468</td>\n",
       "      <td>Institutional</td>\n",
       "      <td>49184.0</td>\n",
       "      <td>5189.0</td>\n",
       "      <td>National Grid</td>\n",
       "    </tr>\n",
       "  </tbody>\n",
       "</table>\n",
       "</div>"
      ],
      "text/plain": [
       "      zip  building_type  consumption_therms  consumption_gj utility_reporter\n",
       "4   11200  Institutional              3605.0           380.0    National Grid\n",
       "15  11315  Institutional               339.0            36.0    National Grid\n",
       "27  11400  Institutional             93140.0          9827.0    National Grid\n",
       "32  11438  Institutional              1770.0           187.0    National Grid\n",
       "36  11468  Institutional             49184.0          5189.0    National Grid"
      ]
     },
     "execution_count": 11,
     "metadata": {},
     "output_type": "execute_result"
    }
   ],
   "source": [
    "institutional_df = nyc_gas[nyc_gas[\"building_type\"] # Put something here!]\n",
    "institutional_df.head()"
   ]
  },
  {
   "cell_type": "code",
   "execution_count": 12,
   "metadata": {},
   "outputs": [
    {
     "data": {
      "text/plain": [
       "66027.0"
      ]
     },
     "execution_count": 12,
     "metadata": {},
     "output_type": "execute_result"
    }
   ],
   "source": [
    "institutional_df[\"consumption_gj\"].# add something here to find the median value!"
   ]
  },
  {
   "cell_type": "code",
   "execution_count": 13,
   "metadata": {},
   "outputs": [
    {
     "data": {
      "text/html": [
       "<div>\n",
       "<style scoped>\n",
       "    .dataframe tbody tr th:only-of-type {\n",
       "        vertical-align: middle;\n",
       "    }\n",
       "\n",
       "    .dataframe tbody tr th {\n",
       "        vertical-align: top;\n",
       "    }\n",
       "\n",
       "    .dataframe thead th {\n",
       "        text-align: right;\n",
       "    }\n",
       "</style>\n",
       "<table border=\"1\" class=\"dataframe\">\n",
       "  <thead>\n",
       "    <tr style=\"text-align: right;\">\n",
       "      <th></th>\n",
       "      <th>zip</th>\n",
       "      <th>building_type</th>\n",
       "      <th>consumption_therms</th>\n",
       "      <th>consumption_gj</th>\n",
       "      <th>utility_reporter</th>\n",
       "    </tr>\n",
       "  </thead>\n",
       "  <tbody>\n",
       "    <tr>\n",
       "      <th>5</th>\n",
       "      <td>11200</td>\n",
       "      <td>Small residential</td>\n",
       "      <td>3960.0</td>\n",
       "      <td>418.0</td>\n",
       "      <td>National Grid</td>\n",
       "    </tr>\n",
       "    <tr>\n",
       "      <th>6</th>\n",
       "      <td>11254</td>\n",
       "      <td>Small residential</td>\n",
       "      <td>1896.0</td>\n",
       "      <td>200.0</td>\n",
       "      <td>National Grid</td>\n",
       "    </tr>\n",
       "    <tr>\n",
       "      <th>11</th>\n",
       "      <td>11303</td>\n",
       "      <td>Small residential</td>\n",
       "      <td>3009.0</td>\n",
       "      <td>317.0</td>\n",
       "      <td>National Grid</td>\n",
       "    </tr>\n",
       "    <tr>\n",
       "      <th>12</th>\n",
       "      <td>11313</td>\n",
       "      <td>Small residential</td>\n",
       "      <td>3488.0</td>\n",
       "      <td>368.0</td>\n",
       "      <td>National Grid</td>\n",
       "    </tr>\n",
       "    <tr>\n",
       "      <th>13</th>\n",
       "      <td>11314</td>\n",
       "      <td>Small residential</td>\n",
       "      <td>6011.0</td>\n",
       "      <td>634.0</td>\n",
       "      <td>National Grid</td>\n",
       "    </tr>\n",
       "  </tbody>\n",
       "</table>\n",
       "</div>"
      ],
      "text/plain": [
       "      zip      building_type  consumption_therms  consumption_gj  \\\n",
       "5   11200  Small residential              3960.0           418.0   \n",
       "6   11254  Small residential              1896.0           200.0   \n",
       "11  11303  Small residential              3009.0           317.0   \n",
       "12  11313  Small residential              3488.0           368.0   \n",
       "13  11314  Small residential              6011.0           634.0   \n",
       "\n",
       "   utility_reporter  \n",
       "5     National Grid  \n",
       "6     National Grid  \n",
       "11    National Grid  \n",
       "12    National Grid  \n",
       "13    National Grid  "
      ]
     },
     "execution_count": 13,
     "metadata": {},
     "output_type": "execute_result"
    }
   ],
   "source": [
    "small_residential_df = nyc_gas[nyc_gas[\"building_type\"] # Put something here!]\n",
    "small_residential_df.head()"
   ]
  },
  {
   "cell_type": "code",
   "execution_count": 14,
   "metadata": {},
   "outputs": [
    {
     "data": {
      "text/plain": [
       "599600.0"
      ]
     },
     "execution_count": 14,
     "metadata": {},
     "output_type": "execute_result"
    }
   ],
   "source": [
    "small_residential_df[\"consumption_gj\"].# add something here to find the median value!"
   ]
  },
  {
   "cell_type": "code",
   "execution_count": 15,
   "metadata": {},
   "outputs": [
    {
     "data": {
      "text/html": [
       "<div>\n",
       "<style scoped>\n",
       "    .dataframe tbody tr th:only-of-type {\n",
       "        vertical-align: middle;\n",
       "    }\n",
       "\n",
       "    .dataframe tbody tr th {\n",
       "        vertical-align: top;\n",
       "    }\n",
       "\n",
       "    .dataframe thead th {\n",
       "        text-align: right;\n",
       "    }\n",
       "</style>\n",
       "<table border=\"1\" class=\"dataframe\">\n",
       "  <thead>\n",
       "    <tr style=\"text-align: right;\">\n",
       "      <th></th>\n",
       "      <th>zip</th>\n",
       "      <th>building_type</th>\n",
       "      <th>consumption_therms</th>\n",
       "      <th>consumption_gj</th>\n",
       "      <th>utility_reporter</th>\n",
       "    </tr>\n",
       "  </thead>\n",
       "  <tbody>\n",
       "    <tr>\n",
       "      <th>26</th>\n",
       "      <td>11400</td>\n",
       "      <td>Industrial</td>\n",
       "      <td>275.0</td>\n",
       "      <td>29.0</td>\n",
       "      <td>National Grid</td>\n",
       "    </tr>\n",
       "    <tr>\n",
       "      <th>76</th>\n",
       "      <td>11385(40.70122489161548, -73.88334858436963)</td>\n",
       "      <td>Industrial</td>\n",
       "      <td>1048061.0</td>\n",
       "      <td>110576.0</td>\n",
       "      <td>National Grid</td>\n",
       "    </tr>\n",
       "    <tr>\n",
       "      <th>77</th>\n",
       "      <td>11201(40.69467825879468, -73.98992086835335)</td>\n",
       "      <td>Industrial</td>\n",
       "      <td>3887016.0</td>\n",
       "      <td>410102.0</td>\n",
       "      <td>National Grid</td>\n",
       "    </tr>\n",
       "    <tr>\n",
       "      <th>122</th>\n",
       "      <td>11413(40.66971118122609, -73.75087393328533)</td>\n",
       "      <td>Industrial</td>\n",
       "      <td>387601.0</td>\n",
       "      <td>40894.0</td>\n",
       "      <td>National Grid</td>\n",
       "    </tr>\n",
       "    <tr>\n",
       "      <th>161</th>\n",
       "      <td>11412(40.69812711747255, -73.75923519834566)</td>\n",
       "      <td>Industrial</td>\n",
       "      <td>164379.0</td>\n",
       "      <td>17343.0</td>\n",
       "      <td>National Grid</td>\n",
       "    </tr>\n",
       "  </tbody>\n",
       "</table>\n",
       "</div>"
      ],
      "text/plain": [
       "                                              zip building_type  \\\n",
       "26                                          11400    Industrial   \n",
       "76   11385(40.70122489161548, -73.88334858436963)    Industrial   \n",
       "77   11201(40.69467825879468, -73.98992086835335)    Industrial   \n",
       "122  11413(40.66971118122609, -73.75087393328533)    Industrial   \n",
       "161  11412(40.69812711747255, -73.75923519834566)    Industrial   \n",
       "\n",
       "     consumption_therms  consumption_gj utility_reporter  \n",
       "26                275.0            29.0    National Grid  \n",
       "76            1048061.0        110576.0    National Grid  \n",
       "77            3887016.0        410102.0    National Grid  \n",
       "122            387601.0         40894.0    National Grid  \n",
       "161            164379.0         17343.0    National Grid  "
      ]
     },
     "execution_count": 15,
     "metadata": {},
     "output_type": "execute_result"
    }
   ],
   "source": [
    "industrial_df = nyc_gas[nyc_gas[\"building_type\"] # Put something here!]\n",
    "industrial_df.head()"
   ]
  },
  {
   "cell_type": "code",
   "execution_count": 16,
   "metadata": {},
   "outputs": [
    {
     "data": {
      "text/plain": [
       "16867.5"
      ]
     },
     "execution_count": 16,
     "metadata": {},
     "output_type": "execute_result"
    }
   ],
   "source": [
    "industrial_df[\"consumption_gj\"].# add something here to find the median value!"
   ]
  },
  {
   "cell_type": "code",
   "execution_count": 17,
   "metadata": {},
   "outputs": [
    {
     "data": {
      "text/html": [
       "<div>\n",
       "<style scoped>\n",
       "    .dataframe tbody tr th:only-of-type {\n",
       "        vertical-align: middle;\n",
       "    }\n",
       "\n",
       "    .dataframe tbody tr th {\n",
       "        vertical-align: top;\n",
       "    }\n",
       "\n",
       "    .dataframe thead th {\n",
       "        text-align: right;\n",
       "    }\n",
       "</style>\n",
       "<table border=\"1\" class=\"dataframe\">\n",
       "  <thead>\n",
       "    <tr style=\"text-align: right;\">\n",
       "      <th></th>\n",
       "      <th>zip</th>\n",
       "      <th>building_type</th>\n",
       "      <th>consumption_therms</th>\n",
       "      <th>consumption_gj</th>\n",
       "      <th>utility_reporter</th>\n",
       "    </tr>\n",
       "  </thead>\n",
       "  <tbody>\n",
       "    <tr>\n",
       "      <th>51</th>\n",
       "      <td>10007(40.71363051943297, -74.00913138370635)</td>\n",
       "      <td>Residential</td>\n",
       "      <td>12845.0</td>\n",
       "      <td>1355.0</td>\n",
       "      <td>ConEd</td>\n",
       "    </tr>\n",
       "    <tr>\n",
       "      <th>52</th>\n",
       "      <td>10002(40.71612146793143, -73.98583147024613)</td>\n",
       "      <td>Residential</td>\n",
       "      <td>550055.0</td>\n",
       "      <td>58034.0</td>\n",
       "      <td>ConEd</td>\n",
       "    </tr>\n",
       "    <tr>\n",
       "      <th>53</th>\n",
       "      <td>10012(40.72553802086304, -73.99789641059084)</td>\n",
       "      <td>Residential</td>\n",
       "      <td>178497.0</td>\n",
       "      <td>18832.0</td>\n",
       "      <td>ConEd</td>\n",
       "    </tr>\n",
       "    <tr>\n",
       "      <th>54</th>\n",
       "      <td>10003(40.73194394755518, -73.98887214913032)</td>\n",
       "      <td>Residential</td>\n",
       "      <td>260502.0</td>\n",
       "      <td>27484.0</td>\n",
       "      <td>ConEd</td>\n",
       "    </tr>\n",
       "    <tr>\n",
       "      <th>55</th>\n",
       "      <td>10001(40.75025902143676, -73.99688630375988)</td>\n",
       "      <td>Residential</td>\n",
       "      <td>58338.0</td>\n",
       "      <td>6155.0</td>\n",
       "      <td>ConEd</td>\n",
       "    </tr>\n",
       "  </tbody>\n",
       "</table>\n",
       "</div>"
      ],
      "text/plain": [
       "                                             zip building_type  \\\n",
       "51  10007(40.71363051943297, -74.00913138370635)   Residential   \n",
       "52  10002(40.71612146793143, -73.98583147024613)   Residential   \n",
       "53  10012(40.72553802086304, -73.99789641059084)   Residential   \n",
       "54  10003(40.73194394755518, -73.98887214913032)   Residential   \n",
       "55  10001(40.75025902143676, -73.99688630375988)   Residential   \n",
       "\n",
       "    consumption_therms  consumption_gj utility_reporter  \n",
       "51             12845.0          1355.0            ConEd  \n",
       "52            550055.0         58034.0            ConEd  \n",
       "53            178497.0         18832.0            ConEd  \n",
       "54            260502.0         27484.0            ConEd  \n",
       "55             58338.0          6155.0            ConEd  "
      ]
     },
     "execution_count": 17,
     "metadata": {},
     "output_type": "execute_result"
    }
   ],
   "source": [
    "residential_df = nyc_gas[nyc_gas[\"building_type\"] # Put something here!]\n",
    "residential_df.head()"
   ]
  },
  {
   "cell_type": "code",
   "execution_count": 18,
   "metadata": {},
   "outputs": [
    {
     "data": {
      "text/plain": [
       "53288.5"
      ]
     },
     "execution_count": 18,
     "metadata": {},
     "output_type": "execute_result"
    }
   ],
   "source": [
    "residential_df[\"consumption_gj\"].# add something here to find the median value!"
   ]
  },
  {
   "cell_type": "code",
   "execution_count": 19,
   "metadata": {},
   "outputs": [
    {
     "data": {
      "text/html": [
       "<div>\n",
       "<style scoped>\n",
       "    .dataframe tbody tr th:only-of-type {\n",
       "        vertical-align: middle;\n",
       "    }\n",
       "\n",
       "    .dataframe tbody tr th {\n",
       "        vertical-align: top;\n",
       "    }\n",
       "\n",
       "    .dataframe thead th {\n",
       "        text-align: right;\n",
       "    }\n",
       "</style>\n",
       "<table border=\"1\" class=\"dataframe\">\n",
       "  <thead>\n",
       "    <tr style=\"text-align: right;\">\n",
       "      <th></th>\n",
       "      <th>zip</th>\n",
       "      <th>building_type</th>\n",
       "      <th>consumption_therms</th>\n",
       "      <th>consumption_gj</th>\n",
       "      <th>utility_reporter</th>\n",
       "    </tr>\n",
       "  </thead>\n",
       "  <tbody>\n",
       "    <tr>\n",
       "      <th>2</th>\n",
       "      <td>10360</td>\n",
       "      <td>Large residential</td>\n",
       "      <td>33762.0</td>\n",
       "      <td>3562.0</td>\n",
       "      <td>National Grid</td>\n",
       "    </tr>\n",
       "    <tr>\n",
       "      <th>9</th>\n",
       "      <td>11279</td>\n",
       "      <td>Large residential</td>\n",
       "      <td>301.0</td>\n",
       "      <td>32.0</td>\n",
       "      <td>National Grid</td>\n",
       "    </tr>\n",
       "    <tr>\n",
       "      <th>16</th>\n",
       "      <td>11315</td>\n",
       "      <td>Large residential</td>\n",
       "      <td>335091.0</td>\n",
       "      <td>35354.0</td>\n",
       "      <td>National Grid</td>\n",
       "    </tr>\n",
       "    <tr>\n",
       "      <th>20</th>\n",
       "      <td>11335</td>\n",
       "      <td>Large residential</td>\n",
       "      <td>NaN</td>\n",
       "      <td>NaN</td>\n",
       "      <td>National Grid</td>\n",
       "    </tr>\n",
       "    <tr>\n",
       "      <th>28</th>\n",
       "      <td>11400</td>\n",
       "      <td>Large residential</td>\n",
       "      <td>280.0</td>\n",
       "      <td>30.0</td>\n",
       "      <td>National Grid</td>\n",
       "    </tr>\n",
       "    <tr>\n",
       "      <th>43</th>\n",
       "      <td>11474</td>\n",
       "      <td>Large residential</td>\n",
       "      <td>2223970.0</td>\n",
       "      <td>234641.0</td>\n",
       "      <td>National Grid</td>\n",
       "    </tr>\n",
       "    <tr>\n",
       "      <th>46</th>\n",
       "      <td>11477</td>\n",
       "      <td>Large residential</td>\n",
       "      <td>493904.0</td>\n",
       "      <td>52110.0</td>\n",
       "      <td>National Grid</td>\n",
       "    </tr>\n",
       "    <tr>\n",
       "      <th>62</th>\n",
       "      <td>10075(40.77293949176419, -73.95609016263086)</td>\n",
       "      <td>Large Residential</td>\n",
       "      <td>73358.0</td>\n",
       "      <td>7740.0</td>\n",
       "      <td>ConEd</td>\n",
       "    </tr>\n",
       "    <tr>\n",
       "      <th>68</th>\n",
       "      <td>10459(40.82552621616202, -73.89313106784448)</td>\n",
       "      <td>Large Residential</td>\n",
       "      <td>62003.0</td>\n",
       "      <td>6542.0</td>\n",
       "      <td>ConEd</td>\n",
       "    </tr>\n",
       "    <tr>\n",
       "      <th>70</th>\n",
       "      <td>10451(40.82069640711353, -73.92384136798472)</td>\n",
       "      <td>Large Residential</td>\n",
       "      <td>3433811.0</td>\n",
       "      <td>362286.0</td>\n",
       "      <td>ConEd</td>\n",
       "    </tr>\n",
       "  </tbody>\n",
       "</table>\n",
       "</div>"
      ],
      "text/plain": [
       "                                             zip      building_type  \\\n",
       "2                                          10360  Large residential   \n",
       "9                                          11279  Large residential   \n",
       "16                                         11315  Large residential   \n",
       "20                                         11335  Large residential   \n",
       "28                                         11400  Large residential   \n",
       "43                                         11474  Large residential   \n",
       "46                                         11477  Large residential   \n",
       "62  10075(40.77293949176419, -73.95609016263086)  Large Residential   \n",
       "68  10459(40.82552621616202, -73.89313106784448)  Large Residential   \n",
       "70  10451(40.82069640711353, -73.92384136798472)  Large Residential   \n",
       "\n",
       "    consumption_therms  consumption_gj utility_reporter  \n",
       "2              33762.0          3562.0    National Grid  \n",
       "9                301.0            32.0    National Grid  \n",
       "16            335091.0         35354.0    National Grid  \n",
       "20                 NaN             NaN    National Grid  \n",
       "28               280.0            30.0    National Grid  \n",
       "43           2223970.0        234641.0    National Grid  \n",
       "46            493904.0         52110.0    National Grid  \n",
       "62             73358.0          7740.0            ConEd  \n",
       "68             62003.0          6542.0            ConEd  \n",
       "70           3433811.0        362286.0            ConEd  "
      ]
     },
     "execution_count": 19,
     "metadata": {},
     "output_type": "execute_result"
    }
   ],
   "source": [
    "large_residential_df = nyc_gas[nyc_gas[\"building_type\"].isin([\"Large Residential\", # What's the other term? ])]\n",
    "large_residential_df.head(10)"
   ]
  },
  {
   "cell_type": "code",
   "execution_count": 20,
   "metadata": {},
   "outputs": [
    {
     "data": {
      "text/plain": [
       "160960.0"
      ]
     },
     "execution_count": 20,
     "metadata": {},
     "output_type": "execute_result"
    }
   ],
   "source": [
    "large_residential_df[\"consumption_gj\"].# add something here to find the median value!"
   ]
  },
  {
   "cell_type": "markdown",
   "metadata": {},
   "source": [
    "It looks as though the \"industrial\" building type has the lowest median consumption, which is surprising!  We should understand more about building classifications before we proceed much further in our energy consumption analysis.  The highest median consumption belongs to \"small residential\" building types."
   ]
  },
  {
   "cell_type": "markdown",
   "metadata": {},
   "source": [
    "## Utility Reporters\n",
    "\n",
    "Again, we have a few questions to answer here:\n",
    "\n",
    "* How many utility data reporters are included?\n",
    "* What's the mean and standard deviation of their energy consumption (in GJ)?\n",
    "* How do the different utility types compare?\n",
    "\n",
    "I'm going to do a similar method to what I did with building types!"
   ]
  },
  {
   "cell_type": "code",
   "execution_count": 21,
   "metadata": {},
   "outputs": [
    {
     "data": {
      "text/plain": [
       "array(['National Grid', 'ConEd'], dtype=object)"
      ]
     },
     "execution_count": 21,
     "metadata": {},
     "output_type": "execute_result"
    }
   ],
   "source": [
    "nyc_gas['utility_reporter']. # What's the command we're looking for?"
   ]
  },
  {
   "cell_type": "markdown",
   "metadata": {},
   "source": [
    "Great, only two possibilities here!  I'll make two data frames, as always, peeking in a bit to make sure what I'm doing makes sense."
   ]
  },
  {
   "cell_type": "code",
   "execution_count": 22,
   "metadata": {},
   "outputs": [
    {
     "data": {
      "text/html": [
       "<div>\n",
       "<style scoped>\n",
       "    .dataframe tbody tr th:only-of-type {\n",
       "        vertical-align: middle;\n",
       "    }\n",
       "\n",
       "    .dataframe tbody tr th {\n",
       "        vertical-align: top;\n",
       "    }\n",
       "\n",
       "    .dataframe thead th {\n",
       "        text-align: right;\n",
       "    }\n",
       "</style>\n",
       "<table border=\"1\" class=\"dataframe\">\n",
       "  <thead>\n",
       "    <tr style=\"text-align: right;\">\n",
       "      <th></th>\n",
       "      <th>zip</th>\n",
       "      <th>building_type</th>\n",
       "      <th>consumption_therms</th>\n",
       "      <th>consumption_gj</th>\n",
       "      <th>utility_reporter</th>\n",
       "    </tr>\n",
       "  </thead>\n",
       "  <tbody>\n",
       "    <tr>\n",
       "      <th>0</th>\n",
       "      <td>10300</td>\n",
       "      <td>Commercial</td>\n",
       "      <td>470.0</td>\n",
       "      <td>50.0</td>\n",
       "      <td>National Grid</td>\n",
       "    </tr>\n",
       "    <tr>\n",
       "      <th>1</th>\n",
       "      <td>10335</td>\n",
       "      <td>Commercial</td>\n",
       "      <td>647.0</td>\n",
       "      <td>68.0</td>\n",
       "      <td>National Grid</td>\n",
       "    </tr>\n",
       "    <tr>\n",
       "      <th>2</th>\n",
       "      <td>10360</td>\n",
       "      <td>Large residential</td>\n",
       "      <td>33762.0</td>\n",
       "      <td>3562.0</td>\n",
       "      <td>National Grid</td>\n",
       "    </tr>\n",
       "    <tr>\n",
       "      <th>3</th>\n",
       "      <td>11200</td>\n",
       "      <td>Commercial</td>\n",
       "      <td>32125.0</td>\n",
       "      <td>3389.0</td>\n",
       "      <td>National Grid</td>\n",
       "    </tr>\n",
       "    <tr>\n",
       "      <th>4</th>\n",
       "      <td>11200</td>\n",
       "      <td>Institutional</td>\n",
       "      <td>3605.0</td>\n",
       "      <td>380.0</td>\n",
       "      <td>National Grid</td>\n",
       "    </tr>\n",
       "  </tbody>\n",
       "</table>\n",
       "</div>"
      ],
      "text/plain": [
       "     zip      building_type  consumption_therms  consumption_gj  \\\n",
       "0  10300         Commercial               470.0            50.0   \n",
       "1  10335         Commercial               647.0            68.0   \n",
       "2  10360  Large residential             33762.0          3562.0   \n",
       "3  11200         Commercial             32125.0          3389.0   \n",
       "4  11200      Institutional              3605.0           380.0   \n",
       "\n",
       "  utility_reporter  \n",
       "0    National Grid  \n",
       "1    National Grid  \n",
       "2    National Grid  \n",
       "3    National Grid  \n",
       "4    National Grid  "
      ]
     },
     "execution_count": 22,
     "metadata": {},
     "output_type": "execute_result"
    }
   ],
   "source": [
    "national_grid = nyc_gas[nyc_gas['utility_reporter'] # Put something here!]\n",
    "national_grid.head()"
   ]
  },
  {
   "cell_type": "code",
   "execution_count": 23,
   "metadata": {},
   "outputs": [
    {
     "data": {
      "text/plain": [
       "357475.56048387097"
      ]
     },
     "execution_count": 23,
     "metadata": {},
     "output_type": "execute_result"
    }
   ],
   "source": [
    "national_grid['consumption_gj'].# How do we calculate mean?"
   ]
  },
  {
   "cell_type": "code",
   "execution_count": 24,
   "metadata": {},
   "outputs": [
    {
     "data": {
      "text/plain": [
       "562355.2736235437"
      ]
     },
     "execution_count": 24,
     "metadata": {},
     "output_type": "execute_result"
    }
   ],
   "source": [
    "national_grid['consumption_gj'].# How do we calculate standard deviation?"
   ]
  },
  {
   "cell_type": "code",
   "execution_count": 25,
   "metadata": {},
   "outputs": [
    {
     "data": {
      "text/html": [
       "<div>\n",
       "<style scoped>\n",
       "    .dataframe tbody tr th:only-of-type {\n",
       "        vertical-align: middle;\n",
       "    }\n",
       "\n",
       "    .dataframe tbody tr th {\n",
       "        vertical-align: top;\n",
       "    }\n",
       "\n",
       "    .dataframe thead th {\n",
       "        text-align: right;\n",
       "    }\n",
       "</style>\n",
       "<table border=\"1\" class=\"dataframe\">\n",
       "  <thead>\n",
       "    <tr style=\"text-align: right;\">\n",
       "      <th></th>\n",
       "      <th>zip</th>\n",
       "      <th>building_type</th>\n",
       "      <th>consumption_therms</th>\n",
       "      <th>consumption_gj</th>\n",
       "      <th>utility_reporter</th>\n",
       "    </tr>\n",
       "  </thead>\n",
       "  <tbody>\n",
       "    <tr>\n",
       "      <th>51</th>\n",
       "      <td>10007(40.71363051943297, -74.00913138370635)</td>\n",
       "      <td>Residential</td>\n",
       "      <td>12845.0</td>\n",
       "      <td>1355.0</td>\n",
       "      <td>ConEd</td>\n",
       "    </tr>\n",
       "    <tr>\n",
       "      <th>52</th>\n",
       "      <td>10002(40.71612146793143, -73.98583147024613)</td>\n",
       "      <td>Residential</td>\n",
       "      <td>550055.0</td>\n",
       "      <td>58034.0</td>\n",
       "      <td>ConEd</td>\n",
       "    </tr>\n",
       "    <tr>\n",
       "      <th>53</th>\n",
       "      <td>10012(40.72553802086304, -73.99789641059084)</td>\n",
       "      <td>Residential</td>\n",
       "      <td>178497.0</td>\n",
       "      <td>18832.0</td>\n",
       "      <td>ConEd</td>\n",
       "    </tr>\n",
       "    <tr>\n",
       "      <th>54</th>\n",
       "      <td>10003(40.73194394755518, -73.98887214913032)</td>\n",
       "      <td>Residential</td>\n",
       "      <td>260502.0</td>\n",
       "      <td>27484.0</td>\n",
       "      <td>ConEd</td>\n",
       "    </tr>\n",
       "    <tr>\n",
       "      <th>55</th>\n",
       "      <td>10001(40.75025902143676, -73.99688630375988)</td>\n",
       "      <td>Residential</td>\n",
       "      <td>58338.0</td>\n",
       "      <td>6155.0</td>\n",
       "      <td>ConEd</td>\n",
       "    </tr>\n",
       "  </tbody>\n",
       "</table>\n",
       "</div>"
      ],
      "text/plain": [
       "                                             zip building_type  \\\n",
       "51  10007(40.71363051943297, -74.00913138370635)   Residential   \n",
       "52  10002(40.71612146793143, -73.98583147024613)   Residential   \n",
       "53  10012(40.72553802086304, -73.99789641059084)   Residential   \n",
       "54  10003(40.73194394755518, -73.98887214913032)   Residential   \n",
       "55  10001(40.75025902143676, -73.99688630375988)   Residential   \n",
       "\n",
       "    consumption_therms  consumption_gj utility_reporter  \n",
       "51             12845.0          1355.0            ConEd  \n",
       "52            550055.0         58034.0            ConEd  \n",
       "53            178497.0         18832.0            ConEd  \n",
       "54            260502.0         27484.0            ConEd  \n",
       "55             58338.0          6155.0            ConEd  "
      ]
     },
     "execution_count": 25,
     "metadata": {},
     "output_type": "execute_result"
    }
   ],
   "source": [
    "coned = nyc_gas[nyc_gas['utility_reporter'] # Put something here!]\n",
    "coned.head()"
   ]
  },
  {
   "cell_type": "code",
   "execution_count": 26,
   "metadata": {},
   "outputs": [
    {
     "data": {
      "text/plain": [
       "224575.75049115912"
      ]
     },
     "execution_count": 26,
     "metadata": {},
     "output_type": "execute_result"
    }
   ],
   "source": [
    "coned['consumption_gj'].# How do we calculate mean?"
   ]
  },
  {
   "cell_type": "code",
   "execution_count": 27,
   "metadata": {},
   "outputs": [
    {
     "data": {
      "text/plain": [
       "298958.0488076621"
      ]
     },
     "execution_count": 27,
     "metadata": {},
     "output_type": "execute_result"
    }
   ],
   "source": [
    "coned['consumption_gj'].# How do we calculate standard deviation?"
   ]
  },
  {
   "cell_type": "markdown",
   "metadata": {},
   "source": [
    "## Suggestions for Improvement\n",
    "\n",
    "I noticed that the zip codes are listed a bit strangely (describe what you see here, and any suggestions).\n",
    "\n",
    "I also noticed ... (anything else you noticed and would want changed, if you were to work with this data in the future?)"
   ]
  }
 ],
 "metadata": {
  "kernelspec": {
   "display_name": "Python 3",
   "language": "python",
   "name": "python3"
  },
  "language_info": {
   "codemirror_mode": {
    "name": "ipython",
    "version": 3
   },
   "file_extension": ".py",
   "mimetype": "text/x-python",
   "name": "python",
   "nbconvert_exporter": "python",
   "pygments_lexer": "ipython3",
   "version": "3.7.1"
  }
 },
 "nbformat": 4,
 "nbformat_minor": 2
}
