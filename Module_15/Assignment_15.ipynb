{
  "nbformat": 4,
  "nbformat_minor": 0,
  "metadata": {
    "colab": {
      "name": "Module 15 Worked Example Instructions.ipynb",
      "version": "0.3.2",
      "provenance": [],
      "collapsed_sections": []
    },
    "kernelspec": {
      "name": "python3",
      "display_name": "Python 3"
    }
  },
  "cells": [
    {
      "cell_type": "markdown",
      "metadata": {
        "id": "Rk33QMgziiss",
        "colab_type": "text"
      },
      "source": [
        "# New York City 311 Data\n",
        "\n",
        "## Overview\n",
        "\n",
        "In the city of New York, citizens with non-emergency complaints (e.g. trash non-collection, rodent infestations) can call 311 to make a Service Request.  These are recorded and shared on New York's open data site at  https://nycopendata.socrata.com/Social-Services/311-Service-Requests-from-2010-to-Present/erm2-nwe9.\n",
        "\n",
        "## High-Level Description\n",
        "\n",
        "The data dates from 2010 to the current day, with data being updated on a daily basis.  At the time of this writing, there are over 20 million rows, each row representing a single service request, and over 40 columns which represent aspects of each service request, such as the street address being referenced, the type of complaint, the agency responsible, the date of the service request, etc.\n",
        "\n",
        "## Bring in Data via pandas\n",
        "\n",
        "I'm only going to bring in only the rows that have 'Pothole' in the `descriptor` field.  I'll set an upper limit of 5 million rows.\n"
      ]
    },
    {
      "cell_type": "code",
      "metadata": {
        "id": "tVgJLeJTizoB",
        "colab_type": "code",
        "outputId": "a7f703f1-b5ff-473c-8ef4-8f93ae8e52c0",
        "colab": {
          "base_uri": "https://localhost:8080/",
          "height": 71
        }
      },
      "source": [
        "import pandas as pd\n",
        "import numpy as np\n",
        "import datetime as dt\n",
        "potholes = pd.read_csv(\"https://data.cityofnewyork.us/resource/fhrw-4uyv.csv?descriptor=Pothole&$limit=5000000\")"
      ],
      "execution_count": 16,
      "outputs": [
        {
          "output_type": "stream",
          "text": [
            "/usr/local/lib/python3.6/dist-packages/IPython/core/interactiveshell.py:2718: DtypeWarning: Columns (17) have mixed types. Specify dtype option on import or set low_memory=False.\n",
            "  interactivity=interactivity, compiler=compiler, result=result)\n"
          ],
          "name": "stderr"
        }
      ]
    },
    {
      "cell_type": "markdown",
      "metadata": {
        "id": "ByxGV-WBn3q8",
        "colab_type": "text"
      },
      "source": [
        "Let's take a quick peek at what the data looks like.  Then we'll use pandas to work with it!"
      ]
    },
    {
      "cell_type": "code",
      "metadata": {
        "id": "icCmBkubkyFi",
        "colab_type": "code",
        "outputId": "94c22481-5061-421a-d668-5dc85c9a5433",
        "colab": {
          "base_uri": "https://localhost:8080/",
          "height": 377
        }
      },
      "source": [
        "potholes.head()"
      ],
      "execution_count": 17,
      "outputs": [
        {
          "output_type": "execute_result",
          "data": {
            "text/html": [
              "<div>\n",
              "<style scoped>\n",
              "    .dataframe tbody tr th:only-of-type {\n",
              "        vertical-align: middle;\n",
              "    }\n",
              "\n",
              "    .dataframe tbody tr th {\n",
              "        vertical-align: top;\n",
              "    }\n",
              "\n",
              "    .dataframe thead th {\n",
              "        text-align: right;\n",
              "    }\n",
              "</style>\n",
              "<table border=\"1\" class=\"dataframe\">\n",
              "  <thead>\n",
              "    <tr style=\"text-align: right;\">\n",
              "      <th></th>\n",
              "      <th>unique_key</th>\n",
              "      <th>created_date</th>\n",
              "      <th>closed_date</th>\n",
              "      <th>agency</th>\n",
              "      <th>agency_name</th>\n",
              "      <th>complaint_type</th>\n",
              "      <th>descriptor</th>\n",
              "      <th>location_type</th>\n",
              "      <th>incident_zip</th>\n",
              "      <th>incident_address</th>\n",
              "      <th>street_name</th>\n",
              "      <th>cross_street_1</th>\n",
              "      <th>cross_street_2</th>\n",
              "      <th>intersection_street_1</th>\n",
              "      <th>intersection_street_2</th>\n",
              "      <th>address_type</th>\n",
              "      <th>city</th>\n",
              "      <th>landmark</th>\n",
              "      <th>facility_type</th>\n",
              "      <th>status</th>\n",
              "      <th>due_date</th>\n",
              "      <th>resolution_description</th>\n",
              "      <th>resolution_action_updated_date</th>\n",
              "      <th>community_board</th>\n",
              "      <th>bbl</th>\n",
              "      <th>borough</th>\n",
              "      <th>x_coordinate_state_plane</th>\n",
              "      <th>y_coordinate_state_plane</th>\n",
              "      <th>open_data_channel_type</th>\n",
              "      <th>park_facility_name</th>\n",
              "      <th>park_borough</th>\n",
              "      <th>vehicle_type</th>\n",
              "      <th>taxi_company_borough</th>\n",
              "      <th>taxi_pick_up_location</th>\n",
              "      <th>bridge_highway_name</th>\n",
              "      <th>bridge_highway_direction</th>\n",
              "      <th>road_ramp</th>\n",
              "      <th>bridge_highway_segment</th>\n",
              "      <th>latitude</th>\n",
              "      <th>longitude</th>\n",
              "      <th>location_city</th>\n",
              "      <th>location</th>\n",
              "      <th>location_address</th>\n",
              "      <th>location_zip</th>\n",
              "      <th>location_state</th>\n",
              "    </tr>\n",
              "  </thead>\n",
              "  <tbody>\n",
              "    <tr>\n",
              "      <th>0</th>\n",
              "      <td>34690422</td>\n",
              "      <td>2016-11-01T15:01:46.000</td>\n",
              "      <td>2016-11-02T09:45:00.000</td>\n",
              "      <td>DOT</td>\n",
              "      <td>Department of Transportation</td>\n",
              "      <td>Street Condition</td>\n",
              "      <td>Pothole</td>\n",
              "      <td>NaN</td>\n",
              "      <td>NaN</td>\n",
              "      <td>CONEY ISLAND AVENUE</td>\n",
              "      <td>CONEY ISLAND AVENUE</td>\n",
              "      <td>AVENUE M</td>\n",
              "      <td>AVENUE N</td>\n",
              "      <td>NaN</td>\n",
              "      <td>NaN</td>\n",
              "      <td>BLOCKFACE</td>\n",
              "      <td>NaN</td>\n",
              "      <td>NaN</td>\n",
              "      <td>NaN</td>\n",
              "      <td>Closed</td>\n",
              "      <td>NaN</td>\n",
              "      <td>The Department of Transportation inspected thi...</td>\n",
              "      <td>2016-11-02T09:45:00.000</td>\n",
              "      <td>Unspecified BROOKLYN</td>\n",
              "      <td>NaN</td>\n",
              "      <td>BROOKLYN</td>\n",
              "      <td>NaN</td>\n",
              "      <td>NaN</td>\n",
              "      <td>UNKNOWN</td>\n",
              "      <td>Unspecified</td>\n",
              "      <td>BROOKLYN</td>\n",
              "      <td>NaN</td>\n",
              "      <td>NaN</td>\n",
              "      <td>NaN</td>\n",
              "      <td>NaN</td>\n",
              "      <td>NaN</td>\n",
              "      <td>NaN</td>\n",
              "      <td>NaN</td>\n",
              "      <td>NaN</td>\n",
              "      <td>NaN</td>\n",
              "      <td>NaN</td>\n",
              "      <td>NaN</td>\n",
              "      <td>NaN</td>\n",
              "      <td>NaN</td>\n",
              "      <td>NaN</td>\n",
              "    </tr>\n",
              "    <tr>\n",
              "      <th>1</th>\n",
              "      <td>42107874</td>\n",
              "      <td>2019-04-01T22:22:27.000</td>\n",
              "      <td>2019-04-02T10:51:00.000</td>\n",
              "      <td>DOT</td>\n",
              "      <td>Department of Transportation</td>\n",
              "      <td>Street Condition</td>\n",
              "      <td>Pothole</td>\n",
              "      <td>NaN</td>\n",
              "      <td>10306.0</td>\n",
              "      <td>355 EDISON STREET</td>\n",
              "      <td>EDISON STREET</td>\n",
              "      <td>JACQUES AVENUE</td>\n",
              "      <td>NEW DORP LANE</td>\n",
              "      <td>NaN</td>\n",
              "      <td>NaN</td>\n",
              "      <td>ADDRESS</td>\n",
              "      <td>STATEN ISLAND</td>\n",
              "      <td>NaN</td>\n",
              "      <td>NaN</td>\n",
              "      <td>Closed</td>\n",
              "      <td>NaN</td>\n",
              "      <td>The Department of Transportation inspected thi...</td>\n",
              "      <td>2019-04-02T10:51:00.000</td>\n",
              "      <td>02 STATEN ISLAND</td>\n",
              "      <td>NaN</td>\n",
              "      <td>STATEN ISLAND</td>\n",
              "      <td>952814.0</td>\n",
              "      <td>148042.0</td>\n",
              "      <td>UNKNOWN</td>\n",
              "      <td>Unspecified</td>\n",
              "      <td>STATEN ISLAND</td>\n",
              "      <td>NaN</td>\n",
              "      <td>NaN</td>\n",
              "      <td>NaN</td>\n",
              "      <td>NaN</td>\n",
              "      <td>NaN</td>\n",
              "      <td>NaN</td>\n",
              "      <td>NaN</td>\n",
              "      <td>40.572961</td>\n",
              "      <td>-74.113157</td>\n",
              "      <td>NaN</td>\n",
              "      <td>POINT (-74.113156832531 40.572961322519)</td>\n",
              "      <td>NaN</td>\n",
              "      <td>NaN</td>\n",
              "      <td>NaN</td>\n",
              "    </tr>\n",
              "    <tr>\n",
              "      <th>2</th>\n",
              "      <td>24766901</td>\n",
              "      <td>2013-01-09T11:20:10.000</td>\n",
              "      <td>2013-01-10T14:04:00.000</td>\n",
              "      <td>DOT</td>\n",
              "      <td>Department of Transportation</td>\n",
              "      <td>Street Condition</td>\n",
              "      <td>Pothole</td>\n",
              "      <td>NaN</td>\n",
              "      <td>NaN</td>\n",
              "      <td>BARUCH DRIVE</td>\n",
              "      <td>BARUCH DRIVE</td>\n",
              "      <td>DELANCEY STREET</td>\n",
              "      <td>WILLIAMSBURG BRIDGE</td>\n",
              "      <td>NaN</td>\n",
              "      <td>NaN</td>\n",
              "      <td>BLOCKFACE</td>\n",
              "      <td>NEW YORK</td>\n",
              "      <td>NaN</td>\n",
              "      <td>NaN</td>\n",
              "      <td>Closed</td>\n",
              "      <td>NaN</td>\n",
              "      <td>The Department of Transportation inspected thi...</td>\n",
              "      <td>2013-01-10T14:04:00.000</td>\n",
              "      <td>Unspecified MANHATTAN</td>\n",
              "      <td>NaN</td>\n",
              "      <td>MANHATTAN</td>\n",
              "      <td>NaN</td>\n",
              "      <td>NaN</td>\n",
              "      <td>UNKNOWN</td>\n",
              "      <td>Unspecified</td>\n",
              "      <td>MANHATTAN</td>\n",
              "      <td>NaN</td>\n",
              "      <td>NaN</td>\n",
              "      <td>NaN</td>\n",
              "      <td>NaN</td>\n",
              "      <td>NaN</td>\n",
              "      <td>NaN</td>\n",
              "      <td>NaN</td>\n",
              "      <td>NaN</td>\n",
              "      <td>NaN</td>\n",
              "      <td>NaN</td>\n",
              "      <td>NaN</td>\n",
              "      <td>NaN</td>\n",
              "      <td>NaN</td>\n",
              "      <td>NaN</td>\n",
              "    </tr>\n",
              "    <tr>\n",
              "      <th>3</th>\n",
              "      <td>24767098</td>\n",
              "      <td>2013-01-10T14:45:07.000</td>\n",
              "      <td>2013-01-11T10:20:00.000</td>\n",
              "      <td>DOT</td>\n",
              "      <td>Department of Transportation</td>\n",
              "      <td>Street Condition</td>\n",
              "      <td>Pothole</td>\n",
              "      <td>NaN</td>\n",
              "      <td>11101.0</td>\n",
              "      <td>10 STREET</td>\n",
              "      <td>10 STREET</td>\n",
              "      <td>40 AVENUE</td>\n",
              "      <td>41 AVENUE</td>\n",
              "      <td>NaN</td>\n",
              "      <td>NaN</td>\n",
              "      <td>BLOCKFACE</td>\n",
              "      <td>Long Island City</td>\n",
              "      <td>NaN</td>\n",
              "      <td>NaN</td>\n",
              "      <td>Closed</td>\n",
              "      <td>NaN</td>\n",
              "      <td>The Department of Transportation inspected thi...</td>\n",
              "      <td>2013-01-11T10:20:00.000</td>\n",
              "      <td>Unspecified QUEENS</td>\n",
              "      <td>NaN</td>\n",
              "      <td>QUEENS</td>\n",
              "      <td>NaN</td>\n",
              "      <td>NaN</td>\n",
              "      <td>UNKNOWN</td>\n",
              "      <td>Unspecified</td>\n",
              "      <td>QUEENS</td>\n",
              "      <td>NaN</td>\n",
              "      <td>NaN</td>\n",
              "      <td>NaN</td>\n",
              "      <td>NaN</td>\n",
              "      <td>NaN</td>\n",
              "      <td>NaN</td>\n",
              "      <td>NaN</td>\n",
              "      <td>NaN</td>\n",
              "      <td>NaN</td>\n",
              "      <td>NaN</td>\n",
              "      <td>NaN</td>\n",
              "      <td>NaN</td>\n",
              "      <td>NaN</td>\n",
              "      <td>NaN</td>\n",
              "    </tr>\n",
              "    <tr>\n",
              "      <th>4</th>\n",
              "      <td>42082809</td>\n",
              "      <td>2019-03-29T07:05:49.000</td>\n",
              "      <td>2019-03-30T20:00:00.000</td>\n",
              "      <td>DOT</td>\n",
              "      <td>Department of Transportation</td>\n",
              "      <td>Street Condition</td>\n",
              "      <td>Pothole</td>\n",
              "      <td>NaN</td>\n",
              "      <td>10025.0</td>\n",
              "      <td>122 MANHATTAN AVENUE</td>\n",
              "      <td>MANHATTAN AVENUE</td>\n",
              "      <td>WEST  105 STREET</td>\n",
              "      <td>WEST  106 STREET</td>\n",
              "      <td>NaN</td>\n",
              "      <td>NaN</td>\n",
              "      <td>ADDRESS</td>\n",
              "      <td>NEW YORK</td>\n",
              "      <td>NaN</td>\n",
              "      <td>NaN</td>\n",
              "      <td>Closed</td>\n",
              "      <td>NaN</td>\n",
              "      <td>The Department of Transportation inspected thi...</td>\n",
              "      <td>2019-03-30T20:00:00.000</td>\n",
              "      <td>07 MANHATTAN</td>\n",
              "      <td>1.018410e+09</td>\n",
              "      <td>MANHATTAN</td>\n",
              "      <td>994824.0</td>\n",
              "      <td>230085.0</td>\n",
              "      <td>UNKNOWN</td>\n",
              "      <td>Unspecified</td>\n",
              "      <td>MANHATTAN</td>\n",
              "      <td>NaN</td>\n",
              "      <td>NaN</td>\n",
              "      <td>NaN</td>\n",
              "      <td>NaN</td>\n",
              "      <td>NaN</td>\n",
              "      <td>NaN</td>\n",
              "      <td>NaN</td>\n",
              "      <td>40.798200</td>\n",
              "      <td>-73.961809</td>\n",
              "      <td>NaN</td>\n",
              "      <td>POINT (-73.961809120646 40.798199855119)</td>\n",
              "      <td>NaN</td>\n",
              "      <td>NaN</td>\n",
              "      <td>NaN</td>\n",
              "    </tr>\n",
              "  </tbody>\n",
              "</table>\n",
              "</div>"
            ],
            "text/plain": [
              "   unique_key             created_date  ... location_zip location_state\n",
              "0    34690422  2016-11-01T15:01:46.000  ...          NaN            NaN\n",
              "1    42107874  2019-04-01T22:22:27.000  ...          NaN            NaN\n",
              "2    24766901  2013-01-09T11:20:10.000  ...          NaN            NaN\n",
              "3    24767098  2013-01-10T14:45:07.000  ...          NaN            NaN\n",
              "4    42082809  2019-03-29T07:05:49.000  ...          NaN            NaN\n",
              "\n",
              "[5 rows x 45 columns]"
            ]
          },
          "metadata": {
            "tags": []
          },
          "execution_count": 17
        }
      ]
    },
    {
      "cell_type": "code",
      "metadata": {
        "id": "l3XvVYNLlhJq",
        "colab_type": "code",
        "outputId": "298e1f18-f019-48b0-8c5d-dc4b3d1a3cf3",
        "colab": {
          "base_uri": "https://localhost:8080/",
          "height": 34
        }
      },
      "source": [
        "potholes.shape"
      ],
      "execution_count": 18,
      "outputs": [
        {
          "output_type": "execute_result",
          "data": {
            "text/plain": [
              "(568977, 45)"
            ]
          },
          "metadata": {
            "tags": []
          },
          "execution_count": 18
        }
      ]
    },
    {
      "cell_type": "markdown",
      "metadata": {
        "id": "GiR06Ttxllcr",
        "colab_type": "text"
      },
      "source": [
        "OK, we have around 570 k rows, much less than our 5 million upper limit, but plenty to work with!  Let's do a bit of cleanup.  First, we'll do some date work."
      ]
    },
    {
      "cell_type": "code",
      "metadata": {
        "id": "QV_gGuukqLln",
        "colab_type": "code",
        "colab": {}
      },
      "source": [
        "for col in ['created_date', 'closed_date', 'due_date', 'resolution_action_updated_date']:\n",
        "    potholes[col] = pd.to_datetime(potholes[col])\n",
        "    potholes.loc[potholes[col] < '2007-01-01', col] = pd.NaT\n",
        "    potholes.loc[potholes[col] > pd.Timestamp(dt.date.today())] = pd.NaT\n",
        "\n",
        "potholes['resolved_date'] = np.where(potholes['closed_date'].notnull(), potholes['closed_date'], potholes['resolution_action_updated_date'])\n",
        "potholes['days_to_close'] = (potholes['resolved_date'].dt.date - potholes['created_date'].dt.date).dt.days\n",
        "\n",
        "\n",
        "# Get names of indexes for which days_to_close < 0\n",
        "indexNames = potholes[potholes['days_to_close'] <0 ].index\n",
        "# Drop them\n",
        "potholes.drop(indexNames , inplace=True)"
      ],
      "execution_count": 0,
      "outputs": []
    },
    {
      "cell_type": "markdown",
      "metadata": {
        "id": "6wBCXS6017-R",
        "colab_type": "text"
      },
      "source": [
        "Let's change some of the geographic stuff."
      ]
    },
    {
      "cell_type": "code",
      "metadata": {
        "id": "3plBRl9ytSwI",
        "colab_type": "code",
        "colab": {}
      },
      "source": [
        "new_lat_long = (potholes['location'].str.extract('.+(\\-\\d{2}\\.*\\d*) (\\d{2}\\.*\\d*).+')).astype(float)\n",
        "potholes.loc[:, 'longitude'] = new_lat_long[0]\n",
        "potholes.loc[:, 'latitude'] = new_lat_long[1]"
      ],
      "execution_count": 0,
      "outputs": []
    },
    {
      "cell_type": "markdown",
      "metadata": {
        "id": "Q-a9NQBj1_PR",
        "colab_type": "text"
      },
      "source": [
        "And let's remove \"unspecified\" boroughs and tickets that weren't closed."
      ]
    },
    {
      "cell_type": "code",
      "metadata": {
        "id": "pYlzEfww2FbV",
        "colab_type": "code",
        "colab": {}
      },
      "source": [
        "indexNames = potholes[potholes['borough'] == 'Unspecified' ].index\n",
        "potholes.drop(indexNames , inplace=True)\n",
        "\n",
        "potholes.drop(potholes[potholes['status'] != \"Closed\"].index, axis=0, inplace=True)"
      ],
      "execution_count": 0,
      "outputs": []
    },
    {
      "cell_type": "code",
      "metadata": {
        "id": "6oKn9RBsM3qw",
        "colab_type": "code",
        "outputId": "92346d80-58b6-472b-a5e7-e43f58615f1d",
        "colab": {
          "base_uri": "https://localhost:8080/",
          "height": 547
        }
      },
      "source": [
        "potholes['resolution_description'].unique()"
      ],
      "execution_count": 22,
      "outputs": [
        {
          "output_type": "execute_result",
          "data": {
            "text/plain": [
              "array(['The Department of Transportation inspected this complaint and repaired the problem.',\n",
              "       'The Department of Transportation inspected this complaint and did not find the reported problem.',\n",
              "       'The Department of Transportation determined that this complaint is a duplicate of a previously filed complaint. The original complaint is being addressed.',\n",
              "       'The Department of Transportation inspected this complaint and found that the problem was fixed.',\n",
              "       'The Department of Transportation referred this complaint to the appropriate Maintenance Unit for repair.',\n",
              "       'General maintenance and cleaning is on a regular schedule. The next scheduled maintenance and cleaning will correct the condition.',\n",
              "       'The Department of Transportation has determined that this issue is not within its jurisdiction.',\n",
              "       'The Department of Transportation requires 6 months to respond to this type of complaint.  Please note your Service Request number for future reference.',\n",
              "       'The Department of Transportation inspected this complaint and found that the defect was not accessible. The repair will be rescheduled.',\n",
              "       'The Department of Transportation fixed all street defects at this location as part of a Capital Project.',\n",
              "       'The Department of Transportation has completed the request or corrected the condition.',\n",
              "       'The condition was inspected and it was in compliance with Department of Transportation standards, not hazardous, or a valid permit exists.',\n",
              "       'The condition has been inspected/investigated, see customer notes for more information.',\n",
              "       'General maintenance and cleaning is on a regular schedule. The next scheduled maintenance and cleani',\n",
              "       'The Department of Transportation referred this complaint to the Inspections Unit for further action.',\n",
              "       'The status of this Service Request is currently not available online. Please call 311 for further assistance. If you are outside of New York City, please call (212) NEW-YORK (212-639-9675).',\n",
              "       'The Department of Transportation assigned this complaint to a field crew for inspection and, if warranted, repair.',\n",
              "       nan,\n",
              "       'The Department of Transportation inspected this complaint and will schedule the repair.',\n",
              "       'The request submitted did not have sufficient information for the Department of Transportation to respond.',\n",
              "       'The Department of Transportation has determined that this issue is not within its jurisdiction. It has been referred to the Metropolitan Transportation Authority.',\n",
              "       'The Department of Transportation has determined that this issue is not within its jurisdiction. It has been referred to the Department of Parks and Recreation.',\n",
              "       'The Department of Transportation inspected this complaint and barricaded the area. The issue was referred to another unit for further action.',\n",
              "       'The Department of Transportation inspected the condition and temporary repairs were made to make the area safe. Permanent repairs/restoration will be scheduled as part of a project, seasonal work (April - November), or when work is assigned to a contractor.',\n",
              "       \"The condition was inspected and determined not to be under Department of Transportation's jurisdiction. The Department of Transportation notified the appropriate responsible party of the complaint.\",\n",
              "       'The condition was inspected and determined to be under the jurisdiction of another Department of Transportation unit.  The unit has been notified.',\n",
              "       \"The Department of Transportation's work on this complaint is still in progress.\",\n",
              "       'The Department of Transportation inspected and has requested the Department of Environmental Protection address the issue. The condition will be re-inspected in 60 days.',\n",
              "       \"The condition was inspected and determined not to be under New York City Department of Transportation's jurisdiction. The Department of Transportation notified the New York State Department of Transportation of the complaint.\"],\n",
              "      dtype=object)"
            ]
          },
          "metadata": {
            "tags": []
          },
          "execution_count": 22
        }
      ]
    },
    {
      "cell_type": "markdown",
      "metadata": {
        "id": "PhJKJs3bMygB",
        "colab_type": "text"
      },
      "source": [
        "And create better, briefer resolution descriptions."
      ]
    },
    {
      "cell_type": "code",
      "metadata": {
        "id": "x-T18UDtM1vf",
        "colab_type": "code",
        "colab": {}
      },
      "source": [
        "resolution_map = zip(potholes['resolution_description'].unique(), [\"Repaired\",\n",
        "                                                                  \"Did Not Find\",\n",
        "                                                                  \"Repaired Already\",\n",
        "                                                                  \"Duplicate\",\n",
        "                                                                  \"Referred: Maintenance Unit\",\n",
        "                                                                  \"Repaired: Capital Project\",\n",
        "                                                                  \"No Description\",\n",
        "                                                                  \"Rescheduled: Inaccessible\",\n",
        "                                                                  \"Assigned: Field Crew\",\n",
        "                                                                  \"Referred: Inspections Unit\",\n",
        "                                                                  \"Future Maintenance Will Repair (Incomplete Decription)\",\n",
        "                                                                  \"Status Not Available\",\n",
        "                                                                  \"Future Maintenance Will Repair (Complete Decription)\",\n",
        "                                                                  \"Not in DOT Jurisdiction (Not Specified)\",\n",
        "                                                                  \"Completed or Corrected\",\n",
        "                                                                  \"See Customer Notes\",\n",
        "                                                                  \"Requires 6 Months for Response\",\n",
        "                                                                  \"Not Repaired, was in Compliance\",\n",
        "                                                                  \"Repair to be Scheduled\",\n",
        "                                                                  \"Insufficient Information to Respond\",\n",
        "                                                                  \"Not in DOT Jurisdiction (MTA)\",\n",
        "                                                                  \"Not in DOT Jurisdiction (Parks and Rec)\",\n",
        "                                                                  \"Referred: Barricaded\",\n",
        "                                                                  \"Temporarily Repaired\",\n",
        "                                                                  \"Not in DOT Jurisdiction (Other)\",\n",
        "                                                                  \"Referred: Other DOT\",\n",
        "                                                                  \"In Progress\",\n",
        "                                                                  \"Referred: Dept. Environmental Protection\",\n",
        "                                                                  \"Not in DOT Jurisdiction (State DOT)\"\n",
        "                                                                  ])"
      ],
      "execution_count": 0,
      "outputs": []
    },
    {
      "cell_type": "code",
      "metadata": {
        "id": "tXpuAy0BlusC",
        "colab_type": "code",
        "colab": {}
      },
      "source": [
        "simple_map = zip(potholes['resolution_description'].unique(), [\"Repaired\",\n",
        "                                                              \"Not Repaired\",\n",
        "                                                              \"Repaired\",\n",
        "                                                              \"Duplicate\",\n",
        "                                                              \"Not Repaired\",\n",
        "                                                              \"Repaired\",\n",
        "                                                              \"Unknown\",\n",
        "                                                              \"Not Repaired\",\n",
        "                                                              \"Not Repaired\",\n",
        "                                                              \"Not Repaired\",\n",
        "                                                              \"Not Repaired\",\n",
        "                                                              \"Unknown\",\n",
        "                                                              \"Not Repaired\",\n",
        "                                                              \"Not Repaired\",\n",
        "                                                              \"Repaired\",\n",
        "                                                              \"Unknown\",\n",
        "                                                              \"Not Repaired\",\n",
        "                                                              \"Not Repaired\",\n",
        "                                                              \"Not Repaired\",\n",
        "                                                              \"Not Repaired\",\n",
        "                                                              \"Not Repaired\",\n",
        "                                                              \"Not Repaired\",\n",
        "                                                              \"Not Repaired\",\n",
        "                                                              \"Repaired\",\n",
        "                                                              \"Not Repaired\",\n",
        "                                                              \"Not Repaired\",\n",
        "                                                              \"Repaired\",\n",
        "                                                              \"Not Repaired\",\n",
        "                                                              \"Not Repaired\"\n",
        "                                                                  ])"
      ],
      "execution_count": 0,
      "outputs": []
    },
    {
      "cell_type": "code",
      "metadata": {
        "id": "5_A34aI9Qxx0",
        "colab_type": "code",
        "colab": {}
      },
      "source": [
        "potholes['shorter_resolution_desc'] = potholes['resolution_description'].map(dict(resolution_map))\n",
        "potholes['shortest_resolution_desc'] = potholes['resolution_description'].map(dict(simple_map))"
      ],
      "execution_count": 0,
      "outputs": []
    },
    {
      "cell_type": "markdown",
      "metadata": {
        "id": "ITwa1PS1h6xA",
        "colab_type": "text"
      },
      "source": [
        "I'd like to use scikit-learn (`sklearn`) to do a tree algorithm on my data, figuring out how to predict \"Repaired\" or \"Not Repaired\".  "
      ]
    },
    {
      "cell_type": "code",
      "metadata": {
        "id": "BoJGlgZmigmZ",
        "colab_type": "code",
        "colab": {}
      },
      "source": [
        "import datetime as dt\n",
        "simpler_potholes = potholes.loc[(potholes['shortest_resolution_desc'] == \"Repaired\") | (potholes['shortest_resolution_desc'] == \"Not Repaired\"), \n",
        "                            [\"latitude\", \"longitude\", \"created_date\", \"shortest_resolution_desc\"]].dropna()\n",
        "simpler_potholes['year'], simpler_potholes['month'] = simpler_potholes['created_date'].dt.year, simpler_potholes['created_date'].dt.month\n",
        "simpler_potholes.drop(columns = ['created_date'], inplace=True)"
      ],
      "execution_count": 0,
      "outputs": []
    },
    {
      "cell_type": "code",
      "metadata": {
        "id": "cpGsgMpykS6P",
        "colab_type": "code",
        "outputId": "d1f4be28-a843-4e13-97af-068a3e7ff8f8",
        "colab": {
          "base_uri": "https://localhost:8080/",
          "height": 119
        }
      },
      "source": [
        "from sklearn.model_selection import train_test_split\n",
        "from sklearn.tree import DecisionTreeClassifier\n",
        "clf = DecisionTreeClassifier(random_state=0)\n",
        "predictors, outcome = simpler_potholes.drop('shortest_resolution_desc',axis=1), simpler_potholes['shortest_resolution_desc']\n",
        "X_train, X_test, y_train, y_test = train_test_split(predictors, outcome, random_state=1)\n",
        "\n",
        "\n",
        "model = DecisionTreeClassifier()\n",
        "model.fit(X_train, y_train)"
      ],
      "execution_count": 33,
      "outputs": [
        {
          "output_type": "execute_result",
          "data": {
            "text/plain": [
              "DecisionTreeClassifier(class_weight=None, criterion='gini', max_depth=None,\n",
              "                       max_features=None, max_leaf_nodes=None,\n",
              "                       min_impurity_decrease=0.0, min_impurity_split=None,\n",
              "                       min_samples_leaf=1, min_samples_split=2,\n",
              "                       min_weight_fraction_leaf=0.0, presort=False,\n",
              "                       random_state=None, splitter='best')"
            ]
          },
          "metadata": {
            "tags": []
          },
          "execution_count": 33
        }
      ]
    },
    {
      "cell_type": "code",
      "metadata": {
        "id": "1FS9N-aAUaJg",
        "colab_type": "code",
        "colab": {}
      },
      "source": [
        "predictions = model.predict(X_train)"
      ],
      "execution_count": 0,
      "outputs": []
    },
    {
      "cell_type": "code",
      "metadata": {
        "id": "j9e8xv0c_yh3",
        "colab_type": "code",
        "colab": {
          "base_uri": "https://localhost:8080/",
          "height": 204
        },
        "outputId": "d1c07fdd-30d3-488a-a602-0606b0609162"
      },
      "source": [
        "model_outcome_training = pd.DataFrame({\"prediction\": predictions, \"actual\": y_train})\n",
        "\n",
        "model_outcome_training.head()"
      ],
      "execution_count": 37,
      "outputs": [
        {
          "output_type": "execute_result",
          "data": {
            "text/html": [
              "<div>\n",
              "<style scoped>\n",
              "    .dataframe tbody tr th:only-of-type {\n",
              "        vertical-align: middle;\n",
              "    }\n",
              "\n",
              "    .dataframe tbody tr th {\n",
              "        vertical-align: top;\n",
              "    }\n",
              "\n",
              "    .dataframe thead th {\n",
              "        text-align: right;\n",
              "    }\n",
              "</style>\n",
              "<table border=\"1\" class=\"dataframe\">\n",
              "  <thead>\n",
              "    <tr style=\"text-align: right;\">\n",
              "      <th></th>\n",
              "      <th>prediction</th>\n",
              "      <th>actual</th>\n",
              "    </tr>\n",
              "  </thead>\n",
              "  <tbody>\n",
              "    <tr>\n",
              "      <th>24018</th>\n",
              "      <td>Repaired</td>\n",
              "      <td>Repaired</td>\n",
              "    </tr>\n",
              "    <tr>\n",
              "      <th>329817</th>\n",
              "      <td>Repaired</td>\n",
              "      <td>Repaired</td>\n",
              "    </tr>\n",
              "    <tr>\n",
              "      <th>440011</th>\n",
              "      <td>Repaired</td>\n",
              "      <td>Repaired</td>\n",
              "    </tr>\n",
              "    <tr>\n",
              "      <th>84658</th>\n",
              "      <td>Repaired</td>\n",
              "      <td>Repaired</td>\n",
              "    </tr>\n",
              "    <tr>\n",
              "      <th>536682</th>\n",
              "      <td>Repaired</td>\n",
              "      <td>Repaired</td>\n",
              "    </tr>\n",
              "  </tbody>\n",
              "</table>\n",
              "</div>"
            ],
            "text/plain": [
              "       prediction    actual\n",
              "24018    Repaired  Repaired\n",
              "329817   Repaired  Repaired\n",
              "440011   Repaired  Repaired\n",
              "84658    Repaired  Repaired\n",
              "536682   Repaired  Repaired"
            ]
          },
          "metadata": {
            "tags": []
          },
          "execution_count": 37
        }
      ]
    },
    {
      "cell_type": "code",
      "metadata": {
        "id": "HVZRmVWwUoH1",
        "colab_type": "code",
        "colab": {
          "base_uri": "https://localhost:8080/",
          "height": 68
        },
        "outputId": "012f51bb-15f8-47fb-9b4b-233b22075ccc"
      },
      "source": [
        "(model_outcome_training['prediction'] == model_outcome_training['actual']).value_counts()"
      ],
      "execution_count": 39,
      "outputs": [
        {
          "output_type": "execute_result",
          "data": {
            "text/plain": [
              "True     371856\n",
              "False      2844\n",
              "dtype: int64"
            ]
          },
          "metadata": {
            "tags": []
          },
          "execution_count": 39
        }
      ]
    },
    {
      "cell_type": "code",
      "metadata": {
        "id": "56ce_KFOU5aK",
        "colab_type": "code",
        "colab": {
          "base_uri": "https://localhost:8080/",
          "height": 142
        },
        "outputId": "0a5fa7f2-2d05-453c-d8c5-0fbe5f197692"
      },
      "source": [
        "pd.crosstab(model_outcome_training['prediction'], model_outcome_training['actual'])\n"
      ],
      "execution_count": 42,
      "outputs": [
        {
          "output_type": "execute_result",
          "data": {
            "text/html": [
              "<div>\n",
              "<style scoped>\n",
              "    .dataframe tbody tr th:only-of-type {\n",
              "        vertical-align: middle;\n",
              "    }\n",
              "\n",
              "    .dataframe tbody tr th {\n",
              "        vertical-align: top;\n",
              "    }\n",
              "\n",
              "    .dataframe thead th {\n",
              "        text-align: right;\n",
              "    }\n",
              "</style>\n",
              "<table border=\"1\" class=\"dataframe\">\n",
              "  <thead>\n",
              "    <tr style=\"text-align: right;\">\n",
              "      <th>actual</th>\n",
              "      <th>Not Repaired</th>\n",
              "      <th>Repaired</th>\n",
              "    </tr>\n",
              "    <tr>\n",
              "      <th>prediction</th>\n",
              "      <th></th>\n",
              "      <th></th>\n",
              "    </tr>\n",
              "  </thead>\n",
              "  <tbody>\n",
              "    <tr>\n",
              "      <th>Not Repaired</th>\n",
              "      <td>25466</td>\n",
              "      <td>2118</td>\n",
              "    </tr>\n",
              "    <tr>\n",
              "      <th>Repaired</th>\n",
              "      <td>726</td>\n",
              "      <td>346390</td>\n",
              "    </tr>\n",
              "  </tbody>\n",
              "</table>\n",
              "</div>"
            ],
            "text/plain": [
              "actual        Not Repaired  Repaired\n",
              "prediction                          \n",
              "Not Repaired         25466      2118\n",
              "Repaired               726    346390"
            ]
          },
          "metadata": {
            "tags": []
          },
          "execution_count": 42
        }
      ]
    },
    {
      "cell_type": "markdown",
      "metadata": {
        "id": "Cq5NaR6wWgfP",
        "colab_type": "text"
      },
      "source": [
        "Well, that's pretty good, and better than last week's logistic regression performance.  Let's see how it does on testing data!"
      ]
    },
    {
      "cell_type": "code",
      "metadata": {
        "id": "V_Iisd05XAGf",
        "colab_type": "code",
        "colab": {
          "base_uri": "https://localhost:8080/",
          "height": 142
        },
        "outputId": "d35b6763-eb03-4a8a-a2d5-67e92fb1f281"
      },
      "source": [
        "model_outcome_testing = pd.DataFrame({\"prediction\": model.predict(X_test), \"actual\": y_test})\n",
        "\n",
        "pd.crosstab(model_outcome_testing['prediction'], model_outcome_testing['actual'])\n"
      ],
      "execution_count": 44,
      "outputs": [
        {
          "output_type": "execute_result",
          "data": {
            "text/html": [
              "<div>\n",
              "<style scoped>\n",
              "    .dataframe tbody tr th:only-of-type {\n",
              "        vertical-align: middle;\n",
              "    }\n",
              "\n",
              "    .dataframe tbody tr th {\n",
              "        vertical-align: top;\n",
              "    }\n",
              "\n",
              "    .dataframe thead th {\n",
              "        text-align: right;\n",
              "    }\n",
              "</style>\n",
              "<table border=\"1\" class=\"dataframe\">\n",
              "  <thead>\n",
              "    <tr style=\"text-align: right;\">\n",
              "      <th>actual</th>\n",
              "      <th>Not Repaired</th>\n",
              "      <th>Repaired</th>\n",
              "    </tr>\n",
              "    <tr>\n",
              "      <th>prediction</th>\n",
              "      <th></th>\n",
              "      <th></th>\n",
              "    </tr>\n",
              "  </thead>\n",
              "  <tbody>\n",
              "    <tr>\n",
              "      <th>Not Repaired</th>\n",
              "      <td>1429</td>\n",
              "      <td>7753</td>\n",
              "    </tr>\n",
              "    <tr>\n",
              "      <th>Repaired</th>\n",
              "      <td>7373</td>\n",
              "      <td>108345</td>\n",
              "    </tr>\n",
              "  </tbody>\n",
              "</table>\n",
              "</div>"
            ],
            "text/plain": [
              "actual        Not Repaired  Repaired\n",
              "prediction                          \n",
              "Not Repaired          1429      7753\n",
              "Repaired              7373    108345"
            ]
          },
          "metadata": {
            "tags": []
          },
          "execution_count": 44
        }
      ]
    },
    {
      "cell_type": "markdown",
      "metadata": {
        "id": "TI45tiLuXf7t",
        "colab_type": "text"
      },
      "source": [
        ""
      ]
    }
  ]
}