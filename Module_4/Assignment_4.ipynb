{
 "cells": [
  {
   "cell_type": "markdown",
   "metadata": {},
   "source": [
    "# Assignment 4: Numpy\n",
    "\n",
    "January 1, 2019\n",
    "\n",
    "**Jane Programmer**\n",
    "\n",
    "As usual, we're just offering some scaffolding here, not the entire completed code.  Feel free to use your own ingenuity to come up with a different approach.\n",
    "\n",
    "We begin by importing the packages and modules we need, and then getting our data loaded. We use `genfromtxt` to get data from a CSV into a numpy array called `water_use`.  We'll want to specify our delimiter (a comma) and that we want to skip the header."
   ]
  },
  {
   "cell_type": "code",
   "execution_count": 1,
   "metadata": {},
   "outputs": [],
   "source": [
    "import numpy as np\n",
    "from numpy import genfromtxt\n",
    "\n",
    "water_use = genfromtxt(# do some stuff here)"
   ]
  },
  {
   "cell_type": "markdown",
   "metadata": {},
   "source": [
    "Let's check the type of `water_use`, then view it."
   ]
  },
  {
   "cell_type": "code",
   "execution_count": 2,
   "metadata": {},
   "outputs": [
    {
     "data": {
      "text/plain": [
       "numpy.ndarray"
      ]
     },
     "execution_count": 2,
     "metadata": {},
     "output_type": "execute_result"
    }
   ],
   "source": [
    "type(water_use)"
   ]
  },
  {
   "cell_type": "code",
   "execution_count": 3,
   "metadata": {},
   "outputs": [
    {
     "data": {
      "text/plain": [
       "array([[1.9790000e+03, 7.1021000e+06, 1.5120000e+03, 2.1300000e+02],\n",
       "       [1.9800000e+03, 7.0716390e+06, 1.5060000e+03, 2.1300000e+02],\n",
       "       [1.9810000e+03, 7.0892410e+06, 1.3090000e+03, 1.8500000e+02],\n",
       "       [1.9820000e+03, 7.1091050e+06, 1.3820000e+03, 1.9400000e+02],\n",
       "       [1.9830000e+03, 7.1812240e+06, 1.4240000e+03, 1.9800000e+02],\n",
       "       [1.9840000e+03, 7.2345140e+06, 1.4650000e+03, 2.0300000e+02],\n",
       "       [1.9850000e+03, 7.2740540e+06, 1.3260000e+03, 1.8200000e+02],\n",
       "       [1.9860000e+03, 7.3192460e+06, 1.3510000e+03, 1.8500000e+02],\n",
       "       [1.9870000e+03, 7.3424760e+06, 1.4470000e+03, 1.9700000e+02],\n",
       "       [1.9880000e+03, 7.3537190e+06, 1.4840000e+03, 2.0200000e+02],\n",
       "       [1.9890000e+03, 7.3441750e+06, 1.4020000e+03, 1.9100000e+02],\n",
       "       [1.9900000e+03, 7.3356500e+06, 1.4240000e+03, 1.9400000e+02],\n",
       "       [1.9910000e+03, 7.3745010e+06, 1.4690000e+03, 1.9900000e+02],\n",
       "       [1.9920000e+03, 7.4289440e+06, 1.3690000e+03, 1.8400000e+02],\n",
       "       [1.9930000e+03, 7.5061660e+06, 1.3685000e+03, 1.8200000e+02],\n",
       "       [1.9940000e+03, 7.5704580e+06, 1.3577000e+03, 1.7900000e+02],\n",
       "       [1.9950000e+03, 7.6330400e+06, 1.3257000e+03, 1.7400000e+02],\n",
       "       [1.9960000e+03, 7.6978120e+06, 1.2979000e+03, 1.6900000e+02],\n",
       "       [1.9970000e+03, 7.7734430e+06, 1.2055000e+03, 1.5500000e+02],\n",
       "       [1.9980000e+03, 7.8582590e+06, 1.2195000e+03, 1.5500000e+02],\n",
       "       [1.9990000e+03, 7.9476600e+06, 1.2372000e+03, 1.5600000e+02],\n",
       "       [2.0000000e+03, 8.0082780e+06, 1.2404000e+03, 1.5500000e+02],\n",
       "       [2.0010000e+03, 8.0249635e+06, 1.1840000e+03, 1.4800000e+02],\n",
       "       [2.0020000e+03, 8.0416490e+06, 1.1356000e+03, 1.4100000e+02],\n",
       "       [2.0030000e+03, 8.0583345e+06, 1.0937000e+03, 1.3600000e+02],\n",
       "       [2.0040000e+03, 8.0750200e+06, 1.0995000e+03, 1.3600000e+02],\n",
       "       [2.0050000e+03, 8.0917055e+06, 1.1380000e+03, 1.4100000e+02],\n",
       "       [2.0060000e+03, 8.1083910e+06, 1.0690000e+03, 1.3200000e+02],\n",
       "       [2.0070000e+03, 8.1250765e+06, 1.1140000e+03, 1.3700000e+02],\n",
       "       [2.0080000e+03, 8.1417620e+06, 1.0980000e+03, 1.3500000e+02],\n",
       "       [2.0090000e+03, 8.1584475e+06, 1.0075000e+03, 1.2300000e+02],\n",
       "       [2.0100000e+03, 8.1751330e+06, 1.0390000e+03, 1.2700000e+02],\n",
       "       [2.0110000e+03, 8.2840980e+06, 1.0210000e+03, 1.2300000e+02],\n",
       "       [2.0120000e+03, 8.3611790e+06, 1.0091000e+03, 1.2100000e+02],\n",
       "       [2.0130000e+03, 8.4224600e+06, 1.0061000e+03, 1.1900000e+02],\n",
       "       [2.0140000e+03, 8.4719900e+06, 9.9600000e+02, 1.1800000e+02],\n",
       "       [2.0150000e+03, 8.5165020e+06, 1.0090000e+03, 1.1800000e+02],\n",
       "       [2.0160000e+03, 8.5376730e+06, 1.0020000e+03, 1.1700000e+02],\n",
       "       [2.0170000e+03, 8.6226980e+06, 9.9020000e+02, 1.1500000e+02]])"
      ]
     },
     "execution_count": 3,
     "metadata": {},
     "output_type": "execute_result"
    }
   ],
   "source": [
    "water_use"
   ]
  },
  {
   "cell_type": "markdown",
   "metadata": {},
   "source": [
    "Change numpy's print options to suppress scientific notation and try viewing the data again!"
   ]
  },
  {
   "cell_type": "code",
   "execution_count": 4,
   "metadata": {},
   "outputs": [
    {
     "data": {
      "text/plain": [
       "array([[   1979. , 7102100. ,    1512. ,     213. ],\n",
       "       [   1980. , 7071639. ,    1506. ,     213. ],\n",
       "       [   1981. , 7089241. ,    1309. ,     185. ],\n",
       "       [   1982. , 7109105. ,    1382. ,     194. ],\n",
       "       [   1983. , 7181224. ,    1424. ,     198. ],\n",
       "       [   1984. , 7234514. ,    1465. ,     203. ],\n",
       "       [   1985. , 7274054. ,    1326. ,     182. ],\n",
       "       [   1986. , 7319246. ,    1351. ,     185. ],\n",
       "       [   1987. , 7342476. ,    1447. ,     197. ],\n",
       "       [   1988. , 7353719. ,    1484. ,     202. ],\n",
       "       [   1989. , 7344175. ,    1402. ,     191. ],\n",
       "       [   1990. , 7335650. ,    1424. ,     194. ],\n",
       "       [   1991. , 7374501. ,    1469. ,     199. ],\n",
       "       [   1992. , 7428944. ,    1369. ,     184. ],\n",
       "       [   1993. , 7506166. ,    1368.5,     182. ],\n",
       "       [   1994. , 7570458. ,    1357.7,     179. ],\n",
       "       [   1995. , 7633040. ,    1325.7,     174. ],\n",
       "       [   1996. , 7697812. ,    1297.9,     169. ],\n",
       "       [   1997. , 7773443. ,    1205.5,     155. ],\n",
       "       [   1998. , 7858259. ,    1219.5,     155. ],\n",
       "       [   1999. , 7947660. ,    1237.2,     156. ],\n",
       "       [   2000. , 8008278. ,    1240.4,     155. ],\n",
       "       [   2001. , 8024963.5,    1184. ,     148. ],\n",
       "       [   2002. , 8041649. ,    1135.6,     141. ],\n",
       "       [   2003. , 8058334.5,    1093.7,     136. ],\n",
       "       [   2004. , 8075020. ,    1099.5,     136. ],\n",
       "       [   2005. , 8091705.5,    1138. ,     141. ],\n",
       "       [   2006. , 8108391. ,    1069. ,     132. ],\n",
       "       [   2007. , 8125076.5,    1114. ,     137. ],\n",
       "       [   2008. , 8141762. ,    1098. ,     135. ],\n",
       "       [   2009. , 8158447.5,    1007.5,     123. ],\n",
       "       [   2010. , 8175133. ,    1039. ,     127. ],\n",
       "       [   2011. , 8284098. ,    1021. ,     123. ],\n",
       "       [   2012. , 8361179. ,    1009.1,     121. ],\n",
       "       [   2013. , 8422460. ,    1006.1,     119. ],\n",
       "       [   2014. , 8471990. ,     996. ,     118. ],\n",
       "       [   2015. , 8516502. ,    1009. ,     118. ],\n",
       "       [   2016. , 8537673. ,    1002. ,     117. ],\n",
       "       [   2017. , 8622698. ,     990.2,     115. ]])"
      ]
     },
     "execution_count": 4,
     "metadata": {},
     "output_type": "execute_result"
    }
   ],
   "source": [
    "np.set_printoptions(# what might help?)\n",
    "water_use"
   ]
  },
  {
   "cell_type": "markdown",
   "metadata": {},
   "source": [
    "What do each of the columns represent?  Go back to the web page where you found this data, if needed.\n",
    "\n",
    "* Col 1 = ??\n",
    "* Col 2 = ??\n",
    "* Col 3 = ??\n",
    "* Col 4 = ??"
   ]
  },
  {
   "cell_type": "markdown",
   "metadata": {},
   "source": [
    "Answer the following questions, using numpy slicing and operations:\n",
    "\n",
    "* What is the maximum yearly NYC consumption in millions of gallons per day?"
   ]
  },
  {
   "cell_type": "code",
   "execution_count": 5,
   "metadata": {},
   "outputs": [
    {
     "data": {
      "text/plain": [
       "1512.0"
      ]
     },
     "execution_count": 5,
     "metadata": {},
     "output_type": "execute_result"
    }
   ],
   "source": [
    "water_use# some code here"
   ]
  },
  {
   "cell_type": "markdown",
   "metadata": {},
   "source": [
    "* How many years are represented in this data?  Try using numpy's `shape` command."
   ]
  },
  {
   "cell_type": "code",
   "execution_count": 6,
   "metadata": {},
   "outputs": [
    {
     "data": {
      "text/plain": [
       "(39, 4)"
      ]
     },
     "execution_count": 6,
     "metadata": {},
     "output_type": "execute_result"
    }
   ],
   "source": [
    "water_use.shape"
   ]
  },
  {
   "cell_type": "markdown",
   "metadata": {},
   "source": [
    "* What is the mean and the standard deviation of the per capity daily water consumption?"
   ]
  },
  {
   "cell_type": "code",
   "execution_count": 7,
   "metadata": {},
   "outputs": [
    {
     "data": {
      "text/plain": [
       "160.30769230769232"
      ]
     },
     "execution_count": 7,
     "metadata": {},
     "output_type": "execute_result"
    }
   ],
   "source": [
    "water_use#some code here"
   ]
  },
  {
   "cell_type": "code",
   "execution_count": 8,
   "metadata": {},
   "outputs": [
    {
     "data": {
      "text/plain": [
       "31.51894330370624"
      ]
     },
     "execution_count": 8,
     "metadata": {},
     "output_type": "execute_result"
    }
   ],
   "source": [
    "water_use#some code here"
   ]
  },
  {
   "cell_type": "markdown",
   "metadata": {},
   "source": [
    "* What is the increase or decrease in population from year to year?  Use numpy's `diff` function to create an array of differences and save that to the variable \"pop_diff\", then print that variable."
   ]
  },
  {
   "cell_type": "code",
   "execution_count": 9,
   "metadata": {},
   "outputs": [
    {
     "data": {
      "text/plain": [
       "array([-30461. ,  17602. ,  19864. ,  72119. ,  53290. ,  39540. ,\n",
       "        45192. ,  23230. ,  11243. ,  -9544. ,  -8525. ,  38851. ,\n",
       "        54443. ,  77222. ,  64292. ,  62582. ,  64772. ,  75631. ,\n",
       "        84816. ,  89401. ,  60618. ,  16685.5,  16685.5,  16685.5,\n",
       "        16685.5,  16685.5,  16685.5,  16685.5,  16685.5,  16685.5,\n",
       "        16685.5, 108965. ,  77081. ,  61281. ,  49530. ,  44512. ,\n",
       "        21171. ,  85025. ])"
      ]
     },
     "execution_count": 9,
     "metadata": {},
     "output_type": "execute_result"
    }
   ],
   "source": [
    "pop_diff = np.diff#some code here\n",
    "pop_diff"
   ]
  },
  {
   "cell_type": "markdown",
   "metadata": {},
   "source": [
    "* What's the python type (use `type`) of pop_diff?"
   ]
  },
  {
   "cell_type": "code",
   "execution_count": 10,
   "metadata": {},
   "outputs": [
    {
     "data": {
      "text/plain": [
       "numpy.ndarray"
      ]
     },
     "execution_count": 10,
     "metadata": {},
     "output_type": "execute_result"
    }
   ],
   "source": [
    "type(pop_diff)"
   ]
  },
  {
   "cell_type": "markdown",
   "metadata": {},
   "source": [
    "* What's the numpy datatype (use numpy's `dtype`) of pop_diff?"
   ]
  },
  {
   "cell_type": "code",
   "execution_count": 11,
   "metadata": {},
   "outputs": [
    {
     "data": {
      "text/plain": [
       "dtype('float64')"
      ]
     },
     "execution_count": 11,
     "metadata": {},
     "output_type": "execute_result"
    }
   ],
   "source": [
    "pop_diff.dtype"
   ]
  },
  {
   "cell_type": "markdown",
   "metadata": {},
   "source": [
    "* How many elements are in `pop_diff`?  Why is that different from the number of rows in our 2D array?"
   ]
  },
  {
   "cell_type": "code",
   "execution_count": 12,
   "metadata": {},
   "outputs": [
    {
     "data": {
      "text/plain": [
       "38"
      ]
     },
     "execution_count": 12,
     "metadata": {},
     "output_type": "execute_result"
    }
   ],
   "source": [
    "pop_diff.size"
   ]
  },
  {
   "cell_type": "markdown",
   "metadata": {},
   "source": [
    "There are 39 ***years*** but only 38 ***differences***, because ..."
   ]
  },
  {
   "cell_type": "markdown",
   "metadata": {},
   "source": [
    "Now that we know the mean and standard deviation of the average per-capity daily water use  over this time period, we can create a simulation of per capita daily water use over this time frame.  Take the number of years, multiply by 365.25, and round to the nearest whole integer.  That's the number of values we want to generate.  \n",
    "\n",
    "Then, using numpy's `random` package, create an array that contains that number of values, normally distributed, with the mean and standard deviation you figured out for per capita daily water use.  Save that array to `simulated_daily_use_array`.\n",
    "\n",
    "Hint: use `help(np.random.normal)` to get some info that will help you!"
   ]
  },
  {
   "cell_type": "code",
   "execution_count": 13,
   "metadata": {},
   "outputs": [],
   "source": [
    "num_values = round(39*365.25)"
   ]
  },
  {
   "cell_type": "code",
   "execution_count": 14,
   "metadata": {},
   "outputs": [],
   "source": [
    "simulated_daily_use_array = np.random.normal(# add a mean, standard deviation, and number of values)"
   ]
  },
  {
   "cell_type": "markdown",
   "metadata": {},
   "source": [
    "Now, check that `simulated_daily_use_array` is actually a numpy array, and create a list that has the exact same values, but isn't an array, but rather a list.  Call it `simulated_daily_use_list`."
   ]
  },
  {
   "cell_type": "code",
   "execution_count": 15,
   "metadata": {},
   "outputs": [
    {
     "data": {
      "text/plain": [
       "numpy.ndarray"
      ]
     },
     "execution_count": 15,
     "metadata": {},
     "output_type": "execute_result"
    }
   ],
   "source": [
    "type(simulated_daily_use_array)"
   ]
  },
  {
   "cell_type": "code",
   "execution_count": 16,
   "metadata": {},
   "outputs": [],
   "source": [
    "simulated_daily_use_list = list(simulated_daily_use_array)"
   ]
  },
  {
   "cell_type": "code",
   "execution_count": 17,
   "metadata": {},
   "outputs": [
    {
     "data": {
      "text/plain": [
       "list"
      ]
     },
     "execution_count": 17,
     "metadata": {},
     "output_type": "execute_result"
    }
   ],
   "source": [
    "type(simulated_daily_use_list)"
   ]
  },
  {
   "cell_type": "markdown",
   "metadata": {},
   "source": [
    "Now we're going to do some profiling of performance.  We will use three different methods to find the square root of each simulated water use, and we'll use `timeit` to figure out what is quickest.  Let's say we had to do this for the water use over 39 years for 1000 New Yorkers!"
   ]
  },
  {
   "cell_type": "code",
   "execution_count": 18,
   "metadata": {},
   "outputs": [
    {
     "name": "stdout",
     "output_type": "stream",
     "text": [
      "Time for loop: 2.502703570993617\n",
      "Time for list comprehension: 1.314091111999005\n",
      "Time for numpy vectorized operation: 0.06584935099817812\n"
     ]
    }
   ],
   "source": [
    "from timeit import timeit\n",
    "import math\n",
    "\n",
    "def sqrt_1():\n",
    "    # This one uses a loop.  Slow!\n",
    "    sqrt_1 = [] \n",
    "    for i in range(0, len(simulated_daily_use_list)-1):  \n",
    "        sqrt_1.append(math.sqrt(simulated_daily_use_list[i]))\n",
    "    return(sqrt_1)\n",
    "\n",
    "def sqrt_2():\n",
    "    # This one uses list comprehension. Better!\n",
    "    return([math.sqrt(x) for x in simulated_daily_use_list])\n",
    "\n",
    "def sqrt_3():\n",
    "    # This one uses numpy.  Best!\n",
    "    return(np.sqrt(simulated_daily_use_array))\n",
    "\n",
    "print(\"Time for loop: \" + str(timeit(sqrt_1, number = 1000)))\n",
    "print(\"Time for list comprehension: \" + str(timeit(sqrt_2, number = 1000)))\n",
    "print(\"Time for numpy vectorized operation: \" + str(timeit(sqrt_3, number = 1000)))"
   ]
  }
 ],
 "metadata": {
  "kernelspec": {
   "display_name": "Python 3",
   "language": "python",
   "name": "python3"
  },
  "language_info": {
   "codemirror_mode": {
    "name": "ipython",
    "version": 3
   },
   "file_extension": ".py",
   "mimetype": "text/x-python",
   "name": "python",
   "nbconvert_exporter": "python",
   "pygments_lexer": "ipython3",
   "version": "3.6.5"
  }
 },
 "nbformat": 4,
 "nbformat_minor": 2
}
