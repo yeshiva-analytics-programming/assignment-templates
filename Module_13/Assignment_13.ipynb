{
  "nbformat": 4,
  "nbformat_minor": 0,
  "metadata": {
    "colab": {
      "name": "Module_13.ipynb",
      "version": "0.3.2",
      "provenance": [],
      "collapsed_sections": []
    },
    "kernelspec": {
      "name": "python3",
      "display_name": "Python 3"
    }
  },
  "cells": [
    {
      "cell_type": "markdown",
      "metadata": {
        "id": "auIA_cj3Jg9H",
        "colab_type": "text"
      },
      "source": [
        "# NLTK Sentiment Analysis on Movie Reviews\n",
        "\n",
        "First, let's import the `nltk` package.  It's exceptionally large due to its inclusion of text corpora, so we have to select what we want to download.  In our case, we'll keep it simple and just download the `movie_reviews` corpus."
      ]
    },
    {
      "cell_type": "code",
      "metadata": {
        "id": "TzkWG05Ic9Nu",
        "colab_type": "code",
        "outputId": "16df5342-8232-4dce-b10f-94ef4192a582",
        "colab": {
          "base_uri": "https://localhost:8080/",
          "height": 51
        }
      },
      "source": [
        "import nltk\n",
        "nltk.download('movie_reviews')\n",
        "from nltk.corpus import movie_reviews "
      ],
      "execution_count": 1,
      "outputs": [
        {
          "output_type": "stream",
          "text": [
            "[nltk_data] Downloading package movie_reviews to /root/nltk_data...\n",
            "[nltk_data]   Package movie_reviews is already up-to-date!\n"
          ],
          "name": "stdout"
        }
      ]
    },
    {
      "cell_type": "markdown",
      "metadata": {
        "id": "3-_K9x1eJ0Ue",
        "colab_type": "text"
      },
      "source": [
        "Let's take a look at the documentation (readme) for this corpus.  Note that we wrap the command in `print()` in order to preserve things like line breaks.  If you ever get output that's just one long string that goes off to the right for what seems like forever, `print()` might help."
      ]
    },
    {
      "cell_type": "code",
      "metadata": {
        "id": "MzJQKDlReEQv",
        "colab_type": "code",
        "outputId": "b883b457-796d-455f-f479-b211f9379f16",
        "colab": {
          "base_uri": "https://localhost:8080/",
          "height": 1000
        }
      },
      "source": [
        "print(movie_reviews.readme())"
      ],
      "execution_count": 2,
      "outputs": [
        {
          "output_type": "stream",
          "text": [
            "Sentiment Polarity Dataset Version 2.0\n",
            "Bo Pang and Lillian Lee\n",
            "\n",
            "http://www.cs.cornell.edu/people/pabo/movie-review-data/\n",
            "\n",
            "Distributed with NLTK with permission from the authors.\n",
            "\n",
            "=======\n",
            "\n",
            "Introduction\n",
            "\n",
            "This README v2.0 (June, 2004) for the v2.0 polarity dataset comes from\n",
            "the URL http://www.cs.cornell.edu/people/pabo/movie-review-data .\n",
            "\n",
            "=======\n",
            "\n",
            "What's New -- June, 2004\n",
            "\n",
            "This dataset represents an enhancement of the review corpus v1.0\n",
            "described in README v1.1: it contains more reviews, and labels were\n",
            "created with an improved rating-extraction system.\n",
            "\n",
            "=======\n",
            "\n",
            "Citation Info \n",
            "\n",
            "This data was first used in Bo Pang and Lillian Lee,\n",
            "``A Sentimental Education: Sentiment Analysis Using Subjectivity Summarization \n",
            "Based on Minimum Cuts'',  Proceedings of the ACL, 2004.\n",
            "\n",
            "@InProceedings{Pang+Lee:04a,\n",
            "  author =       {Bo Pang and Lillian Lee},\n",
            "  title =        {A Sentimental Education: Sentiment Analysis Using Subjectivity Summarization Based on Minimum Cuts},\n",
            "  booktitle =    \"Proceedings of the ACL\",\n",
            "  year =         2004\n",
            "}\n",
            "\n",
            "=======\n",
            "\n",
            "Data Format Summary \n",
            "\n",
            "- review_polarity.tar.gz: contains this readme and  data used in\n",
            "  the experiments described in Pang/Lee ACL 2004.\n",
            "\n",
            "  Specifically:\n",
            "\n",
            "  Within the folder \"txt_sentoken\" are the 2000 processed down-cased\n",
            "  text files used in Pang/Lee ACL 2004; the names of the two\n",
            "  subdirectories in that folder, \"pos\" and \"neg\", indicate the true\n",
            "  classification (sentiment) of the component files according to our\n",
            "  automatic rating classifier (see section \"Rating Decision\" below).\n",
            "\n",
            "  File names consist of a cross-validation tag plus the name of the\n",
            "  original html file.  The ten folds used in the Pang/Lee ACL 2004 paper's\n",
            "  experiments were:\n",
            "\n",
            "     fold 1: files tagged cv000 through cv099, in numerical order\n",
            "     fold 2: files tagged cv100 through cv199, in numerical order     \n",
            "     ...\n",
            "     fold 10: files tagged cv900 through cv999, in numerical order\n",
            "\n",
            "  Hence, the file neg/cv114_19501.txt, for example, was labeled as\n",
            "  negative, served as a member of fold 2, and was extracted from the\n",
            "  file 19501.html in polarity_html.zip (see below).\n",
            "\n",
            "  Each line in each text file corresponds to a single sentence, as\n",
            "  determined by Adwait Ratnaparkhi's sentence boundary detector\n",
            "  MXTERMINATOR.\n",
            " \n",
            "  Preliminary steps were taken to remove rating information from the\n",
            "  text files, but only the rating information upon which the rating\n",
            "  decision was based is guaranteed to have been removed. Thus, if the\n",
            "  original review contains several instances of rating information,\n",
            "  potentially given in different forms, those not recognized as valid\n",
            "  ratings remain part of the review text.\n",
            "\t\n",
            "- polarity_html.zip: The original source files from which the\n",
            "  processed, labeled, and (randomly) selected data in\n",
            "  review_polarity.tar.gz was derived.\n",
            "\n",
            "  Specifically:  \n",
            "\n",
            "  This data consists of unprocessed, unlabeled html files from the\n",
            "  IMDb archive of the rec.arts.movies.reviews newsgroup,\n",
            "  http://reviews.imdb.com/Reviews. The files in review_polarity.tar.gz\n",
            "  represent a processed subset of these files. \n",
            "\n",
            "=======\n",
            "\n",
            "Rating Decision (Appendix A)\n",
            "\n",
            "This section describes how we determined whether a review was positive\n",
            "or negative.\n",
            "\n",
            "The original html files do not have consistent formats -- a review may\n",
            "not have the author's rating with it, and when it does, the rating can\n",
            "appear at different places in the file in different forms.  We only\n",
            "recognize some of the more explicit ratings, which are extracted via a\n",
            "set of ad-hoc rules.  In essence, a file's classification is determined\n",
            "based on the first rating we were able to identify.\n",
            "\n",
            "\n",
            "- In order to obtain more accurate rating decisions, the maximum\n",
            "\trating must be specified explicitly, both for numerical ratings\n",
            "\tand star ratings.  (\"8/10\", \"four out of five\", and \"OUT OF\n",
            "\t****: ***\" are examples of rating indications we recognize.)\n",
            "\n",
            "- With a five-star system (or compatible number systems):\n",
            "\tthree-and-a-half stars and up are considered positive, \n",
            "\ttwo stars and below are considered negative.\n",
            "- With a four-star system (or compatible number system):\n",
            "\tthree stars and up are considered positive, \n",
            "\tone-and-a-half stars and below are considered negative.  \n",
            "- With a letter grade system:\n",
            "\tB or above is considered positive,\n",
            "\tC- or below is considered negative.\n",
            "\n",
            "We attempted to recognize half stars, but they are specified in an\n",
            "especially free way, which makes them difficult to recognize.  Hence,\n",
            "we may lose a half star very occasionally; but this only results in 2.5\n",
            "stars in five star system being categorized as negative, which is \n",
            "still reasonable.\n",
            "\n",
            "\n",
            "\n"
          ],
          "name": "stdout"
        }
      ]
    },
    {
      "cell_type": "markdown",
      "metadata": {
        "id": "0dDgz8wqKLtV",
        "colab_type": "text"
      },
      "source": [
        "Let's take a look at some overall statistics.  How many text files exist in this corpus?  How many categories are there, and what are they?"
      ]
    },
    {
      "cell_type": "code",
      "metadata": {
        "id": "ncdA7h8xJfM0",
        "colab_type": "code",
        "outputId": "edd0c1cd-8440-41f7-df08-eb5508159de0",
        "colab": {
          "base_uri": "https://localhost:8080/",
          "height": 51
        }
      },
      "source": [
        "print(len(movie_reviews.fileids()))\n",
        "print(movie_reviews.categories())\n"
      ],
      "execution_count": 3,
      "outputs": [
        {
          "output_type": "stream",
          "text": [
            "2000\n",
            "['neg', 'pos']\n"
          ],
          "name": "stdout"
        }
      ]
    },
    {
      "cell_type": "markdown",
      "metadata": {
        "id": "qE3yDlpRKmx4",
        "colab_type": "text"
      },
      "source": [
        "Let's take a look at these text file names.  We'll look at the first and last five:"
      ]
    },
    {
      "cell_type": "code",
      "metadata": {
        "id": "Nc6nuholetYh",
        "colab_type": "code",
        "outputId": "1900afc6-fe7b-470f-c8e6-fe220857bf0f",
        "colab": {
          "base_uri": "https://localhost:8080/",
          "height": 102
        }
      },
      "source": [
        "movie_reviews.fileids()[0:5]"
      ],
      "execution_count": 4,
      "outputs": [
        {
          "output_type": "execute_result",
          "data": {
            "text/plain": [
              "['neg/cv000_29416.txt',\n",
              " 'neg/cv001_19502.txt',\n",
              " 'neg/cv002_17424.txt',\n",
              " 'neg/cv003_12683.txt',\n",
              " 'neg/cv004_12641.txt']"
            ]
          },
          "metadata": {
            "tags": []
          },
          "execution_count": 4
        }
      ]
    },
    {
      "cell_type": "code",
      "metadata": {
        "id": "MBcyGlE5FgmV",
        "colab_type": "code",
        "outputId": "2bafaa1f-792a-4c9b-df94-ff567efb76f8",
        "colab": {
          "base_uri": "https://localhost:8080/",
          "height": 102
        }
      },
      "source": [
        "movie_reviews.fileids()[-6:-1]"
      ],
      "execution_count": 5,
      "outputs": [
        {
          "output_type": "execute_result",
          "data": {
            "text/plain": [
              "['pos/cv994_12270.txt',\n",
              " 'pos/cv995_21821.txt',\n",
              " 'pos/cv996_11592.txt',\n",
              " 'pos/cv997_5046.txt',\n",
              " 'pos/cv998_14111.txt']"
            ]
          },
          "metadata": {
            "tags": []
          },
          "execution_count": 5
        }
      ]
    },
    {
      "cell_type": "markdown",
      "metadata": {
        "id": "Zr38ThkqKtLu",
        "colab_type": "text"
      },
      "source": [
        "And now, let's print the raw text of the first and last text file!"
      ]
    },
    {
      "cell_type": "code",
      "metadata": {
        "id": "39WdjtIJEi55",
        "colab_type": "code",
        "outputId": "866fe792-6648-4211-d6aa-400a8d134b40",
        "colab": {
          "base_uri": "https://localhost:8080/",
          "height": 649
        }
      },
      "source": [
        "print(movie_reviews.raw('neg/cv000_29416.txt'))"
      ],
      "execution_count": 6,
      "outputs": [
        {
          "output_type": "stream",
          "text": [
            "plot : two teen couples go to a church party , drink and then drive . \n",
            "they get into an accident . \n",
            "one of the guys dies , but his girlfriend continues to see him in her life , and has nightmares . \n",
            "what's the deal ? \n",
            "watch the movie and \" sorta \" find out . . . \n",
            "critique : a mind-fuck movie for the teen generation that touches on a very cool idea , but presents it in a very bad package . \n",
            "which is what makes this review an even harder one to write , since i generally applaud films which attempt to break the mold , mess with your head and such ( lost highway & memento ) , but there are good and bad ways of making all types of films , and these folks just didn't snag this one correctly . \n",
            "they seem to have taken this pretty neat concept , but executed it terribly . \n",
            "so what are the problems with the movie ? \n",
            "well , its main problem is that it's simply too jumbled . \n",
            "it starts off \" normal \" but then downshifts into this \" fantasy \" world in which you , as an audience member , have no idea what's going on . \n",
            "there are dreams , there are characters coming back from the dead , there are others who look like the dead , there are strange apparitions , there are disappearances , there are a looooot of chase scenes , there are tons of weird things that happen , and most of it is simply not explained . \n",
            "now i personally don't mind trying to unravel a film every now and then , but when all it does is give me the same clue over and over again , i get kind of fed up after a while , which is this film's biggest problem . \n",
            "it's obviously got this big secret to hide , but it seems to want to hide it completely until its final five minutes . \n",
            "and do they make things entertaining , thrilling or even engaging , in the meantime ? \n",
            "not really . \n",
            "the sad part is that the arrow and i both dig on flicks like this , so we actually figured most of it out by the half-way point , so all of the strangeness after that did start to make a little bit of sense , but it still didn't the make the film all that more entertaining . \n",
            "i guess the bottom line with movies like this is that you should always make sure that the audience is \" into it \" even before they are given the secret password to enter your world of understanding . \n",
            "i mean , showing melissa sagemiller running away from visions for about 20 minutes throughout the movie is just plain lazy ! ! \n",
            "okay , we get it . . . there \n",
            "are people chasing her and we don't know who they are . \n",
            "do we really need to see it over and over again ? \n",
            "how about giving us different scenes offering further insight into all of the strangeness going down in the movie ? \n",
            "apparently , the studio took this film away from its director and chopped it up themselves , and it shows . \n",
            "there might've been a pretty decent teen mind-fuck movie in here somewhere , but i guess \" the suits \" decided that turning it into a music video with little edge , would make more sense . \n",
            "the actors are pretty good for the most part , although wes bentley just seemed to be playing the exact same character that he did in american beauty , only in a new neighborhood . \n",
            "but my biggest kudos go out to sagemiller , who holds her own throughout the entire film , and actually has you feeling her character's unraveling . \n",
            "overall , the film doesn't stick because it doesn't entertain , it's confusing , it rarely excites and it feels pretty redundant for most of its runtime , despite a pretty cool ending and explanation to all of the craziness that came before it . \n",
            "oh , and by the way , this is not a horror or teen slasher flick . . . it's \n",
            "just packaged to look that way because someone is apparently assuming that the genre is still hot with the kids . \n",
            "it also wrapped production two years ago and has been sitting on the shelves ever since . \n",
            "whatever . . . skip \n",
            "it ! \n",
            "where's joblo coming from ? \n",
            "a nightmare of elm street 3 ( 7/10 ) - blair witch 2 ( 7/10 ) - the crow ( 9/10 ) - the crow : salvation ( 4/10 ) - lost highway ( 10/10 ) - memento ( 10/10 ) - the others ( 9/10 ) - stir of echoes ( 8/10 ) \n",
            "\n"
          ],
          "name": "stdout"
        }
      ]
    },
    {
      "cell_type": "code",
      "metadata": {
        "id": "ItE7_3NjFtZs",
        "colab_type": "code",
        "outputId": "41d99805-a69e-4691-a13d-aa3b9e235f25",
        "colab": {
          "base_uri": "https://localhost:8080/",
          "height": 666
        }
      },
      "source": [
        "print(movie_reviews.raw('pos/cv998_14111.txt'))"
      ],
      "execution_count": 7,
      "outputs": [
        {
          "output_type": "stream",
          "text": [
            "steven spielberg's second epic film on world war ii is an unquestioned masterpiece of film . \n",
            "spielberg , ever the student on film , has managed to resurrect the war genre by producing one of its grittiest , and most powerful entries . \n",
            "he also managed to cast this era's greatest answer to jimmy stewart , tom hanks , who delivers a performance that is nothing short of an astonishing miracle . \n",
            "for about 160 out of its 170 minutes , \" saving private ryan \" is flawless . \n",
            "literally . \n",
            "the plot is simple enough . \n",
            "after the epic d-day invasion ( whose sequences are nothing short of spectacular ) , capt . john miller ( hanks ) and his team are forced to search for a pvt . \n",
            "james ryan ( damon ) , whose brothers have all died in battle . \n",
            "once they find him , they are to bring him back for immediate discharge so that he can go home . \n",
            "accompanying miller are his crew , played with astonishing perfection by a group of character actors that are simply sensational . \n",
            "barry pepper , adam goldberg , vin diesel , giovanni ribisi , davies , and burns are the team sent to find one man , and bring him home . \n",
            "the battle sequences that bookend the film are extraordinary . \n",
            "literally . \n",
            "there is nothing in film that has ever been recorded that will prepare you for the sheer onslaught of terrorizing violence in the film's first 20 minutes . \n",
            "spielberg films almost the entire movie without music , leaving it up to the characters to generate emotion , and they do to perfection . \n",
            "the sequences in france , all of them , beginning with the battle and ending with the battle , are fabulous , especially the dialogues between the men as they walk through the hills and countrysides , trying to save private ryan . \n",
            "there are no words i can use to describe the true horror and power of these sequences . \n",
            "this is what coppola was looking for in \" apocalypse now \" , but couldn't create . \n",
            "the sheer horror of these sequences all but condemn war . \n",
            "the performance by hanks as the leader of this gang is also extraordinary . \n",
            "he is head and shoulders above of the rest of the actors in the world , with his comic timing , dramatic flair , his quiet emotion that stirs an entire nation to tears . \n",
            "hanks is this country's finest actor , and he proves it here . \n",
            "however , spielberg almost destroys his own masterpiece . \n",
            "with a chance to make it the one of the greatest films of all time , spielberg creates 10 minutes of purely worthless film . \n",
            "the sequence involving army chief-of-stafff george marshall and mrs . ryan is decent , but doesn't hold up to the rest of the film , relying on wartime cliches to power it . \n",
            "but that is forgivable . \n",
            "what isn't is the bookends of the film , the cemetary sequences . \n",
            "the first one is quite good , a decent introduction into the lives of these men . \n",
            "the last sequence is atrocious . \n",
            "the forced emotion , accompanied by a ridiculous piece of music , is simply horrible compared to the rest of the magical film . \n",
            "these flaws are what downgrade \" ryan \" from the greatest film of our era , to the greatest war film of our era . \n",
            "spielberg should have trusted his own material , and he should have trusted hanks to deliver the most chilling line of the movie , to end his masterpiece right there . \n",
            "the use of the flag , though patriotic , is in contrast to the movie's theme . \n",
            "the power of the bulk of the film , however , is astonishing . \n",
            "spielberg has truly made a wondrous work of art , that persists even after first viewing of the film , is extraordinary . \n",
            "this is the film of the year . \n",
            "\n"
          ],
          "name": "stdout"
        }
      ]
    }
  ]
}