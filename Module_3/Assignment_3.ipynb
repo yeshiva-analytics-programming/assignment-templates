{
 "cells": [
  {
   "cell_type": "markdown",
   "metadata": {},
   "source": [
    "# Assignment 3: Control Flow and Functions\n",
    "\n",
    "January 1, 2019\n",
    "\n",
    "**Jane Programmer**\n",
    "\n",
    "Again, we're not going to show all the code in this template, but instead give you some optional scaffolding and organization that might help.  You don't have to have something that looks just like this!"
   ]
  },
  {
   "cell_type": "markdown",
   "metadata": {},
   "source": [
    "Create a list of all lower case letters and a separate list of the numbers 1-26:"
   ]
  },
  {
   "cell_type": "code",
   "execution_count": 1,
   "metadata": {},
   "outputs": [],
   "source": [
    "import string\n",
    "letters = # Something to do with the string library goes here..."
   ]
  },
  {
   "cell_type": "code",
   "execution_count": 2,
   "metadata": {},
   "outputs": [],
   "source": [
    "letter_num = # Create a list here of the ordinal numbers"
   ]
  },
  {
   "cell_type": "markdown",
   "metadata": {},
   "source": [
    "Print both lists and show their types.  When you print the types, print the types in a sentence where you concatenate some words and the output of `type()`.  The output could look something like \"letters is of type <class 'list'\\>\"."
   ]
  },
  {
   "cell_type": "code",
   "execution_count": 3,
   "metadata": {},
   "outputs": [
    {
     "name": "stdout",
     "output_type": "stream",
     "text": [
      "['a', 'b', 'c', 'd', 'e', 'f', 'g', 'h', 'i', 'j', 'k', 'l', 'm', 'n', 'o', 'p', 'q', 'r', 's', 't', 'u', 'v', 'w', 'x', 'y', 'z']\n",
      "\n",
      "\n",
      "[1, 2, 3, 4, 5, 6, 7, 8, 9, 10, 11, 12, 13, 14, 15, 16, 17, 18, 19, 20, 21, 22, 23, 24, 25, 26]\n",
      "\n",
      "\n",
      "letters is of type <class 'list'>\n",
      "\n",
      "\n",
      "letter_num is of type <class 'list'>\n"
     ]
    }
   ],
   "source": [
    "print(letters)\n",
    "print(\"\\n\")\n",
    "print(letter_num)\n",
    "print(\"\\n\")\n",
    "print(\"letters is of type \" + str( # something goes here .... ))\n",
    "print(\"\\n\")\n",
    "print(\"letter_num is of type \" + str(# something goes here .... ))"
   ]
  },
  {
   "cell_type": "markdown",
   "metadata": {},
   "source": [
    "Using zip, create a list of tuples, where each tuple consists of the lower case letter and its numerical equivalent."
   ]
  },
  {
   "cell_type": "code",
   "execution_count": 4,
   "metadata": {},
   "outputs": [],
   "source": [
    "letter_tuples = # how can you combine two lists using zip?"
   ]
  },
  {
   "cell_type": "markdown",
   "metadata": {},
   "source": [
    "Print the list you just created and print the type of the list and the type of the first element in that list, again, printing the type in a sentence you compose by concatenating a string with the output of `type()`."
   ]
  },
  {
   "cell_type": "code",
   "execution_count": 5,
   "metadata": {},
   "outputs": [
    {
     "name": "stdout",
     "output_type": "stream",
     "text": [
      "[('a', 1), ('b', 2), ('c', 3), ('d', 4), ('e', 5), ('f', 6), ('g', 7), ('h', 8), ('i', 9), ('j', 10), ('k', 11), ('l', 12), ('m', 13), ('n', 14), ('o', 15), ('p', 16), ('q', 17), ('r', 18), ('s', 19), ('t', 20), ('u', 21), ('v', 22), ('w', 23), ('x', 24), ('y', 25), ('z', 26)]\n",
      "\n",
      "letter_tuples is of type <class 'list'>\n",
      "\n",
      "the first element of letter_tuples is of type <class 'tuple'>\n"
     ]
    }
   ],
   "source": [
    "print(letter_tuples)\n",
    "print(\"\\nletter_tuples is of type \" + # something goes here... )\n",
    "print(\"\\nthe first element of letter_tuples is of type \" + # something goes here... )"
   ]
  },
  {
   "cell_type": "markdown",
   "metadata": {},
   "source": [
    "Using list comprehension, create a list of letters for which have ordinal values (1-26) that are multiples of 4:"
   ]
  },
  {
   "cell_type": "code",
   "execution_count": 6,
   "metadata": {},
   "outputs": [],
   "source": [
    "divisible_by_four = [# something ... # if number %4 == 0]"
   ]
  },
  {
   "cell_type": "code",
   "execution_count": 7,
   "metadata": {},
   "outputs": [
    {
     "data": {
      "text/plain": [
       "['d', 'h', 'l', 'p', 't', 'x']"
      ]
     },
     "execution_count": 7,
     "metadata": {},
     "output_type": "execute_result"
    }
   ],
   "source": [
    "divisible_by_four"
   ]
  },
  {
   "cell_type": "markdown",
   "metadata": {},
   "source": [
    "Using a loop, show the unicode value for each letter, using `ord()`.  Here, we show two ways to do that:"
   ]
  },
  {
   "cell_type": "code",
   "execution_count": 8,
   "metadata": {},
   "outputs": [
    {
     "name": "stdout",
     "output_type": "stream",
     "text": [
      "97\n",
      "98\n",
      "99\n",
      "100\n",
      "101\n",
      "102\n",
      "103\n",
      "104\n",
      "105\n",
      "106\n",
      "107\n",
      "108\n",
      "109\n",
      "110\n",
      "111\n",
      "112\n",
      "113\n",
      "114\n",
      "115\n",
      "116\n",
      "117\n",
      "118\n",
      "119\n",
      "120\n",
      "121\n",
      "122\n"
     ]
    }
   ],
   "source": [
    "for k,v in letter_tuples:\n",
    "    # some code here"
   ]
  },
  {
   "cell_type": "code",
   "execution_count": 9,
   "metadata": {},
   "outputs": [
    {
     "name": "stdout",
     "output_type": "stream",
     "text": [
      "97\n",
      "98\n",
      "99\n",
      "100\n",
      "101\n",
      "102\n",
      "103\n",
      "104\n",
      "105\n",
      "106\n",
      "107\n",
      "108\n",
      "109\n",
      "110\n",
      "111\n",
      "112\n",
      "113\n",
      "114\n",
      "115\n",
      "116\n",
      "117\n",
      "118\n",
      "119\n",
      "120\n",
      "121\n",
      "122\n"
     ]
    }
   ],
   "source": [
    "for letter in letters:\n",
    "    # some code here"
   ]
  },
  {
   "cell_type": "markdown",
   "metadata": {},
   "source": [
    "For each letter of the alphabet, come up with a unique integer that is some calculated combination of the unicode value and/or the ordinal position (1-26) of the letter in the alphabet.  Make sure the code for each letter is unique, so that no code number repeats for more than one letter!"
   ]
  },
  {
   "cell_type": "code",
   "execution_count": 10,
   "metadata": {},
   "outputs": [],
   "source": [
    "codes = []\n",
    "for k,v in letter_tuples:\n",
    "    codes.append # something"
   ]
  },
  {
   "cell_type": "markdown",
   "metadata": {},
   "source": [
    "Since sets don't include duplicates, looking at the size of a set can tell you how many unique values there are."
   ]
  },
  {
   "cell_type": "code",
   "execution_count": 11,
   "metadata": {},
   "outputs": [
    {
     "data": {
      "text/plain": [
       "26"
      ]
     },
     "execution_count": 11,
     "metadata": {},
     "output_type": "execute_result"
    }
   ],
   "source": [
    "len(set(codes))"
   ]
  },
  {
   "cell_type": "markdown",
   "metadata": {},
   "source": [
    "Create a dictionary that gives the code value you created for each letter of the alphabet.  You could, for example, create this dictionary from a zip of letters and codes."
   ]
  },
  {
   "cell_type": "code",
   "execution_count": 12,
   "metadata": {},
   "outputs": [],
   "source": [
    "letter_code = dict(# something)"
   ]
  },
  {
   "cell_type": "code",
   "execution_count": 13,
   "metadata": {},
   "outputs": [
    {
     "data": {
      "text/plain": [
       "{'a': 98,\n",
       " 'b': 100,\n",
       " 'c': 102,\n",
       " 'd': 104,\n",
       " 'e': 106,\n",
       " 'f': 108,\n",
       " 'g': 110,\n",
       " 'h': 112,\n",
       " 'i': 114,\n",
       " 'j': 116,\n",
       " 'k': 118,\n",
       " 'l': 120,\n",
       " 'm': 122,\n",
       " 'n': 124,\n",
       " 'o': 126,\n",
       " 'p': 128,\n",
       " 'q': 130,\n",
       " 'r': 132,\n",
       " 's': 134,\n",
       " 't': 136,\n",
       " 'u': 138,\n",
       " 'v': 140,\n",
       " 'w': 142,\n",
       " 'x': 144,\n",
       " 'y': 146,\n",
       " 'z': 148}"
      ]
     },
     "execution_count": 13,
     "metadata": {},
     "output_type": "execute_result"
    }
   ],
   "source": [
    "letter_code"
   ]
  },
  {
   "cell_type": "markdown",
   "metadata": {},
   "source": [
    "Create an encoding function that takes a string of lower case letters and returns a list of integers representing a the code number you gave to each letter.  Exit with a helpful message in case of a non-lowercase letter."
   ]
  },
  {
   "cell_type": "code",
   "execution_count": 14,
   "metadata": {},
   "outputs": [],
   "source": [
    "def encode(string):\n",
    "    code_list = []\n",
    "    for letter in string:\n",
    "        if # something\n",
    "        else # something different\n",
    "    return(code_list)\n",
    "        "
   ]
  },
  {
   "cell_type": "markdown",
   "metadata": {},
   "source": [
    "Try out your function using the word \"hello\"."
   ]
  },
  {
   "cell_type": "code",
   "execution_count": 15,
   "metadata": {},
   "outputs": [
    {
     "data": {
      "text/plain": [
       "[112, 106, 120, 120, 126]"
      ]
     },
     "execution_count": 15,
     "metadata": {},
     "output_type": "execute_result"
    }
   ],
   "source": [
    "encode(\"hello\")"
   ]
  },
  {
   "cell_type": "code",
   "execution_count": 16,
   "metadata": {},
   "outputs": [
    {
     "name": "stdout",
     "output_type": "stream",
     "text": [
      "The character ' ' can't be encoded!\n"
     ]
    }
   ],
   "source": [
    "encode(\"hello there\")"
   ]
  },
  {
   "cell_type": "code",
   "execution_count": null,
   "metadata": {},
   "outputs": [],
   "source": []
  }
 ],
 "metadata": {
  "kernelspec": {
   "display_name": "Python 3",
   "language": "python",
   "name": "python3"
  },
  "language_info": {
   "codemirror_mode": {
    "name": "ipython",
    "version": 3
   },
   "file_extension": ".py",
   "mimetype": "text/x-python",
   "name": "python",
   "nbconvert_exporter": "python",
   "pygments_lexer": "ipython3",
   "version": "3.6.5"
  }
 },
 "nbformat": 4,
 "nbformat_minor": 2
}
