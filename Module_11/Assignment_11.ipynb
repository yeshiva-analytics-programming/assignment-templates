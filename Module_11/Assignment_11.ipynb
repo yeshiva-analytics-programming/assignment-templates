{
 "cells": [
  {
   "cell_type": "markdown",
   "metadata": {
    "colab_type": "text",
    "id": "Rk33QMgziiss"
   },
   "source": [
    "# New York City 311 Data\n",
    "\n",
    "***Important! The output of this notebook has not been included, because it makes it too big for GitHub!  Want to see the output?  Go to https://colab.research.google.com/drive/1gSLCqA-gCMRhaOlZvryMi4i6DBW0BwFj. ***\n",
    "\n",
    "## Overview\n",
    "\n",
    "In the city of New York, citizens with non-emergency complaints (e.g. trash non-collection, rodent infestations) can call 311 to make a Service Request.  These are recorded and shared on New York's open data site at  https://nycopendata.socrata.com/Social-Services/311-Service-Requests-from-2010-to-Present/erm2-nwe9.\n",
    "\n",
    "## High-Level Description\n",
    "\n",
    "The data dates from 2010 to the current day, with data being updated on a daily basis.  At the time of this writing, there are over 20 million rows, each row representing a single service request, and over 40 columns which represent aspects of each service request, such as the street address being referenced, the type of complaint, the agency responsible, the date of the service request, etc.\n",
    "\n",
    "## Bring in Data via pandas\n",
    "\n",
    "I'm only going to bring in only the rows that have 'Pothole' in the `descriptor` field.  I'll set an upper limit of 5 million rows.\n"
   ]
  },
  {
   "cell_type": "code",
   "execution_count": null,
   "metadata": {
    "colab": {
     "base_uri": "https://localhost:8080/",
     "height": 71
    },
    "colab_type": "code",
    "id": "tVgJLeJTizoB",
    "outputId": "213486c5-a498-4163-9d20-94f355994783"
   },
   "outputs": [],
   "source": [
    "import pandas as pd\n",
    "import numpy as np\n",
    "import datetime as dt\n",
    "potholes = pd.read_csv(\"https://data.cityofnewyork.us/resource/fhrw-4uyv.csv?descriptor=Pothole&$limit=5000000\")"
   ]
  },
  {
   "cell_type": "markdown",
   "metadata": {
    "colab_type": "text",
    "id": "ByxGV-WBn3q8"
   },
   "source": [
    "Let's take a quick peek at what the data looks like.  Then we'll use pandas to work with it!"
   ]
  },
  {
   "cell_type": "code",
   "execution_count": null,
   "metadata": {
    "colab": {
     "base_uri": "https://localhost:8080/",
     "height": 394
    },
    "colab_type": "code",
    "id": "icCmBkubkyFi",
    "outputId": "5d6f8e38-1209-4be0-a11e-6e4111dd010e"
   },
   "outputs": [],
   "source": [
    "potholes.head()"
   ]
  },
  {
   "cell_type": "code",
   "execution_count": null,
   "metadata": {
    "colab": {
     "base_uri": "https://localhost:8080/",
     "height": 34
    },
    "colab_type": "code",
    "id": "l3XvVYNLlhJq",
    "outputId": "73c358fd-b512-47ee-ac3c-53e6f5e402ab"
   },
   "outputs": [],
   "source": [
    "potholes.shape"
   ]
  },
  {
   "cell_type": "markdown",
   "metadata": {
    "colab_type": "text",
    "id": "GiR06Ttxllcr"
   },
   "source": [
    "OK, we have around 570 k rows, much less than our 5 million upper limit, but plenty to work with!  Let's do a bit of cleanup.  First, we'll do some date work."
   ]
  },
  {
   "cell_type": "code",
   "execution_count": null,
   "metadata": {
    "colab": {},
    "colab_type": "code",
    "id": "QV_gGuukqLln"
   },
   "outputs": [],
   "source": [
    "for col in ['created_date', 'closed_date', 'due_date', 'resolution_action_updated_date']:\n",
    "    potholes[col] = pd.to_datetime(potholes[col])\n",
    "    potholes.loc[potholes[col] < '2007-01-01', col] = pd.NaT\n",
    "    potholes.loc[potholes[col] > pd.Timestamp(dt.date.today())] = pd.NaT\n",
    "\n",
    "potholes['resolved_date'] = np.where(potholes['closed_date'].notnull(), potholes['closed_date'], potholes['resolution_action_updated_date'])\n",
    "potholes['days_to_close'] = (potholes['resolved_date'].dt.date - potholes['created_date'].dt.date).dt.days\n",
    "\n",
    "\n",
    "# Get names of indexes for which days_to_close < 0\n",
    "indexNames = potholes[potholes['days_to_close'] <0 ].index\n",
    "# Drop them\n",
    "potholes.drop(indexNames , inplace=True)"
   ]
  },
  {
   "cell_type": "markdown",
   "metadata": {
    "colab_type": "text",
    "id": "6wBCXS6017-R"
   },
   "source": [
    "Let's change some of the geographic stuff."
   ]
  },
  {
   "cell_type": "code",
   "execution_count": null,
   "metadata": {
    "colab": {},
    "colab_type": "code",
    "id": "3plBRl9ytSwI"
   },
   "outputs": [],
   "source": [
    "new_lat_long = (potholes['location'].str.extract('.+(\\-\\d{2}\\.*\\d*) (\\d{2}\\.*\\d*).+')).astype(float)\n",
    "potholes.loc[:, 'longitude'] = new_lat_long[0]\n",
    "potholes.loc[:, 'latitude'] = new_lat_long[1]"
   ]
  },
  {
   "cell_type": "markdown",
   "metadata": {
    "colab_type": "text",
    "id": "Q-a9NQBj1_PR"
   },
   "source": [
    "And let's remove \"unspecified\" boroughs and tickets that weren't closed."
   ]
  },
  {
   "cell_type": "code",
   "execution_count": null,
   "metadata": {
    "colab": {},
    "colab_type": "code",
    "id": "pYlzEfww2FbV"
   },
   "outputs": [],
   "source": [
    "indexNames = potholes[potholes['borough'] == 'Unspecified' ].index\n",
    "potholes.drop(indexNames , inplace=True)\n",
    "\n",
    "potholes.drop(potholes[potholes['status'] != \"Closed\"].index, axis=0, inplace=True)"
   ]
  },
  {
   "cell_type": "code",
   "execution_count": null,
   "metadata": {
    "colab": {
     "base_uri": "https://localhost:8080/",
     "height": 547
    },
    "colab_type": "code",
    "id": "6oKn9RBsM3qw",
    "outputId": "fd6989ca-32f2-453a-edf3-217981a8b088"
   },
   "outputs": [],
   "source": [
    "potholes['resolution_description'].unique()"
   ]
  },
  {
   "cell_type": "markdown",
   "metadata": {
    "colab_type": "text",
    "id": "PhJKJs3bMygB"
   },
   "source": [
    "And create better, briefer resolution descriptions."
   ]
  },
  {
   "cell_type": "code",
   "execution_count": null,
   "metadata": {
    "colab": {},
    "colab_type": "code",
    "id": "x-T18UDtM1vf"
   },
   "outputs": [],
   "source": [
    "resolution_map = zip(potholes['resolution_description'].unique(), [\"Repaired\",\n",
    "                                                                  \"Did Not Find\",\n",
    "                                                                  \"Repaired Already\",\n",
    "                                                                  \"Duplicate\",\n",
    "                                                                  \"Referred: Maintenance Unit\",\n",
    "                                                                  \"Repaired: Capital Project\",\n",
    "                                                                  \"No Description\",\n",
    "                                                                  \"Rescheduled: Inaccessible\",\n",
    "                                                                  \"Assigned: Field Crew\",\n",
    "                                                                  \"Referred: Inspections Unit\",\n",
    "                                                                  \"Future Maintenance Will Repair (Incomplete Decription)\",\n",
    "                                                                  \"Status Not Available\",\n",
    "                                                                  \"Future Maintenance Will Repair (Complete Decription)\",\n",
    "                                                                  \"Not in DOT Jurisdiction (Not Specified)\",\n",
    "                                                                  \"Completed or Corrected\",\n",
    "                                                                  \"See Customer Notes\",\n",
    "                                                                  \"Requires 6 Months for Response\",\n",
    "                                                                  \"Not Repaired, was in Compliance\",\n",
    "                                                                  \"Repair to be Scheduled\",\n",
    "                                                                  \"Insufficient Information to Respond\",\n",
    "                                                                  \"Not in DOT Jurisdiction (MTA)\",\n",
    "                                                                  \"Not in DOT Jurisdiction (Parks and Rec)\",\n",
    "                                                                  \"Referred: Barricaded\",\n",
    "                                                                  \"Temporarily Repaired\",\n",
    "                                                                  \"Not in DOT Jurisdiction (Other)\",\n",
    "                                                                  \"Referred: Other DOT\",\n",
    "                                                                  \"In Progress\",\n",
    "                                                                  \"Referred: Dept. Environmental Protection\",\n",
    "                                                                  \"Not in DOT Jurisdiction (State DOT)\"\n",
    "                                                                  ])"
   ]
  },
  {
   "cell_type": "code",
   "execution_count": null,
   "metadata": {
    "colab": {},
    "colab_type": "code",
    "id": "tXpuAy0BlusC"
   },
   "outputs": [],
   "source": [
    "simple_map = zip(potholes['resolution_description'].unique(), [\"Repaired\",\n",
    "                                                              \"Not Repaired\",\n",
    "                                                              \"Repaired\",\n",
    "                                                              \"Duplicate\",\n",
    "                                                              \"Not Repaired\",\n",
    "                                                              \"Repaired\",\n",
    "                                                              \"Unknown\",\n",
    "                                                              \"Not Repaired\",\n",
    "                                                              \"Not Repaired\",\n",
    "                                                              \"Not Repaired\",\n",
    "                                                              \"Not Repaired\",\n",
    "                                                              \"Unknown\",\n",
    "                                                              \"Not Repaired\",\n",
    "                                                              \"Not Repaired\",\n",
    "                                                              \"Repaired\",\n",
    "                                                              \"Unknown\",\n",
    "                                                              \"Not Repaired\",\n",
    "                                                              \"Not Repaired\",\n",
    "                                                              \"Not Repaired\",\n",
    "                                                              \"Not Repaired\",\n",
    "                                                              \"Not Repaired\",\n",
    "                                                              \"Not Repaired\",\n",
    "                                                              \"Not Repaired\",\n",
    "                                                              \"Repaired\",\n",
    "                                                              \"Not Repaired\",\n",
    "                                                              \"Not Repaired\",\n",
    "                                                              \"Repaired\",\n",
    "                                                              \"Not Repaired\",\n",
    "                                                              \"Not Repaired\"\n",
    "                                                                  ])"
   ]
  },
  {
   "cell_type": "code",
   "execution_count": null,
   "metadata": {
    "colab": {},
    "colab_type": "code",
    "id": "5_A34aI9Qxx0"
   },
   "outputs": [],
   "source": [
    "potholes['shorter_resolution_desc'] = potholes['resolution_description'].map(dict(resolution_map))\n",
    "potholes['shortest_resolution_desc'] = potholes['resolution_description'].map(dict(simple_map))"
   ]
  },
  {
   "cell_type": "code",
   "execution_count": null,
   "metadata": {
    "colab": {},
    "colab_type": "code",
    "id": "dhQAVbzmRABe"
   },
   "outputs": [],
   "source": [
    "potholes.drop(potholes[potholes['shorter_resolution_desc'] == \"Duplicate\"].index, axis=0, inplace=True)"
   ]
  },
  {
   "cell_type": "markdown",
   "metadata": {
    "colab_type": "text",
    "id": "ZMp7syqjj2Tl"
   },
   "source": [
    "We're going to use Plotly, specifically, `plotly.express` to visualize some pothole trends... let's bring that  in. "
   ]
  },
  {
   "cell_type": "code",
   "execution_count": null,
   "metadata": {
    "colab": {
     "base_uri": "https://localhost:8080/",
     "height": 255
    },
    "colab_type": "code",
    "id": "8e1fD7mjj9JH",
    "outputId": "a4f0142b-3b82-4e57-b651-bbd4f85cebf9"
   },
   "outputs": [],
   "source": [
    "!pip install plotly.express\n",
    "import plotly.express as px"
   ]
  },
  {
   "cell_type": "code",
   "execution_count": null,
   "metadata": {
    "colab": {
     "base_uri": "https://localhost:8080/",
     "height": 617
    },
    "colab_type": "code",
    "id": "wmyJ-v0rkukc",
    "outputId": "6f0a2f2d-0a3c-41d4-99bc-d342e8fb4b64"
   },
   "outputs": [],
   "source": [
    "fig = px.box(potholes,  x=\"borough\", y=\"days_to_close\")\n",
    "fig.show()"
   ]
  },
  {
   "cell_type": "markdown",
   "metadata": {
    "colab_type": "text",
    "id": "LVVa-KhJsGfL"
   },
   "source": [
    "Well, the presence of extreme outliers makes this hard to understand.  Let's constrain what's shown on the y axis.  Yes, the viewer could do this, but let's make it easier.  "
   ]
  },
  {
   "cell_type": "code",
   "execution_count": null,
   "metadata": {
    "colab": {
     "base_uri": "https://localhost:8080/",
     "height": 617
    },
    "colab_type": "code",
    "id": "TlBh6FYLsFTI",
    "outputId": "944557e2-e48e-4f52-a42f-0c5c02bbbf6e"
   },
   "outputs": [],
   "source": [
    "fig = px.box(potholes,  x=\"borough\", y=\"days_to_close\", \n",
    "             range_y = [0,20],\n",
    "            labels={\"days_to_close\": \"Time to Resolution\", \"borough\": \"Borough\"})\n",
    "fig.show()"
   ]
  },
  {
   "cell_type": "markdown",
   "metadata": {
    "colab_type": "text",
    "id": "C1Nn11Wt4kRi"
   },
   "source": [
    "Let's bin our dates by month, so we can show aggregate data by month!"
   ]
  },
  {
   "cell_type": "code",
   "execution_count": null,
   "metadata": {
    "colab": {
     "base_uri": "https://localhost:8080/",
     "height": 34
    },
    "colab_type": "code",
    "id": "TilAItESC2NP",
    "outputId": "73c9b4f2-1e90-49d7-ef1f-9ad94d1c0b9d"
   },
   "outputs": [],
   "source": [
    "potholes_by_month = potholes.groupby(['borough', pd.Grouper(key='created_date', freq='M')])['days_to_close'].median()\n",
    "type(potholes_by_month)"
   ]
  },
  {
   "cell_type": "code",
   "execution_count": null,
   "metadata": {
    "colab": {
     "base_uri": "https://localhost:8080/",
     "height": 1000
    },
    "colab_type": "code",
    "id": "9_VXz16eDY-U",
    "outputId": "df51a896-2fcf-4de5-dd62-01f245da099f"
   },
   "outputs": [],
   "source": [
    "potholes_by_month = potholes_by_month.reset_index()\n",
    "potholes_by_month"
   ]
  },
  {
   "cell_type": "code",
   "execution_count": null,
   "metadata": {
    "colab": {
     "base_uri": "https://localhost:8080/",
     "height": 617
    },
    "colab_type": "code",
    "id": "wLe1Qbez9eYC",
    "outputId": "f6c2e6b9-fb61-4429-c687-e865e55e8525"
   },
   "outputs": [],
   "source": [
    "fig = px.line(potholes_by_month, x='created_date', y='days_to_close', color='borough')\n",
    "fig.show()"
   ]
  },
  {
   "cell_type": "markdown",
   "metadata": {
    "colab_type": "text",
    "id": "YX3r6_F8BUFK"
   },
   "source": [
    "Interesting!  It looks like there's some uptick in the time it takes to resolve a ticket near the middle of the year.  We might want to take a closer look at that.\n",
    "\n",
    "Now let's take another look at the data, using bokeh.  This time we'll check out resolution types by borough."
   ]
  },
  {
   "cell_type": "code",
   "execution_count": null,
   "metadata": {
    "colab": {
     "base_uri": "https://localhost:8080/",
     "height": 173
    },
    "colab_type": "code",
    "id": "QFFba3J9Eo2w",
    "outputId": "0436198b-6ee4-4503-909f-8e7907675ed9"
   },
   "outputs": [],
   "source": [
    "potholes_resolution_borough = potholes.groupby(['borough', 'shortest_resolution_desc'])['unique_key'].count()\n",
    "potholes_resolution_borough = potholes_resolution_borough.reset_index()\n",
    "potholes_resolution_borough = potholes_resolution_borough.pivot(index='borough', columns='shortest_resolution_desc', values='unique_key').transpose()\n",
    "potholes_resolution_borough\n"
   ]
  },
  {
   "cell_type": "code",
   "execution_count": null,
   "metadata": {
    "colab": {
     "base_uri": "https://localhost:8080/",
     "height": 797
    },
    "colab_type": "code",
    "id": "oAQFVN-gY353",
    "outputId": "dff2813c-4b02-4220-df46-ca1bd172bb15"
   },
   "outputs": [],
   "source": [
    "from bokeh.core.properties import value\n",
    "from bokeh.io import show, output_notebook\n",
    "from bokeh.plotting import figure\n",
    "from bokeh.palettes import viridis\n",
    "from math import pi\n",
    "\n",
    "output_notebook()\n",
    "\n",
    "resolutions = list(potholes_resolution_borough.index)\n",
    "boroughs = list(potholes_resolution_borough.columns)\n",
    "colors = viridis(5)\n",
    "\n",
    "data = potholes_resolution_borough.copy()\n",
    "data['resolution'] = data.index\n",
    "\n",
    "\n",
    "p = figure(x_range=resolutions, plot_height=750, title=\"Resolutions by Borough\",\n",
    "           toolbar_location=None, tools=\"\")\n",
    "\n",
    "\n",
    "\n",
    "p.vbar_stack(boroughs, x='resolution', width=0.9, color=colors, source=data,\n",
    "             legend=[value(x) for x in boroughs])\n",
    "\n",
    "p.y_range.start = 0\n",
    "p.x_range.range_padding = 0.1\n",
    "p.xgrid.grid_line_color = None\n",
    "p.axis.minor_tick_line_color = None\n",
    "p.outline_line_color = None\n",
    "p.legend.location = \"top_left\"\n",
    "p.legend.orientation = \"horizontal\"\n",
    "p.xaxis.major_label_orientation = pi/2\n",
    "\n",
    "show(p)\n",
    "\n"
   ]
  }
 ],
 "metadata": {
  "colab": {
   "collapsed_sections": [],
   "name": "Module 11 Worked Example Instructions.ipynb",
   "provenance": [],
   "version": "0.3.2"
  },
  "kernelspec": {
   "display_name": "Python 3",
   "language": "python",
   "name": "python3"
  },
  "language_info": {
   "codemirror_mode": {
    "name": "ipython",
    "version": 3
   },
   "file_extension": ".py",
   "mimetype": "text/x-python",
   "name": "python",
   "nbconvert_exporter": "python",
   "pygments_lexer": "ipython3",
   "version": "3.7.1"
  }
 },
 "nbformat": 4,
 "nbformat_minor": 1
}
