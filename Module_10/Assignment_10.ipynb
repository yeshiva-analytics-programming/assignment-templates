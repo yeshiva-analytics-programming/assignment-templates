{
  "nbformat": 4,
  "nbformat_minor": 0,
  "metadata": {
    "colab": {
      "name": "Untitled4.ipynb",
      "version": "0.3.2",
      "provenance": []
    },
    "kernelspec": {
      "name": "python3",
      "display_name": "Python 3"
    }
  },
  "cells": [
    {
      "cell_type": "markdown",
      "metadata": {
        "id": "qwxa-t6gxUTS",
        "colab_type": "text"
      },
      "source": [
        "# Data Aggregation\n",
        "\n",
        "First, we'll ingest some data from NYC 311 data into a pandas DataFrame:"
      ]
    },
    {
      "cell_type": "code",
      "metadata": {
        "id": "QC-3O1YIxTbC",
        "colab_type": "code",
        "colab": {
          "base_uri": "https://localhost:8080/",
          "height": 71
        },
        "outputId": "c00a876b-413a-4ad7-cdc6-9dde8c727fdc"
      },
      "source": [
        "import pandas as pd\n",
        "nyc_311_100k = pd.read_csv(\"https://data.cityofnewyork.us/resource/fhrw-4uyv.csv?$limit=100000\")"
      ],
      "execution_count": 1,
      "outputs": [
        {
          "output_type": "stream",
          "text": [
            "/usr/local/lib/python3.6/dist-packages/IPython/core/interactiveshell.py:2718: DtypeWarning: Columns (8,17,31,32,33,34,35,36,37) have mixed types. Specify dtype option on import or set low_memory=False.\n",
            "  interactivity=interactivity, compiler=compiler, result=result)\n"
          ],
          "name": "stderr"
        }
      ]
    },
    {
      "cell_type": "markdown",
      "metadata": {
        "id": "xoJ6zMWMxuFM",
        "colab_type": "text"
      },
      "source": [
        "Let's take a look at the number of unique values for each variable in our dataset:"
      ]
    },
    {
      "cell_type": "code",
      "metadata": {
        "id": "3nk2ezhPxy3f",
        "colab_type": "code",
        "colab": {
          "base_uri": "https://localhost:8080/",
          "height": 884
        },
        "outputId": "923774df-25b8-4e66-cde7-5a7ef0b5f042"
      },
      "source": [
        "nyc_311_100k.nunique()"
      ],
      "execution_count": 2,
      "outputs": [
        {
          "output_type": "execute_result",
          "data": {
            "text/plain": [
              "unique_key                        100000\n",
              "created_date                       44279\n",
              "closed_date                        28932\n",
              "agency                                14\n",
              "agency_name                           95\n",
              "complaint_type                       130\n",
              "descriptor                           634\n",
              "location_type                         67\n",
              "incident_zip                         368\n",
              "incident_address                   38449\n",
              "street_name                         5056\n",
              "cross_street_1                      6671\n",
              "cross_street_2                      6744\n",
              "intersection_street_1               3264\n",
              "intersection_street_2               3394\n",
              "address_type                           4\n",
              "city                                  88\n",
              "landmark                              24\n",
              "facility_type                          4\n",
              "status                                 6\n",
              "due_date                           23660\n",
              "resolution_description               389\n",
              "resolution_action_updated_date      8674\n",
              "community_board                       75\n",
              "bbl                                34361\n",
              "borough                                6\n",
              "x_coordinate_state_plane           35617\n",
              "y_coordinate_state_plane           38752\n",
              "open_data_channel_type                 4\n",
              "park_facility_name                   158\n",
              "park_borough                           6\n",
              "vehicle_type                           3\n",
              "taxi_company_borough                   5\n",
              "taxi_pick_up_location                  7\n",
              "bridge_highway_name                   30\n",
              "bridge_highway_direction              31\n",
              "road_ramp                              2\n",
              "bridge_highway_segment               121\n",
              "latitude                           47985\n",
              "longitude                          47985\n",
              "location_city                          0\n",
              "location                           47985\n",
              "location_address                       0\n",
              "location_zip                           0\n",
              "location_state                         0\n",
              ":@computed_region_efsh_h5xi          207\n",
              ":@computed_region_f5dn_yrer           71\n",
              ":@computed_region_yeji_bk3q            5\n",
              ":@computed_region_92fq_4b7q           51\n",
              ":@computed_region_sbqj_enih           77\n",
              "dtype: int64"
            ]
          },
          "metadata": {
            "tags": []
          },
          "execution_count": 2
        }
      ]
    },
    {
      "cell_type": "markdown",
      "metadata": {
        "id": "9ur7XZ-9yDvk",
        "colab_type": "text"
      },
      "source": [
        "Interestingly, we have six kinds of statuses and six boroughs (five boroughs + \"Unspecified\").  It might be nice to know what the frequency of statuses are for each borough."
      ]
    },
    {
      "cell_type": "code",
      "metadata": {
        "id": "OCbrpBO9zF3V",
        "colab_type": "code",
        "colab": {
          "base_uri": "https://localhost:8080/",
          "height": 476
        },
        "outputId": "a50b49d8-3fdf-40ae-f85e-4eb550503362"
      },
      "source": [
        "status_counts = nyc_311_100k.groupby(['borough', 'status']).size()\n",
        "status_counts"
      ],
      "execution_count": 6,
      "outputs": [
        {
          "output_type": "execute_result",
          "data": {
            "text/plain": [
              "borough        status     \n",
              "BRONX          Assigned         118\n",
              "               Closed          6478\n",
              "               Open              55\n",
              "               Pending          710\n",
              "               Started            1\n",
              "BROOKLYN       Assigned         101\n",
              "               Closed         14261\n",
              "               Open              42\n",
              "               Pending          738\n",
              "               Started            3\n",
              "MANHATTAN      Assigned         131\n",
              "               Closed         10491\n",
              "               Open              37\n",
              "               Pending          332\n",
              "QUEENS         Assigned         242\n",
              "               Closed         14268\n",
              "               Open              79\n",
              "               Pending          624\n",
              "               Unspecified        2\n",
              "STATEN ISLAND  Assigned          27\n",
              "               Closed          3541\n",
              "               Open              75\n",
              "               Pending          202\n",
              "Unspecified    Closed         47405\n",
              "               Open              37\n",
              "dtype: int64"
            ]
          },
          "metadata": {
            "tags": []
          },
          "execution_count": 6
        }
      ]
    },
    {
      "cell_type": "markdown",
      "metadata": {
        "id": "-Xm1Ry8ozglY",
        "colab_type": "text"
      },
      "source": [
        "That's great, but it doesn't give us percentages.  How can we solve this?"
      ]
    },
    {
      "cell_type": "code",
      "metadata": {
        "id": "NIOs3zWTzkHW",
        "colab_type": "code",
        "colab": {
          "base_uri": "https://localhost:8080/",
          "height": 476
        },
        "outputId": "39d93868-7609-40a5-d709-6d6baa0c70c6"
      },
      "source": [
        "status_pcts = status_counts.groupby(level=0).apply(lambda x: 100 * x / float(x.sum()))\n",
        "status_pcts"
      ],
      "execution_count": 7,
      "outputs": [
        {
          "output_type": "execute_result",
          "data": {
            "text/plain": [
              "borough        status     \n",
              "BRONX          Assigned        1.602825\n",
              "               Closed         87.992393\n",
              "               Open            0.747080\n",
              "               Pending         9.644118\n",
              "               Started         0.013583\n",
              "BROOKLYN       Assigned        0.666887\n",
              "               Closed         94.163090\n",
              "               Open            0.277319\n",
              "               Pending         4.872895\n",
              "               Started         0.019809\n",
              "MANHATTAN      Assigned        1.191884\n",
              "               Closed         95.450823\n",
              "               Open            0.336639\n",
              "               Pending         3.020653\n",
              "QUEENS         Assigned        1.590536\n",
              "               Closed         93.775879\n",
              "               Open            0.519224\n",
              "               Pending         4.101216\n",
              "               Unspecified     0.013145\n",
              "STATEN ISLAND  Assigned        0.702211\n",
              "               Closed         92.093628\n",
              "               Open            1.950585\n",
              "               Pending         5.253576\n",
              "Unspecified    Closed         99.922010\n",
              "               Open            0.077990\n",
              "dtype: float64"
            ]
          },
          "metadata": {
            "tags": []
          },
          "execution_count": 7
        }
      ]
    }
  ]
}