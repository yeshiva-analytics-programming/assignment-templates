{
 "cells": [
  {
   "cell_type": "markdown",
   "metadata": {},
   "source": [
    "# Assignment 1: About Me\n",
    "\n",
    "January 1, 2019\n",
    "\n",
    "**Jane Programmer**"
   ]
  },
  {
   "cell_type": "markdown",
   "metadata": {},
   "source": [
    "In this short script I am going to:\n",
    "\n",
    "* show you how to import python packages\n",
    "* demonstrate some math functions\n",
    "* create a dictionary"
   ]
  },
  {
   "cell_type": "markdown",
   "metadata": {},
   "source": [
    "An important step in every Python project is to *load the functionality we need*.  Here, I'm going to import `antigravity`:"
   ]
  },
  {
   "cell_type": "code",
   "execution_count": 1,
   "metadata": {},
   "outputs": [],
   "source": [
    "import antigravity"
   ]
  },
  {
   "cell_type": "markdown",
   "metadata": {},
   "source": [
    "We can also do simple *math* in Python:"
   ]
  },
  {
   "cell_type": "code",
   "execution_count": 2,
   "metadata": {},
   "outputs": [
    {
     "data": {
      "text/plain": [
       "48"
      ]
     },
     "execution_count": 2,
     "metadata": {},
     "output_type": "execute_result"
    }
   ],
   "source": [
    "my_num = 8\n",
    "6 * my_num"
   ]
  },
  {
   "cell_type": "markdown",
   "metadata": {},
   "source": [
    "There are various data structures in Python that can be useful.  A dictionary is a way to track keys and values in one place.  Here, I'm going to construct a dictionary, or *dict*, that tells some of my favorite things:"
   ]
  },
  {
   "cell_type": "code",
   "execution_count": 3,
   "metadata": {},
   "outputs": [],
   "source": [
    "favorite_things = {}\n",
    "favorite_things[\"weather\"] = \"Raindrops on roses\"\n",
    "favorite_things[\"pet\"] = \"Whiskers on kittens\"\n",
    "favorite_things[\"kitchen appliance\"] = \"Bright copper kettles\"\n",
    "favorite_things[\"clothing\"] = \"Warm woolen mittens\"\n",
    "favorite_things[\"gift\"] = \"Brown paper packages tied up in strings\""
   ]
  },
  {
   "cell_type": "markdown",
   "metadata": {},
   "source": [
    "How can I look at my dict?  I can simply give the name of the dict!"
   ]
  },
  {
   "cell_type": "code",
   "execution_count": 4,
   "metadata": {},
   "outputs": [
    {
     "data": {
      "text/plain": [
       "{'weather': 'Raindrops on roses',\n",
       " 'pet': 'Whiskers on kittens',\n",
       " 'kitchen appliance': 'Bright copper kettles',\n",
       " 'clothing': 'Warm woolen mittens',\n",
       " 'gift': 'Brown paper packages tied up in strings'}"
      ]
     },
     "execution_count": 4,
     "metadata": {},
     "output_type": "execute_result"
    }
   ],
   "source": [
    "favorite_things"
   ]
  }
 ],
 "metadata": {
  "kernelspec": {
   "display_name": "Python 3",
   "language": "python",
   "name": "python3"
  },
  "language_info": {
   "codemirror_mode": {
    "name": "ipython",
    "version": 3
   },
   "file_extension": ".py",
   "mimetype": "text/x-python",
   "name": "python",
   "nbconvert_exporter": "python",
   "pygments_lexer": "ipython3",
   "version": "3.6.5"
  }
 },
 "nbformat": 4,
 "nbformat_minor": 2
}
