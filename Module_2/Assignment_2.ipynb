{
 "cells": [
  {
   "cell_type": "markdown",
   "metadata": {},
   "source": [
    "# Assignment 2: Data Types and Structures\n",
    "\n",
    "January 1, 2019\n",
    "\n",
    "**Jane Programmer**\n",
    "\n",
    "Note: We're not going to give away all the code you need to do here, but we're going to make sections to help you **organize** your code and visualize what a successful submission might look like.  You may choose to do things a bit differently than they're shown here, and that's perfectly okay."
   ]
  },
  {
   "cell_type": "markdown",
   "metadata": {},
   "source": [
    "Create a list of all lower case letters and a separate list of the numbers 1-26:"
   ]
  },
  {
   "cell_type": "code",
   "execution_count": 1,
   "metadata": {},
   "outputs": [],
   "source": [
    "import string\n",
    "letters = # Something to do with the string library goes here..."
   ]
  },
  {
   "cell_type": "code",
   "execution_count": 2,
   "metadata": {},
   "outputs": [],
   "source": [
    "letter_num = # Create a list here of the ordinal numbers"
   ]
  },
  {
   "cell_type": "markdown",
   "metadata": {},
   "source": [
    "Print both lists and show their types.  When you print the types, print the types in a sentence where you concatenate some words and the output of `type()`.  The output could look something like \"letters is of type <class 'list'\\>\"."
   ]
  },
  {
   "cell_type": "code",
   "execution_count": 3,
   "metadata": {},
   "outputs": [
    {
     "name": "stdout",
     "output_type": "stream",
     "text": [
      "['a', 'b', 'c', 'd', 'e', 'f', 'g', 'h', 'i', 'j', 'k', 'l', 'm', 'n', 'o', 'p', 'q', 'r', 's', 't', 'u', 'v', 'w', 'x', 'y', 'z']\n",
      "\n",
      "\n",
      "[1, 2, 3, 4, 5, 6, 7, 8, 9, 10, 11, 12, 13, 14, 15, 16, 17, 18, 19, 20, 21, 22, 23, 24, 25, 26]\n",
      "\n",
      "\n",
      "letters is of type <class 'list'>\n",
      "\n",
      "\n",
      "letter_num is of type <class 'list'>\n"
     ]
    }
   ],
   "source": [
    "print(letters)\n",
    "print(\"\\n\")\n",
    "print(letter_num)\n",
    "print(\"\\n\")\n",
    "print(\"letters is of type \" + str( # something goes here .... ))\n",
    "print(\"\\n\")\n",
    "print(\"letter_num is of type \" + str(# something goes here .... ))"
   ]
  },
  {
   "cell_type": "markdown",
   "metadata": {},
   "source": [
    "Using zip, create a list of tuples, where each tuple consists of the lower case letter and its numerical equivalent."
   ]
  },
  {
   "cell_type": "code",
   "execution_count": 4,
   "metadata": {},
   "outputs": [],
   "source": [
    "letter_tuples = # how can you combine two lists using zip?"
   ]
  },
  {
   "cell_type": "markdown",
   "metadata": {},
   "source": [
    "Print the list you just created and print the type of the list and the type of the first element in that list, again, printing the type in a sentence you compose by concatenating a string with the output of `type()`."
   ]
  },
  {
   "cell_type": "code",
   "execution_count": 5,
   "metadata": {},
   "outputs": [
    {
     "name": "stdout",
     "output_type": "stream",
     "text": [
      "[('a', 1), ('b', 2), ('c', 3), ('d', 4), ('e', 5), ('f', 6), ('g', 7), ('h', 8), ('i', 9), ('j', 10), ('k', 11), ('l', 12), ('m', 13), ('n', 14), ('o', 15), ('p', 16), ('q', 17), ('r', 18), ('s', 19), ('t', 20), ('u', 21), ('v', 22), ('w', 23), ('x', 24), ('y', 25), ('z', 26)]\n",
      "\n",
      "letter_tuples is of type <class 'list'>\n",
      "\n",
      "the first element of letter_tuples is of type <class 'tuple'>\n"
     ]
    }
   ],
   "source": [
    "print(letter_tuples)\n",
    "print(\"\\nletter_tuples is of type \" + # something goes here... )\n",
    "print(\"\\nthe first element of letter_tuples is of type \" + # something goes here... )"
   ]
  },
  {
   "cell_type": "markdown",
   "metadata": {},
   "source": [
    "Using list comprehension, create a list of letters which have ordinal values (1-26) that are multiples of 4:"
   ]
  },
  {
   "cell_type": "code",
   "execution_count": 6,
   "metadata": {},
   "outputs": [],
   "source": [
    "divisible_by_four = [# something ... # if number %4 == 0]"
   ]
  },
  {
   "cell_type": "code",
   "execution_count": 7,
   "metadata": {},
   "outputs": [
    {
     "data": {
      "text/plain": [
       "['d', 'h', 'l', 'p', 't', 'x']"
      ]
     },
     "execution_count": 7,
     "metadata": {},
     "output_type": "execute_result"
    }
   ],
   "source": [
    "divisible_by_four"
   ]
  }
 ],
 "metadata": {
  "kernelspec": {
   "display_name": "Python 3",
   "language": "python",
   "name": "python3"
  },
  "language_info": {
   "codemirror_mode": {
    "name": "ipython",
    "version": 3
   },
   "file_extension": ".py",
   "mimetype": "text/x-python",
   "name": "python",
   "nbconvert_exporter": "python",
   "pygments_lexer": "ipython3",
   "version": "3.6.5"
  }
 },
 "nbformat": 4,
 "nbformat_minor": 2
}
