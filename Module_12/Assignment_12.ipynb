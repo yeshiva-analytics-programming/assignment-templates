{
  "nbformat": 4,
  "nbformat_minor": 0,
  "metadata": {
    "colab": {
      "name": "Module 12 Worked Example Instructions.ipynb",
      "version": "0.3.2",
      "provenance": [],
      "collapsed_sections": []
    },
    "kernelspec": {
      "name": "python3",
      "display_name": "Python 3"
    }
  },
  "cells": [
    {
      "cell_type": "markdown",
      "metadata": {
        "id": "Rk33QMgziiss",
        "colab_type": "text"
      },
      "source": [
        "# New York City 311 Data\n",
        "\n",
        "## Overview\n",
        "\n",
        "In the city of New York, citizens with non-emergency complaints (e.g. trash non-collection, rodent infestations) can call 311 to make a Service Request.  These are recorded and shared on New York's open data site at  https://nycopendata.socrata.com/Social-Services/311-Service-Requests-from-2010-to-Present/erm2-nwe9.\n",
        "\n",
        "## High-Level Description\n",
        "\n",
        "The data dates from 2010 to the current day, with data being updated on a daily basis.  At the time of this writing, there are over 20 million rows, each row representing a single service request, and over 40 columns which represent aspects of each service request, such as the street address being referenced, the type of complaint, the agency responsible, the date of the service request, etc.\n",
        "\n",
        "## Bring in Data via pandas\n",
        "\n",
        "I'm only going to bring in only the rows that have 'Pothole' in the `descriptor` field.  I'll set an upper limit of 5 million rows.\n"
      ]
    },
    {
      "cell_type": "code",
      "metadata": {
        "id": "tVgJLeJTizoB",
        "colab_type": "code",
        "outputId": "e20fb1da-29bd-4e76-a077-1b71b36145b5",
        "colab": {
          "base_uri": "https://localhost:8080/",
          "height": 51
        }
      },
      "source": [
        "import pandas as pd\n",
        "import numpy as np\n",
        "import datetime as dt\n",
        "potholes = pd.read_csv(\"https://data.cityofnewyork.us/resource/fhrw-4uyv.csv?descriptor=Pothole&$limit=5000000\")"
      ],
      "execution_count": 1,
      "outputs": [
        {
          "output_type": "stream",
          "text": [
            "/usr/local/lib/python3.6/dist-packages/IPython/core/interactiveshell.py:2718: DtypeWarning: Columns (17) have mixed types. Specify dtype option on import or set low_memory=False.\n",
            "  interactivity=interactivity, compiler=compiler, result=result)\n"
          ],
          "name": "stderr"
        }
      ]
    },
    {
      "cell_type": "markdown",
      "metadata": {
        "id": "ByxGV-WBn3q8",
        "colab_type": "text"
      },
      "source": [
        "Let's take a quick peek at what the data looks like.  Then we'll use pandas to work with it!"
      ]
    },
    {
      "cell_type": "code",
      "metadata": {
        "id": "icCmBkubkyFi",
        "colab_type": "code",
        "outputId": "0175eaa0-0404-40dd-8912-b860e6a4dc97",
        "colab": {
          "base_uri": "https://localhost:8080/",
          "height": 394
        }
      },
      "source": [
        "potholes.head()"
      ],
      "execution_count": 2,
      "outputs": [
        {
          "output_type": "execute_result",
          "data": {
            "text/html": [
              "<div>\n",
              "<style scoped>\n",
              "    .dataframe tbody tr th:only-of-type {\n",
              "        vertical-align: middle;\n",
              "    }\n",
              "\n",
              "    .dataframe tbody tr th {\n",
              "        vertical-align: top;\n",
              "    }\n",
              "\n",
              "    .dataframe thead th {\n",
              "        text-align: right;\n",
              "    }\n",
              "</style>\n",
              "<table border=\"1\" class=\"dataframe\">\n",
              "  <thead>\n",
              "    <tr style=\"text-align: right;\">\n",
              "      <th></th>\n",
              "      <th>unique_key</th>\n",
              "      <th>created_date</th>\n",
              "      <th>closed_date</th>\n",
              "      <th>agency</th>\n",
              "      <th>agency_name</th>\n",
              "      <th>complaint_type</th>\n",
              "      <th>descriptor</th>\n",
              "      <th>location_type</th>\n",
              "      <th>incident_zip</th>\n",
              "      <th>incident_address</th>\n",
              "      <th>street_name</th>\n",
              "      <th>cross_street_1</th>\n",
              "      <th>cross_street_2</th>\n",
              "      <th>intersection_street_1</th>\n",
              "      <th>intersection_street_2</th>\n",
              "      <th>address_type</th>\n",
              "      <th>city</th>\n",
              "      <th>landmark</th>\n",
              "      <th>facility_type</th>\n",
              "      <th>status</th>\n",
              "      <th>due_date</th>\n",
              "      <th>resolution_description</th>\n",
              "      <th>resolution_action_updated_date</th>\n",
              "      <th>community_board</th>\n",
              "      <th>bbl</th>\n",
              "      <th>borough</th>\n",
              "      <th>x_coordinate_state_plane</th>\n",
              "      <th>y_coordinate_state_plane</th>\n",
              "      <th>open_data_channel_type</th>\n",
              "      <th>park_facility_name</th>\n",
              "      <th>park_borough</th>\n",
              "      <th>vehicle_type</th>\n",
              "      <th>taxi_company_borough</th>\n",
              "      <th>taxi_pick_up_location</th>\n",
              "      <th>bridge_highway_name</th>\n",
              "      <th>bridge_highway_direction</th>\n",
              "      <th>road_ramp</th>\n",
              "      <th>bridge_highway_segment</th>\n",
              "      <th>latitude</th>\n",
              "      <th>longitude</th>\n",
              "      <th>location_city</th>\n",
              "      <th>location</th>\n",
              "      <th>location_address</th>\n",
              "      <th>location_zip</th>\n",
              "      <th>location_state</th>\n",
              "    </tr>\n",
              "  </thead>\n",
              "  <tbody>\n",
              "    <tr>\n",
              "      <th>0</th>\n",
              "      <td>42035216</td>\n",
              "      <td>2019-03-23T15:37:36.000</td>\n",
              "      <td>2019-03-27T07:34:00.000</td>\n",
              "      <td>DOT</td>\n",
              "      <td>Department of Transportation</td>\n",
              "      <td>Street Condition</td>\n",
              "      <td>Pothole</td>\n",
              "      <td>NaN</td>\n",
              "      <td>11355.0</td>\n",
              "      <td>BOOTH MEMORIAL AVENUE</td>\n",
              "      <td>BOOTH MEMORIAL AVENUE</td>\n",
              "      <td>146 STREET</td>\n",
              "      <td>148 STREET</td>\n",
              "      <td>NaN</td>\n",
              "      <td>NaN</td>\n",
              "      <td>BLOCKFACE</td>\n",
              "      <td>Flushing</td>\n",
              "      <td>NaN</td>\n",
              "      <td>NaN</td>\n",
              "      <td>Closed</td>\n",
              "      <td>NaN</td>\n",
              "      <td>The Department of Transportation inspected thi...</td>\n",
              "      <td>2019-03-27T07:34:00.000</td>\n",
              "      <td>07 QUEENS</td>\n",
              "      <td>NaN</td>\n",
              "      <td>QUEENS</td>\n",
              "      <td>1033984.0</td>\n",
              "      <td>210706.0</td>\n",
              "      <td>UNKNOWN</td>\n",
              "      <td>Unspecified</td>\n",
              "      <td>QUEENS</td>\n",
              "      <td>NaN</td>\n",
              "      <td>NaN</td>\n",
              "      <td>NaN</td>\n",
              "      <td>NaN</td>\n",
              "      <td>NaN</td>\n",
              "      <td>NaN</td>\n",
              "      <td>NaN</td>\n",
              "      <td>40.744876</td>\n",
              "      <td>-73.820516</td>\n",
              "      <td>NaN</td>\n",
              "      <td>POINT (-73.820515773594 40.744876037242)</td>\n",
              "      <td>NaN</td>\n",
              "      <td>NaN</td>\n",
              "      <td>NaN</td>\n",
              "    </tr>\n",
              "    <tr>\n",
              "      <th>1</th>\n",
              "      <td>42035218</td>\n",
              "      <td>2019-03-23T17:09:03.000</td>\n",
              "      <td>2019-03-27T10:13:00.000</td>\n",
              "      <td>DOT</td>\n",
              "      <td>Department of Transportation</td>\n",
              "      <td>Street Condition</td>\n",
              "      <td>Pothole</td>\n",
              "      <td>NaN</td>\n",
              "      <td>10314.0</td>\n",
              "      <td>NaN</td>\n",
              "      <td>NaN</td>\n",
              "      <td>NaN</td>\n",
              "      <td>NaN</td>\n",
              "      <td>MANOR ROAD</td>\n",
              "      <td>VICTORY BOULEVARD</td>\n",
              "      <td>INTERSECTION</td>\n",
              "      <td>STATEN ISLAND</td>\n",
              "      <td>NaN</td>\n",
              "      <td>NaN</td>\n",
              "      <td>Closed</td>\n",
              "      <td>NaN</td>\n",
              "      <td>The Department of Transportation inspected thi...</td>\n",
              "      <td>2019-03-27T10:13:00.000</td>\n",
              "      <td>01 STATEN ISLAND</td>\n",
              "      <td>NaN</td>\n",
              "      <td>STATEN ISLAND</td>\n",
              "      <td>950223.0</td>\n",
              "      <td>162661.0</td>\n",
              "      <td>UNKNOWN</td>\n",
              "      <td>Unspecified</td>\n",
              "      <td>STATEN ISLAND</td>\n",
              "      <td>NaN</td>\n",
              "      <td>NaN</td>\n",
              "      <td>NaN</td>\n",
              "      <td>NaN</td>\n",
              "      <td>NaN</td>\n",
              "      <td>NaN</td>\n",
              "      <td>NaN</td>\n",
              "      <td>40.613078</td>\n",
              "      <td>-74.122557</td>\n",
              "      <td>NaN</td>\n",
              "      <td>POINT (-74.122556992381 40.613077936948)</td>\n",
              "      <td>NaN</td>\n",
              "      <td>NaN</td>\n",
              "      <td>NaN</td>\n",
              "    </tr>\n",
              "    <tr>\n",
              "      <th>2</th>\n",
              "      <td>42036611</td>\n",
              "      <td>2019-03-23T19:04:12.000</td>\n",
              "      <td>NaN</td>\n",
              "      <td>DOT</td>\n",
              "      <td>Department of Transportation</td>\n",
              "      <td>Street Condition</td>\n",
              "      <td>Pothole</td>\n",
              "      <td>NaN</td>\n",
              "      <td>11377.0</td>\n",
              "      <td>NaN</td>\n",
              "      <td>NaN</td>\n",
              "      <td>NaN</td>\n",
              "      <td>NaN</td>\n",
              "      <td>BQE EB ENTRANCE QUEENS BLVD WB</td>\n",
              "      <td>BROOKLYN QUEENS EXPRESSWAY EN NB</td>\n",
              "      <td>INTERSECTION</td>\n",
              "      <td>Woodside</td>\n",
              "      <td>NaN</td>\n",
              "      <td>NaN</td>\n",
              "      <td>Pending</td>\n",
              "      <td>NaN</td>\n",
              "      <td>The Department of Transportation inspected thi...</td>\n",
              "      <td>2019-03-27T07:02:00.000</td>\n",
              "      <td>02 QUEENS</td>\n",
              "      <td>NaN</td>\n",
              "      <td>QUEENS</td>\n",
              "      <td>1012316.0</td>\n",
              "      <td>209017.0</td>\n",
              "      <td>UNKNOWN</td>\n",
              "      <td>Unspecified</td>\n",
              "      <td>QUEENS</td>\n",
              "      <td>NaN</td>\n",
              "      <td>NaN</td>\n",
              "      <td>NaN</td>\n",
              "      <td>NaN</td>\n",
              "      <td>NaN</td>\n",
              "      <td>NaN</td>\n",
              "      <td>NaN</td>\n",
              "      <td>40.740335</td>\n",
              "      <td>-73.898720</td>\n",
              "      <td>NaN</td>\n",
              "      <td>POINT (-73.898720018464 40.740335470005)</td>\n",
              "      <td>NaN</td>\n",
              "      <td>NaN</td>\n",
              "      <td>NaN</td>\n",
              "    </tr>\n",
              "    <tr>\n",
              "      <th>3</th>\n",
              "      <td>42036612</td>\n",
              "      <td>2019-03-23T09:25:59.000</td>\n",
              "      <td>2019-03-27T13:20:00.000</td>\n",
              "      <td>DOT</td>\n",
              "      <td>Department of Transportation</td>\n",
              "      <td>Street Condition</td>\n",
              "      <td>Pothole</td>\n",
              "      <td>NaN</td>\n",
              "      <td>10314.0</td>\n",
              "      <td>NaN</td>\n",
              "      <td>NaN</td>\n",
              "      <td>NaN</td>\n",
              "      <td>NaN</td>\n",
              "      <td>DELMORE STREET</td>\n",
              "      <td>LIVERMORE AVENUE</td>\n",
              "      <td>INTERSECTION</td>\n",
              "      <td>STATEN ISLAND</td>\n",
              "      <td>NaN</td>\n",
              "      <td>NaN</td>\n",
              "      <td>Closed</td>\n",
              "      <td>NaN</td>\n",
              "      <td>The Department of Transportation inspected thi...</td>\n",
              "      <td>2019-03-27T13:20:00.000</td>\n",
              "      <td>01 STATEN ISLAND</td>\n",
              "      <td>NaN</td>\n",
              "      <td>STATEN ISLAND</td>\n",
              "      <td>945579.0</td>\n",
              "      <td>163320.0</td>\n",
              "      <td>UNKNOWN</td>\n",
              "      <td>Unspecified</td>\n",
              "      <td>STATEN ISLAND</td>\n",
              "      <td>NaN</td>\n",
              "      <td>NaN</td>\n",
              "      <td>NaN</td>\n",
              "      <td>NaN</td>\n",
              "      <td>NaN</td>\n",
              "      <td>NaN</td>\n",
              "      <td>NaN</td>\n",
              "      <td>40.614868</td>\n",
              "      <td>-74.139287</td>\n",
              "      <td>NaN</td>\n",
              "      <td>POINT (-74.139287300499 40.614867702584)</td>\n",
              "      <td>NaN</td>\n",
              "      <td>NaN</td>\n",
              "      <td>NaN</td>\n",
              "    </tr>\n",
              "    <tr>\n",
              "      <th>4</th>\n",
              "      <td>42036613</td>\n",
              "      <td>2019-03-23T13:40:15.000</td>\n",
              "      <td>2019-03-28T09:44:00.000</td>\n",
              "      <td>DOT</td>\n",
              "      <td>Department of Transportation</td>\n",
              "      <td>Street Condition</td>\n",
              "      <td>Pothole</td>\n",
              "      <td>NaN</td>\n",
              "      <td>10475.0</td>\n",
              "      <td>3285 ROMBOUTS AVENUE</td>\n",
              "      <td>ROMBOUTS AVENUE</td>\n",
              "      <td>CARVER LOOP</td>\n",
              "      <td>GIVAN AVENUE</td>\n",
              "      <td>NaN</td>\n",
              "      <td>NaN</td>\n",
              "      <td>ADDRESS</td>\n",
              "      <td>BRONX</td>\n",
              "      <td>NaN</td>\n",
              "      <td>NaN</td>\n",
              "      <td>Closed</td>\n",
              "      <td>NaN</td>\n",
              "      <td>The Department of Transportation inspected thi...</td>\n",
              "      <td>2019-03-28T09:44:00.000</td>\n",
              "      <td>10 BRONX</td>\n",
              "      <td>2.051410e+09</td>\n",
              "      <td>BRONX</td>\n",
              "      <td>1031923.0</td>\n",
              "      <td>259965.0</td>\n",
              "      <td>UNKNOWN</td>\n",
              "      <td>Unspecified</td>\n",
              "      <td>BRONX</td>\n",
              "      <td>NaN</td>\n",
              "      <td>NaN</td>\n",
              "      <td>NaN</td>\n",
              "      <td>NaN</td>\n",
              "      <td>NaN</td>\n",
              "      <td>NaN</td>\n",
              "      <td>NaN</td>\n",
              "      <td>40.880089</td>\n",
              "      <td>-73.827604</td>\n",
              "      <td>NaN</td>\n",
              "      <td>POINT (-73.827603802742 40.880089328815)</td>\n",
              "      <td>NaN</td>\n",
              "      <td>NaN</td>\n",
              "      <td>NaN</td>\n",
              "    </tr>\n",
              "  </tbody>\n",
              "</table>\n",
              "</div>"
            ],
            "text/plain": [
              "   unique_key             created_date  ... location_zip location_state\n",
              "0    42035216  2019-03-23T15:37:36.000  ...          NaN            NaN\n",
              "1    42035218  2019-03-23T17:09:03.000  ...          NaN            NaN\n",
              "2    42036611  2019-03-23T19:04:12.000  ...          NaN            NaN\n",
              "3    42036612  2019-03-23T09:25:59.000  ...          NaN            NaN\n",
              "4    42036613  2019-03-23T13:40:15.000  ...          NaN            NaN\n",
              "\n",
              "[5 rows x 45 columns]"
            ]
          },
          "metadata": {
            "tags": []
          },
          "execution_count": 2
        }
      ]
    },
    {
      "cell_type": "code",
      "metadata": {
        "id": "l3XvVYNLlhJq",
        "colab_type": "code",
        "outputId": "c7c32d4a-c0be-40b7-d302-cf1371e57282",
        "colab": {
          "base_uri": "https://localhost:8080/",
          "height": 34
        }
      },
      "source": [
        "potholes.shape"
      ],
      "execution_count": 3,
      "outputs": [
        {
          "output_type": "execute_result",
          "data": {
            "text/plain": [
              "(568911, 45)"
            ]
          },
          "metadata": {
            "tags": []
          },
          "execution_count": 3
        }
      ]
    },
    {
      "cell_type": "markdown",
      "metadata": {
        "id": "GiR06Ttxllcr",
        "colab_type": "text"
      },
      "source": [
        "OK, we have around 570 k rows, much less than our 5 million upper limit, but plenty to work with!  Let's do a bit of cleanup.  First, we'll do some date work."
      ]
    },
    {
      "cell_type": "code",
      "metadata": {
        "id": "QV_gGuukqLln",
        "colab_type": "code",
        "colab": {}
      },
      "source": [
        "for col in ['created_date', 'closed_date', 'due_date', 'resolution_action_updated_date']:\n",
        "    potholes[col] = pd.to_datetime(potholes[col])\n",
        "    potholes.loc[potholes[col] < '2007-01-01', col] = pd.NaT\n",
        "    potholes.loc[potholes[col] > pd.Timestamp(dt.date.today())] = pd.NaT\n",
        "\n",
        "potholes['resolved_date'] = np.where(potholes['closed_date'].notnull(), potholes['closed_date'], potholes['resolution_action_updated_date'])\n",
        "potholes['days_to_close'] = (potholes['resolved_date'].dt.date - potholes['created_date'].dt.date).dt.days\n",
        "\n",
        "\n",
        "# Get names of indexes for which days_to_close < 0\n",
        "indexNames = potholes[potholes['days_to_close'] <0 ].index\n",
        "# Drop them\n",
        "potholes.drop(indexNames , inplace=True)"
      ],
      "execution_count": 0,
      "outputs": []
    },
    {
      "cell_type": "markdown",
      "metadata": {
        "id": "6wBCXS6017-R",
        "colab_type": "text"
      },
      "source": [
        "Let's change some of the geographic stuff."
      ]
    },
    {
      "cell_type": "code",
      "metadata": {
        "id": "3plBRl9ytSwI",
        "colab_type": "code",
        "colab": {}
      },
      "source": [
        "new_lat_long = (potholes['location'].str.extract('.+(\\-\\d{2}\\.*\\d*) (\\d{2}\\.*\\d*).+')).astype(float)\n",
        "potholes.loc[:, 'longitude'] = new_lat_long[0]\n",
        "potholes.loc[:, 'latitude'] = new_lat_long[1]"
      ],
      "execution_count": 0,
      "outputs": []
    },
    {
      "cell_type": "markdown",
      "metadata": {
        "id": "Q-a9NQBj1_PR",
        "colab_type": "text"
      },
      "source": [
        "And let's remove \"unspecified\" boroughs and tickets that weren't closed."
      ]
    },
    {
      "cell_type": "code",
      "metadata": {
        "id": "pYlzEfww2FbV",
        "colab_type": "code",
        "colab": {}
      },
      "source": [
        "indexNames = potholes[potholes['borough'] == 'Unspecified' ].index\n",
        "potholes.drop(indexNames , inplace=True)\n",
        "\n",
        "potholes.drop(potholes[potholes['status'] != \"Closed\"].index, axis=0, inplace=True)"
      ],
      "execution_count": 0,
      "outputs": []
    },
    {
      "cell_type": "code",
      "metadata": {
        "id": "6oKn9RBsM3qw",
        "colab_type": "code",
        "outputId": "8a22a74b-d31a-4dc0-81cc-07e1d2f5e3f1",
        "colab": {
          "base_uri": "https://localhost:8080/",
          "height": 547
        }
      },
      "source": [
        "potholes['resolution_description'].unique()"
      ],
      "execution_count": 7,
      "outputs": [
        {
          "output_type": "execute_result",
          "data": {
            "text/plain": [
              "array(['The Department of Transportation inspected this complaint and repaired the problem.',\n",
              "       'The Department of Transportation inspected this complaint and did not find the reported problem.',\n",
              "       'The Department of Transportation inspected this complaint and found that the problem was fixed.',\n",
              "       'The Department of Transportation determined that this complaint is a duplicate of a previously filed complaint. The original complaint is being addressed.',\n",
              "       'The Department of Transportation referred this complaint to the appropriate Maintenance Unit for repair.',\n",
              "       'The Department of Transportation fixed all street defects at this location as part of a Capital Project.',\n",
              "       nan,\n",
              "       'The Department of Transportation inspected this complaint and found that the defect was not accessible. The repair will be rescheduled.',\n",
              "       'The Department of Transportation assigned this complaint to a field crew for inspection and, if warranted, repair.',\n",
              "       'The Department of Transportation referred this complaint to the Inspections Unit for further action.',\n",
              "       'General maintenance and cleaning is on a regular schedule. The next scheduled maintenance and cleani',\n",
              "       'The status of this Service Request is currently not available online. Please call 311 for further assistance. If you are outside of New York City, please call (212) NEW-YORK (212-639-9675).',\n",
              "       'General maintenance and cleaning is on a regular schedule. The next scheduled maintenance and cleaning will correct the condition.',\n",
              "       'The Department of Transportation has determined that this issue is not within its jurisdiction.',\n",
              "       'The Department of Transportation has completed the request or corrected the condition.',\n",
              "       'The condition has been inspected/investigated, see customer notes for more information.',\n",
              "       'The Department of Transportation requires 6 months to respond to this type of complaint.  Please note your Service Request number for future reference.',\n",
              "       'The condition was inspected and it was in compliance with Department of Transportation standards, not hazardous, or a valid permit exists.',\n",
              "       'The Department of Transportation inspected this complaint and will schedule the repair.',\n",
              "       'The request submitted did not have sufficient information for the Department of Transportation to respond.',\n",
              "       'The Department of Transportation has determined that this issue is not within its jurisdiction. It has been referred to the Metropolitan Transportation Authority.',\n",
              "       'The Department of Transportation has determined that this issue is not within its jurisdiction. It has been referred to the Department of Parks and Recreation.',\n",
              "       'The Department of Transportation inspected this complaint and barricaded the area. The issue was referred to another unit for further action.',\n",
              "       'The Department of Transportation inspected the condition and temporary repairs were made to make the area safe. Permanent repairs/restoration will be scheduled as part of a project, seasonal work (April - November), or when work is assigned to a contractor.',\n",
              "       \"The condition was inspected and determined not to be under Department of Transportation's jurisdiction. The Department of Transportation notified the appropriate responsible party of the complaint.\",\n",
              "       'The condition was inspected and determined to be under the jurisdiction of another Department of Transportation unit.  The unit has been notified.',\n",
              "       \"The Department of Transportation's work on this complaint is still in progress.\",\n",
              "       'The Department of Transportation inspected and has requested the Department of Environmental Protection address the issue. The condition will be re-inspected in 60 days.',\n",
              "       \"The condition was inspected and determined not to be under New York City Department of Transportation's jurisdiction. The Department of Transportation notified the New York State Department of Transportation of the complaint.\"],\n",
              "      dtype=object)"
            ]
          },
          "metadata": {
            "tags": []
          },
          "execution_count": 7
        }
      ]
    },
    {
      "cell_type": "markdown",
      "metadata": {
        "id": "PhJKJs3bMygB",
        "colab_type": "text"
      },
      "source": [
        "And create better, briefer resolution descriptions."
      ]
    },
    {
      "cell_type": "code",
      "metadata": {
        "id": "x-T18UDtM1vf",
        "colab_type": "code",
        "colab": {}
      },
      "source": [
        "resolution_map = zip(potholes['resolution_description'].unique(), [\"Repaired\",\n",
        "                                                                  \"Did Not Find\",\n",
        "                                                                  \"Repaired Already\",\n",
        "                                                                  \"Duplicate\",\n",
        "                                                                  \"Referred: Maintenance Unit\",\n",
        "                                                                  \"Repaired: Capital Project\",\n",
        "                                                                  \"No Description\",\n",
        "                                                                  \"Rescheduled: Inaccessible\",\n",
        "                                                                  \"Assigned: Field Crew\",\n",
        "                                                                  \"Referred: Inspections Unit\",\n",
        "                                                                  \"Future Maintenance Will Repair (Incomplete Decription)\",\n",
        "                                                                  \"Status Not Available\",\n",
        "                                                                  \"Future Maintenance Will Repair (Complete Decription)\",\n",
        "                                                                  \"Not in DOT Jurisdiction (Not Specified)\",\n",
        "                                                                  \"Completed or Corrected\",\n",
        "                                                                  \"See Customer Notes\",\n",
        "                                                                  \"Requires 6 Months for Response\",\n",
        "                                                                  \"Not Repaired, was in Compliance\",\n",
        "                                                                  \"Repair to be Scheduled\",\n",
        "                                                                  \"Insufficient Information to Respond\",\n",
        "                                                                  \"Not in DOT Jurisdiction (MTA)\",\n",
        "                                                                  \"Not in DOT Jurisdiction (Parks and Rec)\",\n",
        "                                                                  \"Referred: Barricaded\",\n",
        "                                                                  \"Temporarily Repaired\",\n",
        "                                                                  \"Not in DOT Jurisdiction (Other)\",\n",
        "                                                                  \"Referred: Other DOT\",\n",
        "                                                                  \"In Progress\",\n",
        "                                                                  \"Referred: Dept. Environmental Protection\",\n",
        "                                                                  \"Not in DOT Jurisdiction (State DOT)\"\n",
        "                                                                  ])"
      ],
      "execution_count": 0,
      "outputs": []
    },
    {
      "cell_type": "code",
      "metadata": {
        "id": "tXpuAy0BlusC",
        "colab_type": "code",
        "colab": {}
      },
      "source": [
        "simple_map = zip(potholes['resolution_description'].unique(), [\"Repaired\",\n",
        "                                                              \"Not Repaired\",\n",
        "                                                              \"Repaired\",\n",
        "                                                              \"Duplicate\",\n",
        "                                                              \"Not Repaired\",\n",
        "                                                              \"Repaired\",\n",
        "                                                              \"Unknown\",\n",
        "                                                              \"Not Repaired\",\n",
        "                                                              \"Not Repaired\",\n",
        "                                                              \"Not Repaired\",\n",
        "                                                              \"Not Repaired\",\n",
        "                                                              \"Unknown\",\n",
        "                                                              \"Not Repaired\",\n",
        "                                                              \"Not Repaired\",\n",
        "                                                              \"Repaired\",\n",
        "                                                              \"Unknown\",\n",
        "                                                              \"Not Repaired\",\n",
        "                                                              \"Not Repaired\",\n",
        "                                                              \"Not Repaired\",\n",
        "                                                              \"Not Repaired\",\n",
        "                                                              \"Not Repaired\",\n",
        "                                                              \"Not Repaired\",\n",
        "                                                              \"Not Repaired\",\n",
        "                                                              \"Repaired\",\n",
        "                                                              \"Not Repaired\",\n",
        "                                                              \"Not Repaired\",\n",
        "                                                              \"Repaired\",\n",
        "                                                              \"Not Repaired\",\n",
        "                                                              \"Not Repaired\"\n",
        "                                                                  ])"
      ],
      "execution_count": 0,
      "outputs": []
    },
    {
      "cell_type": "code",
      "metadata": {
        "id": "5_A34aI9Qxx0",
        "colab_type": "code",
        "colab": {}
      },
      "source": [
        "potholes['shorter_resolution_desc'] = potholes['resolution_description'].map(dict(resolution_map))\n",
        "potholes['shortest_resolution_desc'] = potholes['resolution_description'].map(dict(simple_map))"
      ],
      "execution_count": 0,
      "outputs": []
    },
    {
      "cell_type": "code",
      "metadata": {
        "id": "dhQAVbzmRABe",
        "colab_type": "code",
        "colab": {}
      },
      "source": [
        "potholes.drop(potholes[potholes['shorter_resolution_desc'] == \"Duplicate\"].index, axis=0, inplace=True)"
      ],
      "execution_count": 0,
      "outputs": []
    },
    {
      "cell_type": "markdown",
      "metadata": {
        "id": "agSU_WqZUu5S",
        "colab_type": "text"
      },
      "source": [
        "From previous work, I believe that the mean number of days for a pothole request to be resolved is different between boroughs.  We'd like to do some statistical checking to see if that's the case.  \n",
        "\n",
        "We'll limit ourselves to just a subset of potholes.\n",
        "\n",
        "We're first going to remove rows where the days to close is over 30, as these are outliers and may be linked to poor data collection procedures.  \n",
        "\n",
        "We'll also remove rows where the days to close value is missing.\n",
        "\n",
        "Finally, we'll just select rows that have a status of Closed.\n",
        "\n"
      ]
    },
    {
      "cell_type": "code",
      "metadata": {
        "id": "irCaXwTpZGTb",
        "colab_type": "code",
        "colab": {}
      },
      "source": [
        "potholes_1 = potholes[(potholes['days_to_close'].notnull()) & (potholes['days_to_close'] < 30) & (potholes['status'] == \"Closed\")]"
      ],
      "execution_count": 0,
      "outputs": []
    },
    {
      "cell_type": "code",
      "metadata": {
        "id": "ucdm5d_DYJjf",
        "colab_type": "code",
        "outputId": "00791501-6acc-4502-fa84-c5f0fb399982",
        "colab": {
          "base_uri": "https://localhost:8080/",
          "height": 513
        }
      },
      "source": [
        "import seaborn as sns\n",
        "import matplotlib.pyplot as plt\n",
        "from bokeh.palettes import Category10_5\n",
        "%matplotlib inline\n",
        "\n",
        "\n",
        "# Create a figure\n",
        "plt.figure(figsize=(10, 8))\n",
        "\n",
        "# Iterate through each borough and make a density plot (kde)\n",
        "for i, borough in enumerate(potholes_1['borough'].unique()):\n",
        "    subset = potholes_1[potholes_1['borough'] == borough]\n",
        "    sns.kdeplot(subset['days_to_close'], color = Category10_5[i], label = '%s' % borough, lw = 2 );\n",
        "\n",
        "plt.xlabel('Days to Close')\n",
        "plt.ylabel('Density')\n",
        "plt.title('Density Plot of Days to Close by Borough')\n",
        "plt.legend();"
      ],
      "execution_count": 13,
      "outputs": [
        {
          "output_type": "display_data",
          "data": {
            "image/png": "[encoded data removed]",
            "text/plain": [
              "<Figure size 720x576 with 1 Axes>"
            ]
          },
          "metadata": {
            "tags": []
          }
        }
      ]
    },
    {
      "cell_type": "code",
      "metadata": {
        "id": "9C74n1SDVBpZ",
        "colab_type": "code",
        "colab": {}
      },
      "source": [
        "from scipy import stats"
      ],
      "execution_count": 0,
      "outputs": []
    },
    {
      "cell_type": "code",
      "metadata": {
        "id": "G34eKZq1UuKI",
        "colab_type": "code",
        "outputId": "c5d8aa3d-782b-40ba-e03d-35e1fb5df6ca",
        "colab": {
          "base_uri": "https://localhost:8080/",
          "height": 34
        }
      },
      "source": [
        "stats.f_oneway(potholes_1[['days_to_close']][potholes_1['borough']==\"BRONX\"],\n",
        "               potholes_1[['days_to_close']][potholes_1['borough']==\"BROOKLYN\"],\n",
        "               potholes_1[['days_to_close']][potholes_1['borough']==\"MANHATTAN\"],\n",
        "               potholes_1[['days_to_close']][potholes_1['borough']==\"QUEENS\"],\n",
        "               potholes_1[['days_to_close']][potholes_1['borough']==\"STATEN ISLAND\"]\n",
        "              )"
      ],
      "execution_count": 15,
      "outputs": [
        {
          "output_type": "execute_result",
          "data": {
            "text/plain": [
              "F_onewayResult(statistic=array([2413.61637834]), pvalue=array([0.]))"
            ]
          },
          "metadata": {
            "tags": []
          },
          "execution_count": 15
        }
      ]
    },
    {
      "cell_type": "markdown",
      "metadata": {
        "id": "JDcmLF43WSQ6",
        "colab_type": "text"
      },
      "source": [
        "Sure looks like there's a very, very low p value.  Let's do some two-way T tests.  We'll do a couple here, and leave the rest for you to do!"
      ]
    },
    {
      "cell_type": "code",
      "metadata": {
        "id": "9R56clNLWeWa",
        "colab_type": "code",
        "outputId": "b63961fa-e062-4a65-8cb5-164de377cd0b",
        "colab": {
          "base_uri": "https://localhost:8080/",
          "height": 34
        }
      },
      "source": [
        "stats.ttest_ind(potholes_1[['days_to_close']][potholes_1['borough']==\"BRONX\"], \n",
        "                potholes_1[['days_to_close']][potholes_1['borough']==\"QUEENS\"])"
      ],
      "execution_count": 16,
      "outputs": [
        {
          "output_type": "execute_result",
          "data": {
            "text/plain": [
              "Ttest_indResult(statistic=array([35.62471398]), pvalue=array([3.42697212e-277]))"
            ]
          },
          "metadata": {
            "tags": []
          },
          "execution_count": 16
        }
      ]
    },
    {
      "cell_type": "markdown",
      "metadata": {
        "id": "sRGABIYVWvgx",
        "colab_type": "text"
      },
      "source": [
        "Wow, that's a tiny p value, which leads us to believe that we're seeing something real here in our sample data.  "
      ]
    },
    {
      "cell_type": "code",
      "metadata": {
        "id": "VXyRSQNzW8K_",
        "colab_type": "code",
        "outputId": "2b392793-057c-4b0e-e337-911a42b3bd09",
        "colab": {
          "base_uri": "https://localhost:8080/",
          "height": 34
        }
      },
      "source": [
        "stats.ttest_ind(potholes_1[['days_to_close']][potholes_1['borough']==\"BROOKLYN\"], \n",
        "                potholes_1[['days_to_close']][potholes_1['borough']==\"MANHATTAN\"])"
      ],
      "execution_count": 17,
      "outputs": [
        {
          "output_type": "execute_result",
          "data": {
            "text/plain": [
              "Ttest_indResult(statistic=array([33.31122897]), pvalue=array([1.20464299e-242]))"
            ]
          },
          "metadata": {
            "tags": []
          },
          "execution_count": 17
        }
      ]
    },
    {
      "cell_type": "markdown",
      "metadata": {
        "id": "TwD5VyDSXEJb",
        "colab_type": "text"
      },
      "source": [
        "Again, a super tiny p value.   This certainly appears to reflect a significant difference.   But while these differences have **statistical** significance, are they really that different?   Let's measure Cohen's effect size (d):"
      ]
    },
    {
      "cell_type": "code",
      "metadata": {
        "id": "_twC0LIQcJwt",
        "colab_type": "code",
        "colab": {}
      },
      "source": [
        "from numpy import var, mean\n",
        "from math import sqrt\n",
        "def cohens_d (first, second):\n",
        "  s1, s2 = var(first, ddof=1), var(second, ddof=1)\n",
        "  # calculate pooled standard deviation\n",
        "  std = sqrt(((len(first) - 1) * s1 + (len(second) - 1) * s2) / (len(first) + len(second) - 2))\n",
        "  return (mean(first)-  mean(second)) / std"
      ],
      "execution_count": 0,
      "outputs": []
    },
    {
      "cell_type": "code",
      "metadata": {
        "id": "cR7B5uHHdItT",
        "colab_type": "code",
        "colab": {
          "base_uri": "https://localhost:8080/",
          "height": 51
        },
        "outputId": "021fa93a-24ef-42d3-8d51-fbcb1999642f"
      },
      "source": [
        "cohens_d(potholes_1[['days_to_close']][potholes_1['borough']==\"BRONX\"], \n",
        "                potholes_1[['days_to_close']][potholes_1['borough']==\"QUEENS\"])"
      ],
      "execution_count": 19,
      "outputs": [
        {
          "output_type": "execute_result",
          "data": {
            "text/plain": [
              "days_to_close    0.165342\n",
              "dtype: float64"
            ]
          },
          "metadata": {
            "tags": []
          },
          "execution_count": 19
        }
      ]
    },
    {
      "cell_type": "code",
      "metadata": {
        "id": "fCtJBGbEfelW",
        "colab_type": "code",
        "colab": {
          "base_uri": "https://localhost:8080/",
          "height": 51
        },
        "outputId": "37bd718a-62f4-4e15-a369-3a6445f21e9b"
      },
      "source": [
        "cohens_d(potholes_1[['days_to_close']][potholes_1['borough']==\"BROOKLYN\"], \n",
        "                potholes_1[['days_to_close']][potholes_1['borough']==\"MANHATTAN\"])"
      ],
      "execution_count": 20,
      "outputs": [
        {
          "output_type": "execute_result",
          "data": {
            "text/plain": [
              "days_to_close    0.151906\n",
              "dtype: float64"
            ]
          },
          "metadata": {
            "tags": []
          },
          "execution_count": 20
        }
      ]
    },
    {
      "cell_type": "markdown",
      "metadata": {
        "id": "UMbv1mAGdd4-",
        "colab_type": "text"
      },
      "source": [
        "That's a pretty small effect size.  What it's telling us is that the variation within these two boroughs is much larger than the difference between them."
      ]
    }
  ]
}